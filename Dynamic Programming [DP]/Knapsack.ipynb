{
 "cells": [
  {
   "cell_type": "markdown",
   "id": "c2e4f9cd",
   "metadata": {},
   "source": [
    "# <center><i>Knapsack Problem</i></center>"
   ]
  },
  {
   "cell_type": "markdown",
   "id": "e507f26f",
   "metadata": {},
   "source": [
    "* The Knapsack problem is a classic optimization problem in computer science and mathematics. Imagine you have a knapsack (or backpack) with a limited capacity, and you're given a set of items, each with its own weight and value. The goal is to maximize the value of the items you can fit into the knapsack without exceeding its capacity.\n",
    "\n",
    "* Dynamic programming (DP) is a popular approach to solving the Knapsack problem. In DP, you break down the problem into smaller subproblems and solve each subproblem only once, storing the solutions to avoid redundant calculations. For the Knapsack problem, DP involves creating a table to store the maximum value that can be achieved for different combinations of items and capacities. By iteratively filling in this table based on the values of smaller subproblems, DP efficiently finds the optimal solution to the Knapsack problem."
   ]
  },
  {
   "cell_type": "markdown",
   "id": "3a7eb332",
   "metadata": {},
   "source": [
    "### <b>0/1 Knapsack Problem</b>"
   ]
  },
  {
   "cell_type": "markdown",
   "id": "d1c375db",
   "metadata": {},
   "source": [
    "The 0/1 Knapsack problem is like packing a knapsack with items, each having a weight and value, but with a twist: you can only choose each item once (0 or 1). Given the knapsack's limited capacity, the goal is to maximize the total value of the items you can carry without exceeding the weight limit. This problem is challenging because you must decide whether to include each item or not, making it a classic optimization puzzle tackled using techniques like dynamic programming."
   ]
  },
  {
   "cell_type": "markdown",
   "id": "d9bd09df",
   "metadata": {},
   "source": [
    "### Sample Problem\n",
    "\n",
    "You are given weights and values of N items, put these items in a knapsack of capacity W to get the maximum total value in the knapsack. Note that we have only one quantity of each item.\n",
    "In other words, given two integer arrays val[0..N-1] and wt[0..N-1] which represent values and weights associated with N items respectively. Also given an integer W which represents knapsack capacity, find out the maximum value subset of val[] such that sum of the weights of this subset is smaller than or equal to W. You cannot break an item, either pick the complete item or dont pick it (0-1 property).\n",
    "\n",
    "Example 1:\n",
    "\n",
    "Input:\n",
    "N = 3\n",
    "W = 4\n",
    "values[] = {1,2,3}\n",
    "weight[] = {4,5,1}\n",
    "Output: 3\n",
    "Explanation: Choose the last item that weighs 1 unit and holds a value of 3. \n",
    "Example 2:\n",
    "\n",
    "Input:\n",
    "N = 3\n",
    "W = 3\n",
    "values[] = {1,2,3}\n",
    "weight[] = {4,5,6}\n",
    "Output: 0\n",
    "Explanation: Every item has a weight exceeding the knapsack's capacity (3).\n",
    "Your Task:\n",
    "Complete the function knapSack() which takes maximum capacity W, weight array wt[], value array val[], and the number of items n as a parameter and returns the maximum possible value you can get.\n",
    "\n",
    "Expected Time Complexity: O(N*W).\n",
    "Expected Auxiliary Space: O(N*W)\n",
    "\n",
    "Constraints:\n",
    "1 ≤ N ≤ 1000\n",
    "1 ≤ W ≤ 1000\n",
    "1 ≤ wt[i] ≤ 1000\n",
    "1 ≤ v[i] ≤ 1000"
   ]
  },
  {
   "cell_type": "code",
   "execution_count": 2,
   "id": "0cb692e3",
   "metadata": {},
   "outputs": [
    {
     "name": "stdout",
     "output_type": "stream",
     "text": [
      "3\n",
      "4\n",
      "1 2 3\n",
      "4 5 1\n"
     ]
    },
    {
     "data": {
      "text/plain": [
       "3"
      ]
     },
     "execution_count": 2,
     "metadata": {},
     "output_type": "execute_result"
    }
   ],
   "source": [
    "### 1. MemoiZation Approach\n",
    "\n",
    "N = int(input())\n",
    "W = int(input())\n",
    "val = list(map(int,input().strip().split()))\n",
    "wt = list(map(int,input().strip().split()))\n",
    "\n",
    "def knapSack(W, wt, val, N):\n",
    "    dp = {}\n",
    "    def solve(n, cap):\n",
    "        if n == 0 or cap == 0:\n",
    "            return 0\n",
    "        elif (n,cap) in dp:\n",
    "            return dp[(n,cap)]\n",
    "        else:\n",
    "            cwt = wt[n-1]\n",
    "            cv = val[n-1]\n",
    "            if cwt <= cap:\n",
    "                c1 = cv + solve(n-1, cap - cwt)\n",
    "                c2 = solve(n-1, cap)\n",
    "                c =  max(c1,c2)\n",
    "            else:\n",
    "                c = solve(n-1, cap)\n",
    "\n",
    "            dp[(n,cap)] = c\n",
    "            return c\n",
    "    return solve(N,W)\n",
    "\n",
    "knapSack(W, wt, val, N)"
   ]
  },
  {
   "cell_type": "markdown",
   "id": "0a95d7f3",
   "metadata": {},
   "source": [
    "#### subset problem\n",
    "\n",
    "https://www.geeksforgeeks.org/problems/subset-sum-problem-1611555638/1"
   ]
  },
  {
   "cell_type": "code",
   "execution_count": 1,
   "id": "3c7968cc",
   "metadata": {},
   "outputs": [
    {
     "name": "stdout",
     "output_type": "stream",
     "text": [
      "6\n",
      "3 34 4 12 5 2\n",
      "9\n"
     ]
    },
    {
     "data": {
      "text/plain": [
       "1"
      ]
     },
     "execution_count": 1,
     "metadata": {},
     "output_type": "execute_result"
    }
   ],
   "source": [
    "N = int(input())\n",
    "arr = input().split()\n",
    "for itr in range(N):\n",
    "    arr[itr] = int(arr[itr])\n",
    "sum = int(input())\n",
    "\n",
    "def isSubsetSum(N, arr, sum):\n",
    "        dp = {}\n",
    "        arr.sort(reverse = True)\n",
    "        def solve(n, sm):\n",
    "            if sm == 0:\n",
    "                return 1\n",
    "            elif n == 0:\n",
    "                return 0\n",
    "            elif (n, sm) in dp:\n",
    "                return dp[(n,sm)]\n",
    "            else:\n",
    "                item = arr[n-1]\n",
    "                if item <= sm:\n",
    "                    c1 = solve(n-1, sm - item)\n",
    "                    c2 = solve(n-1, sm)\n",
    "                    c = c1 or c2\n",
    "                else:\n",
    "                    c = 0\n",
    "                    \n",
    "                dp[(n,sm)] = c\n",
    "                return c\n",
    "        return solve(N,sum)\n",
    "    \n",
    "isSubsetSum(N, arr, sum)"
   ]
  },
  {
   "cell_type": "code",
   "execution_count": null,
   "id": "15a7819b",
   "metadata": {},
   "outputs": [],
   "source": []
  }
 ],
 "metadata": {
  "kernelspec": {
   "display_name": "Python 3 (ipykernel)",
   "language": "python",
   "name": "python3"
  },
  "language_info": {
   "codemirror_mode": {
    "name": "ipython",
    "version": 3
   },
   "file_extension": ".py",
   "mimetype": "text/x-python",
   "name": "python",
   "nbconvert_exporter": "python",
   "pygments_lexer": "ipython3",
   "version": "3.11.1"
  }
 },
 "nbformat": 4,
 "nbformat_minor": 5
}
