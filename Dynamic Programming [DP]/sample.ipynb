{
 "cells": [
  {
   "cell_type": "markdown",
   "id": "306c0a2b",
   "metadata": {},
   "source": [
    "# <center>Dynamic Programming [DP]</center>"
   ]
  },
  {
   "cell_type": "markdown",
   "id": "520770fd",
   "metadata": {},
   "source": [
    "* <b><i>Dynamic Programming (DP)</b></i> is like solving a big puzzle by first solving smaller parts and remembering their solutions. It's helpful when you have a complex problem that can be broken down into simpler pieces. Unlike simply solving each piece separately, DP saves time by storing solutions in a table. This way, when you encounter a piece you've solved before, you don't need to solve it again.\n",
    "<br>\n",
    "* In comparision to Recursion, even this breaks down problems into smaller parts, but it doesn't remember solutions. It's like solving a puzzle by repeatedly breaking it into smaller pieces until you reach the smallest part. Recursion is great for some problems, but it can be slow if the same pieces are solved many times. DP is more efficient because it saves solutions, making it quicker for certain types of puzzles."
   ]
  },
  {
   "cell_type": "code",
   "execution_count": 1,
   "id": "06ccb65b",
   "metadata": {},
   "outputs": [
    {
     "name": "stdout",
     "output_type": "stream",
     "text": [
      "610\n"
     ]
    }
   ],
   "source": [
    "### A sample program that can be seen through Fibonacci series example\n",
    "\n",
    "def fib(n, dp):\n",
    "    if n == 0 or n == 1:\n",
    "        return n\n",
    "    elif dp[n] != -1:\n",
    "        return dp[n]    #### here dp helps to reduce the execution time by returning the stored values\n",
    "    else:\n",
    "        dp[n] = fib(n-1,dp) + fib(n-2,dp) ### dp stores the values here\n",
    "        return dp[n]\n",
    "    \n",
    "dp = [-1] * 99\n",
    "print(fib(15,dp))"
   ]
  }
 ],
 "metadata": {
  "kernelspec": {
   "display_name": "Python 3 (ipykernel)",
   "language": "python",
   "name": "python3"
  },
  "language_info": {
   "codemirror_mode": {
    "name": "ipython",
    "version": 3
   },
   "file_extension": ".py",
   "mimetype": "text/x-python",
   "name": "python",
   "nbconvert_exporter": "python",
   "pygments_lexer": "ipython3",
   "version": "3.11.1"
  }
 },
 "nbformat": 4,
 "nbformat_minor": 5
}
