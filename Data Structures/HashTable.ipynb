{
 "cells": [
  {
   "cell_type": "markdown",
   "id": "a3891db3",
   "metadata": {},
   "source": [
    "### Hash Table"
   ]
  },
  {
   "cell_type": "code",
   "execution_count": 42,
   "id": "316f46e7",
   "metadata": {},
   "outputs": [],
   "source": [
    "class HashTable:\n",
    "    \n",
    "    def __init__(self):\n",
    "        self.MAX = 100\n",
    "        self.arr = [None for ele in range(self.MAX)]\n",
    "        \n",
    "    def get_hash(self,key):\n",
    "        h = 0\n",
    "        for i in key:\n",
    "            h += ord(i) # gets the ASCII value of a symbol or alphabet\n",
    "        return h % self.MAX\n",
    "    \n",
    "    def add(self, key, value):\n",
    "        h = self.get_hash(key)\n",
    "        self.arr[h] = value\n",
    "        \n",
    "    def get(self,key):\n",
    "        h = self.get_hash(key)\n",
    "        return self.arr[h]\n",
    "    \n",
    "    ### more effecient methods of get and set/add objects we have the following\n",
    "    def __setitem__(self, key, value):\n",
    "        h = self.get_hash(key)\n",
    "        self.arr[h] = value\n",
    "        \n",
    "    def __getitem__(self,key):\n",
    "        h = self.get_hash(key)\n",
    "        return self.arr[h]\n",
    "    \n",
    "    def __delitem__(self, key):\n",
    "        h = self.get_hash(key)\n",
    "        self.arr[h] = None\n",
    "    \n",
    "        "
   ]
  },
  {
   "cell_type": "code",
   "execution_count": 43,
   "id": "e444981d",
   "metadata": {},
   "outputs": [
    {
     "data": {
      "text/plain": [
       "90"
      ]
     },
     "execution_count": 43,
     "metadata": {},
     "output_type": "execute_result"
    }
   ],
   "source": [
    "ht = HashTable()\n",
    "ht.get_hash('march 6 1')"
   ]
  },
  {
   "cell_type": "code",
   "execution_count": 44,
   "id": "1fbb12ab",
   "metadata": {},
   "outputs": [],
   "source": [
    "ht.add('march', 31)"
   ]
  },
  {
   "cell_type": "code",
   "execution_count": 45,
   "id": "406cb9c6",
   "metadata": {},
   "outputs": [
    {
     "data": {
      "text/plain": [
       "31"
      ]
     },
     "execution_count": 45,
     "metadata": {},
     "output_type": "execute_result"
    }
   ],
   "source": [
    "ht.get('march')"
   ]
  },
  {
   "cell_type": "code",
   "execution_count": 46,
   "id": "f2cc1741",
   "metadata": {},
   "outputs": [
    {
     "data": {
      "text/plain": [
       "[None,\n",
       " None,\n",
       " None,\n",
       " None,\n",
       " None,\n",
       " None,\n",
       " None,\n",
       " None,\n",
       " None,\n",
       " None,\n",
       " None,\n",
       " None,\n",
       " None,\n",
       " None,\n",
       " None,\n",
       " None,\n",
       " None,\n",
       " None,\n",
       " None,\n",
       " None,\n",
       " None,\n",
       " None,\n",
       " None,\n",
       " 31,\n",
       " None,\n",
       " None,\n",
       " None,\n",
       " None,\n",
       " None,\n",
       " None,\n",
       " None,\n",
       " None,\n",
       " None,\n",
       " None,\n",
       " None,\n",
       " None,\n",
       " None,\n",
       " None,\n",
       " None,\n",
       " None,\n",
       " None,\n",
       " None,\n",
       " None,\n",
       " None,\n",
       " None,\n",
       " None,\n",
       " None,\n",
       " None,\n",
       " None,\n",
       " None,\n",
       " None,\n",
       " None,\n",
       " None,\n",
       " None,\n",
       " None,\n",
       " None,\n",
       " None,\n",
       " None,\n",
       " None,\n",
       " None,\n",
       " None,\n",
       " None,\n",
       " None,\n",
       " None,\n",
       " None,\n",
       " None,\n",
       " None,\n",
       " None,\n",
       " None,\n",
       " None,\n",
       " None,\n",
       " None,\n",
       " None,\n",
       " None,\n",
       " None,\n",
       " None,\n",
       " None,\n",
       " None,\n",
       " None,\n",
       " None,\n",
       " None,\n",
       " None,\n",
       " None,\n",
       " None,\n",
       " None,\n",
       " None,\n",
       " None,\n",
       " None,\n",
       " None,\n",
       " None,\n",
       " None,\n",
       " None,\n",
       " None,\n",
       " None,\n",
       " None,\n",
       " None,\n",
       " None,\n",
       " None,\n",
       " None,\n",
       " None]"
      ]
     },
     "execution_count": 46,
     "metadata": {},
     "output_type": "execute_result"
    }
   ],
   "source": [
    "ht.arr"
   ]
  },
  {
   "cell_type": "code",
   "execution_count": 47,
   "id": "501776ee",
   "metadata": {},
   "outputs": [],
   "source": [
    "ht['april'] = 37\n",
    "ht['may'] = 38"
   ]
  },
  {
   "cell_type": "code",
   "execution_count": 48,
   "id": "513a7207",
   "metadata": {},
   "outputs": [
    {
     "data": {
      "text/plain": [
       "31"
      ]
     },
     "execution_count": 48,
     "metadata": {},
     "output_type": "execute_result"
    }
   ],
   "source": [
    "ht['march']"
   ]
  },
  {
   "cell_type": "code",
   "execution_count": 49,
   "id": "5d1c378b",
   "metadata": {},
   "outputs": [
    {
     "data": {
      "text/plain": [
       "37"
      ]
     },
     "execution_count": 49,
     "metadata": {},
     "output_type": "execute_result"
    }
   ],
   "source": [
    "ht['april']"
   ]
  },
  {
   "cell_type": "code",
   "execution_count": 50,
   "id": "b948d737",
   "metadata": {},
   "outputs": [
    {
     "data": {
      "text/plain": [
       "38"
      ]
     },
     "execution_count": 50,
     "metadata": {},
     "output_type": "execute_result"
    }
   ],
   "source": [
    "ht['may']"
   ]
  },
  {
   "cell_type": "code",
   "execution_count": 51,
   "id": "4686b962",
   "metadata": {},
   "outputs": [],
   "source": [
    "del ht['may']"
   ]
  },
  {
   "cell_type": "code",
   "execution_count": 52,
   "id": "79945b8d",
   "metadata": {},
   "outputs": [],
   "source": [
    "ht['may']"
   ]
  },
  {
   "cell_type": "code",
   "execution_count": 53,
   "id": "17a652ad",
   "metadata": {},
   "outputs": [
    {
     "data": {
      "text/plain": [
       "[None,\n",
       " None,\n",
       " None,\n",
       " None,\n",
       " None,\n",
       " None,\n",
       " None,\n",
       " None,\n",
       " None,\n",
       " None,\n",
       " None,\n",
       " None,\n",
       " None,\n",
       " None,\n",
       " None,\n",
       " None,\n",
       " None,\n",
       " None,\n",
       " None,\n",
       " None,\n",
       " None,\n",
       " None,\n",
       " None,\n",
       " 31,\n",
       " None,\n",
       " None,\n",
       " None,\n",
       " None,\n",
       " None,\n",
       " None,\n",
       " None,\n",
       " None,\n",
       " None,\n",
       " None,\n",
       " None,\n",
       " None,\n",
       " 37,\n",
       " None,\n",
       " None,\n",
       " None,\n",
       " None,\n",
       " None,\n",
       " None,\n",
       " None,\n",
       " None,\n",
       " None,\n",
       " None,\n",
       " None,\n",
       " None,\n",
       " None,\n",
       " None,\n",
       " None,\n",
       " None,\n",
       " None,\n",
       " None,\n",
       " None,\n",
       " None,\n",
       " None,\n",
       " None,\n",
       " None,\n",
       " None,\n",
       " None,\n",
       " None,\n",
       " None,\n",
       " None,\n",
       " None,\n",
       " None,\n",
       " None,\n",
       " None,\n",
       " None,\n",
       " None,\n",
       " None,\n",
       " None,\n",
       " None,\n",
       " None,\n",
       " None,\n",
       " None,\n",
       " None,\n",
       " None,\n",
       " None,\n",
       " None,\n",
       " None,\n",
       " None,\n",
       " None,\n",
       " None,\n",
       " None,\n",
       " None,\n",
       " None,\n",
       " None,\n",
       " None,\n",
       " None,\n",
       " None,\n",
       " None,\n",
       " None,\n",
       " None,\n",
       " None,\n",
       " None,\n",
       " None,\n",
       " None,\n",
       " None]"
      ]
     },
     "execution_count": 53,
     "metadata": {},
     "output_type": "execute_result"
    }
   ],
   "source": [
    "ht.arr"
   ]
  },
  {
   "cell_type": "markdown",
   "id": "36926fef",
   "metadata": {},
   "source": [
    "### Handling collision in Hash Table"
   ]
  },
  {
   "cell_type": "code",
   "execution_count": 1,
   "id": "3a61390c",
   "metadata": {},
   "outputs": [],
   "source": [
    "class HashTable:  \n",
    "    def __init__(self):\n",
    "        self.MAX = 10\n",
    "        self.arr = [[] for i in range(self.MAX)]\n",
    "        \n",
    "    def get_hash(self, key):\n",
    "        hash = 0\n",
    "        for char in key:\n",
    "            hash += ord(char)\n",
    "        return hash % self.MAX\n",
    "    \n",
    "    def __getitem__(self, key):\n",
    "        arr_index = self.get_hash(key)\n",
    "        for kv in self.arr[arr_index]:\n",
    "            if kv[0] == key:\n",
    "                return kv[1]\n",
    "            \n",
    "    def __setitem__(self, key, val):\n",
    "        h = self.get_hash(key)\n",
    "        found = False\n",
    "        for idx, element in enumerate(self.arr[h]):\n",
    "            if len(element)==2 and element[0] == key:\n",
    "                self.arr[h][idx] = (key,val)\n",
    "                found = True\n",
    "        if not found:\n",
    "            self.arr[h].append((key,val))\n",
    "        \n",
    "    def __delitem__(self, key):\n",
    "        arr_index = self.get_hash(key)\n",
    "        for index, kv in enumerate(self.arr[arr_index]):\n",
    "            if kv[0] == key:\n",
    "                print(\"del\",index)\n",
    "                del self.arr[arr_index][index]"
   ]
  },
  {
   "cell_type": "code",
   "execution_count": 2,
   "id": "0ca5b67c",
   "metadata": {},
   "outputs": [],
   "source": [
    "t = HashTable()\n",
    "t[\"march 6\"] = 310\n",
    "t[\"march 7\"] = 420\n",
    "t[\"march 8\"] = 67\n",
    "t[\"march 17\"] = 63457"
   ]
  },
  {
   "cell_type": "code",
   "execution_count": 3,
   "id": "61498c8f",
   "metadata": {},
   "outputs": [
    {
     "data": {
      "text/plain": [
       "310"
      ]
     },
     "execution_count": 3,
     "metadata": {},
     "output_type": "execute_result"
    }
   ],
   "source": [
    "t[\"march 6\"]"
   ]
  },
  {
   "cell_type": "code",
   "execution_count": 4,
   "id": "fffc318f",
   "metadata": {},
   "outputs": [
    {
     "data": {
      "text/plain": [
       "63457"
      ]
     },
     "execution_count": 4,
     "metadata": {},
     "output_type": "execute_result"
    }
   ],
   "source": [
    "t[\"march 17\"]"
   ]
  },
  {
   "cell_type": "code",
   "execution_count": 5,
   "id": "53b4e87a",
   "metadata": {},
   "outputs": [
    {
     "data": {
      "text/plain": [
       "[[('march 7', 420)],\n",
       " [('march 8', 67)],\n",
       " [],\n",
       " [],\n",
       " [],\n",
       " [],\n",
       " [],\n",
       " [],\n",
       " [],\n",
       " [('march 6', 310), ('march 17', 63457)]]"
      ]
     },
     "execution_count": 5,
     "metadata": {},
     "output_type": "execute_result"
    }
   ],
   "source": [
    "t.arr"
   ]
  },
  {
   "cell_type": "code",
   "execution_count": 6,
   "id": "05226bac",
   "metadata": {},
   "outputs": [],
   "source": [
    "t[\"march 6\"] = 11"
   ]
  },
  {
   "cell_type": "code",
   "execution_count": 7,
   "id": "7679b3ed",
   "metadata": {},
   "outputs": [
    {
     "data": {
      "text/plain": [
       "[[('march 7', 420)],\n",
       " [('march 8', 67)],\n",
       " [],\n",
       " [],\n",
       " [],\n",
       " [],\n",
       " [],\n",
       " [],\n",
       " [],\n",
       " [('march 6', 11), ('march 17', 63457)]]"
      ]
     },
     "execution_count": 7,
     "metadata": {},
     "output_type": "execute_result"
    }
   ],
   "source": [
    "t.arr"
   ]
  },
  {
   "cell_type": "code",
   "execution_count": 8,
   "id": "061cdc6f",
   "metadata": {},
   "outputs": [
    {
     "data": {
      "text/plain": [
       "11"
      ]
     },
     "execution_count": 8,
     "metadata": {},
     "output_type": "execute_result"
    }
   ],
   "source": [
    "t[\"march 6\"]"
   ]
  },
  {
   "cell_type": "code",
   "execution_count": 9,
   "id": "c3aea735",
   "metadata": {},
   "outputs": [
    {
     "name": "stdout",
     "output_type": "stream",
     "text": [
      "del 0\n"
     ]
    }
   ],
   "source": [
    "del t[\"march 6\"]"
   ]
  },
  {
   "cell_type": "code",
   "execution_count": 11,
   "id": "52e898aa",
   "metadata": {},
   "outputs": [
    {
     "data": {
      "text/plain": [
       "[[('march 7', 420)],\n",
       " [('march 8', 67)],\n",
       " [],\n",
       " [],\n",
       " [],\n",
       " [],\n",
       " [],\n",
       " [],\n",
       " [],\n",
       " [('march 17', 63457)]]"
      ]
     },
     "execution_count": 11,
     "metadata": {},
     "output_type": "execute_result"
    }
   ],
   "source": [
    "t.arr"
   ]
  },
  {
   "cell_type": "markdown",
   "id": "13cfb231",
   "metadata": {},
   "source": [
    "# Exercise 1: From nyc_weather.csv contains new york city weather for first few days in the month of January. Write a program that can answer following,\n",
    "1. What was the average temperature in first week of Jan\n",
    "2. What was the maximum temperature in first 10 days of Jan\n",
    "3. Figure out data structure that is best for this problem"
   ]
  },
  {
   "cell_type": "markdown",
   "id": "1ea1de83",
   "metadata": {},
   "source": [
    "###### A: The best data structure to use here was a list because all we wanted was access of temperature elements"
   ]
  },
  {
   "cell_type": "code",
   "execution_count": 18,
   "id": "2aa66afa",
   "metadata": {},
   "outputs": [
    {
     "name": "stdout",
     "output_type": "stream",
     "text": [
      "Invalid temperature.Ignore the row\n"
     ]
    }
   ],
   "source": [
    "arr = []\n",
    "\n",
    "with open(\"Datasets/nyc_weather.csv\",\"r\") as f:\n",
    "    for line in f:\n",
    "        tokens = line.split(',')\n",
    "        try:\n",
    "            temperature = int(tokens[1])\n",
    "            arr.append(temperature)\n",
    "        except:\n",
    "            print(\"Invalid temperature.Ignore the row\")"
   ]
  },
  {
   "cell_type": "code",
   "execution_count": 19,
   "id": "0366525e",
   "metadata": {},
   "outputs": [
    {
     "data": {
      "text/plain": [
       "[27, 31, 23, 34, 37, 38, 29, 30, 35, 30]"
      ]
     },
     "execution_count": 19,
     "metadata": {},
     "output_type": "execute_result"
    }
   ],
   "source": [
    "arr"
   ]
  },
  {
   "cell_type": "markdown",
   "id": "d8496a5a",
   "metadata": {},
   "source": [
    "What was the average temperature in first week of Jan"
   ]
  },
  {
   "cell_type": "code",
   "execution_count": 20,
   "id": "8fa0d62a",
   "metadata": {},
   "outputs": [
    {
     "data": {
      "text/plain": [
       "31.285714285714285"
      ]
     },
     "execution_count": 20,
     "metadata": {},
     "output_type": "execute_result"
    }
   ],
   "source": [
    "sum(arr[0:7])/len(arr[0:7])"
   ]
  },
  {
   "cell_type": "markdown",
   "id": "2ad28208",
   "metadata": {},
   "source": [
    "What was the maximum temperature in first 10 days of Jan"
   ]
  },
  {
   "cell_type": "code",
   "execution_count": 21,
   "id": "f814d366",
   "metadata": {},
   "outputs": [
    {
     "data": {
      "text/plain": [
       "38"
      ]
     },
     "execution_count": 21,
     "metadata": {},
     "output_type": "execute_result"
    }
   ],
   "source": [
    "max(arr[0:10])"
   ]
  },
  {
   "cell_type": "markdown",
   "id": "0a8f1a87",
   "metadata": {},
   "source": [
    "# Exercise 2: nyc_weather.csv contains new york city weather for first few days in the month of January. Write a program that can answer following,\n",
    "1. What was the temperature on Jan 9?\n",
    "2. What was the temperature on Jan 4?\n",
    "* Figure out data structure that is best for this problem"
   ]
  },
  {
   "cell_type": "markdown",
   "id": "f6ffc98f",
   "metadata": {},
   "source": [
    "###### A:The best data structure to use here was a dictionary (internally a hash table) because we wanted to know temperature for specific day, requiring key, value pair access where you can look up an element by day using O(1) complexity "
   ]
  },
  {
   "cell_type": "code",
   "execution_count": 24,
   "id": "63ef0cd9",
   "metadata": {},
   "outputs": [
    {
     "name": "stdout",
     "output_type": "stream",
     "text": [
      "Invalid temperature.Ignore the row\n"
     ]
    }
   ],
   "source": [
    "weather_dict = {}\n",
    "\n",
    "with open(\"Datasets/nyc_weather.csv\",\"r\") as f:\n",
    "    for line in f:\n",
    "        tokens = line.split(',')\n",
    "        day = tokens[0]\n",
    "        try:\n",
    "            temperature = int(tokens[1])\n",
    "            weather_dict[day] = temperature\n",
    "        except:\n",
    "            print(\"Invalid temperature.Ignore the row\")"
   ]
  },
  {
   "cell_type": "code",
   "execution_count": 25,
   "id": "10bda23b",
   "metadata": {},
   "outputs": [
    {
     "data": {
      "text/plain": [
       "{'Jan 1': 27,\n",
       " 'Jan 2': 31,\n",
       " 'Jan 3': 23,\n",
       " 'Jan 4': 34,\n",
       " 'Jan 5': 37,\n",
       " 'Jan 6': 38,\n",
       " 'Jan 7': 29,\n",
       " 'Jan 8': 30,\n",
       " 'Jan 9': 35,\n",
       " 'Jan 10': 30}"
      ]
     },
     "execution_count": 25,
     "metadata": {},
     "output_type": "execute_result"
    }
   ],
   "source": [
    "weather_dict"
   ]
  },
  {
   "cell_type": "markdown",
   "id": "dd837537",
   "metadata": {},
   "source": [
    "What was the temperature on Jan 9"
   ]
  },
  {
   "cell_type": "code",
   "execution_count": 28,
   "id": "832166d1",
   "metadata": {},
   "outputs": [
    {
     "data": {
      "text/plain": [
       "35"
      ]
     },
     "execution_count": 28,
     "metadata": {},
     "output_type": "execute_result"
    }
   ],
   "source": [
    "weather_dict['Jan 9']"
   ]
  },
  {
   "cell_type": "markdown",
   "id": "9d04db15",
   "metadata": {},
   "source": [
    "What was the temperature on Jan 4"
   ]
  },
  {
   "cell_type": "code",
   "execution_count": 29,
   "id": "7b64fe5b",
   "metadata": {},
   "outputs": [
    {
     "data": {
      "text/plain": [
       "34"
      ]
     },
     "execution_count": 29,
     "metadata": {},
     "output_type": "execute_result"
    }
   ],
   "source": [
    "weather_dict['Jan 4']"
   ]
  },
  {
   "cell_type": "markdown",
   "id": "6c666759",
   "metadata": {},
   "source": [
    "# Exercise 3: poem.txt Contains famous poem \"Road not taken\" by poet Robert Frost. You have to read this file in python and print every word and its count as show below. Think about the best data structure that you can use to solve this problem and figure out why you selected that specific data structure."
   ]
  },
  {
   "cell_type": "markdown",
   "id": "12b5b2a1",
   "metadata": {},
   "source": [
    "###### A: Dictionary is choosen as the datastructure"
   ]
  },
  {
   "cell_type": "code",
   "execution_count": 3,
   "id": "6c2e5645",
   "metadata": {},
   "outputs": [
    {
     "name": "stdout",
     "output_type": "stream",
     "text": [
      "Two roads diverged in a yellow wood,\n",
      "\n",
      "And sorry I could not travel both\n",
      "\n",
      "And be one traveler, long I stood\n",
      "\n",
      "And looked down one as far as I could\n",
      "\n",
      "To where it bent in the undergrowth;\n",
      "\n",
      "\n",
      "\n",
      "Then took the other, as just as fair,\n",
      "\n",
      "And having perhaps the better claim,\n",
      "\n",
      "Because it was grassy and wanted wear;\n",
      "\n",
      "Though as for that the passing there\n",
      "\n",
      "Had worn them really about the same,\n",
      "\n",
      "\n",
      "\n",
      "And both that morning equally lay\n",
      "\n",
      "In leaves no step had trodden black.\n",
      "\n",
      "Oh, I kept the first for another day!\n",
      "\n",
      "Yet knowing how way leads on to way,\n",
      "\n",
      "I doubted if I should ever come back.\n",
      "\n",
      "\n",
      "\n",
      "I shall be telling this with a sigh\n",
      "\n",
      "Somewhere ages and ages hence:\n",
      "\n",
      "Two roads diverged in a wood, and Iâ€”\n",
      "\n",
      "I took the one less traveled by,\n",
      "\n",
      "And that has made all the difference.\n"
     ]
    }
   ],
   "source": [
    "with open(\"Datasets/poem.txt\",\"r\") as f:\n",
    "    for line in f:\n",
    "        print(line)"
   ]
  },
  {
   "cell_type": "code",
   "execution_count": 5,
   "id": "744831c8",
   "metadata": {},
   "outputs": [],
   "source": [
    "word_count = {}\n",
    "with open(\"Datasets/poem.txt\",\"r\") as f:\n",
    "    for line in f:\n",
    "        tokens = line.split(' ')\n",
    "        for token in tokens:\n",
    "            token=token.replace('\\n','')\n",
    "            if token in word_count:\n",
    "                word_count[token]+=1\n",
    "            else:\n",
    "                word_count[token]=1"
   ]
  },
  {
   "cell_type": "code",
   "execution_count": 6,
   "id": "e37b9b2f",
   "metadata": {},
   "outputs": [
    {
     "data": {
      "text/plain": [
       "{'Two': 2,\n",
       " 'roads': 2,\n",
       " 'diverged': 2,\n",
       " 'in': 3,\n",
       " 'a': 3,\n",
       " 'yellow': 1,\n",
       " 'wood,': 2,\n",
       " 'And': 6,\n",
       " 'sorry': 1,\n",
       " 'I': 8,\n",
       " 'could': 2,\n",
       " 'not': 1,\n",
       " 'travel': 1,\n",
       " 'both': 2,\n",
       " 'be': 2,\n",
       " 'one': 3,\n",
       " 'traveler,': 1,\n",
       " 'long': 1,\n",
       " 'stood': 1,\n",
       " 'looked': 1,\n",
       " 'down': 1,\n",
       " 'as': 5,\n",
       " 'far': 1,\n",
       " 'To': 1,\n",
       " 'where': 1,\n",
       " 'it': 2,\n",
       " 'bent': 1,\n",
       " 'the': 8,\n",
       " 'undergrowth;': 1,\n",
       " '': 3,\n",
       " 'Then': 1,\n",
       " 'took': 2,\n",
       " 'other,': 1,\n",
       " 'just': 1,\n",
       " 'fair,': 1,\n",
       " 'having': 1,\n",
       " 'perhaps': 1,\n",
       " 'better': 1,\n",
       " 'claim,': 1,\n",
       " 'Because': 1,\n",
       " 'was': 1,\n",
       " 'grassy': 1,\n",
       " 'and': 3,\n",
       " 'wanted': 1,\n",
       " 'wear;': 1,\n",
       " 'Though': 1,\n",
       " 'for': 2,\n",
       " 'that': 3,\n",
       " 'passing': 1,\n",
       " 'there': 1,\n",
       " 'Had': 1,\n",
       " 'worn': 1,\n",
       " 'them': 1,\n",
       " 'really': 1,\n",
       " 'about': 1,\n",
       " 'same,': 1,\n",
       " 'morning': 1,\n",
       " 'equally': 1,\n",
       " 'lay': 1,\n",
       " 'In': 1,\n",
       " 'leaves': 1,\n",
       " 'no': 1,\n",
       " 'step': 1,\n",
       " 'had': 1,\n",
       " 'trodden': 1,\n",
       " 'black.': 1,\n",
       " 'Oh,': 1,\n",
       " 'kept': 1,\n",
       " 'first': 1,\n",
       " 'another': 1,\n",
       " 'day!': 1,\n",
       " 'Yet': 1,\n",
       " 'knowing': 1,\n",
       " 'how': 1,\n",
       " 'way': 1,\n",
       " 'leads': 1,\n",
       " 'on': 1,\n",
       " 'to': 1,\n",
       " 'way,': 1,\n",
       " 'doubted': 1,\n",
       " 'if': 1,\n",
       " 'should': 1,\n",
       " 'ever': 1,\n",
       " 'come': 1,\n",
       " 'back.': 1,\n",
       " 'shall': 1,\n",
       " 'telling': 1,\n",
       " 'this': 1,\n",
       " 'with': 1,\n",
       " 'sigh': 1,\n",
       " 'Somewhere': 1,\n",
       " 'ages': 2,\n",
       " 'hence:': 1,\n",
       " 'Iâ€”': 1,\n",
       " 'less': 1,\n",
       " 'traveled': 1,\n",
       " 'by,': 1,\n",
       " 'has': 1,\n",
       " 'made': 1,\n",
       " 'all': 1,\n",
       " 'difference.': 1}"
      ]
     },
     "execution_count": 6,
     "metadata": {},
     "output_type": "execute_result"
    }
   ],
   "source": [
    "word_count"
   ]
  },
  {
   "cell_type": "markdown",
   "id": "004db1fb",
   "metadata": {},
   "source": [
    "# Exercise 4: Implement hash table where collisions are handled using linear probing. We learnt about linear probing in the video tutorial. Take the hash table implementation that uses chaining and modify methods to use linear probing. Keep MAX size of arr in hashtable as 10."
   ]
  },
  {
   "cell_type": "code",
   "execution_count": 7,
   "id": "ec8b5fb6",
   "metadata": {},
   "outputs": [],
   "source": [
    "class HashTable:  \n",
    "    def __init__(self):\n",
    "        self.MAX = 10 # I am keeping size very low to demonstrate linear probing easily but usually the size should be high\n",
    "        self.arr = [None for i in range(self.MAX)]\n",
    "        \n",
    "    def get_hash(self, key):\n",
    "        hash = 0\n",
    "        for char in key:\n",
    "            hash += ord(char)\n",
    "        return hash % self.MAX\n",
    "    \n",
    "    def __getitem__(self, key):\n",
    "        h = self.get_hash(key)\n",
    "        if self.arr[h] is None:\n",
    "            return\n",
    "        prob_range = self.get_prob_range(h)\n",
    "        for prob_index in prob_range:\n",
    "            element = self.arr[prob_index]\n",
    "            if element is None:\n",
    "                return\n",
    "            if element[0] == key:\n",
    "                return element[1]\n",
    "           \n",
    "    def __setitem__(self, key, val):\n",
    "        h = self.get_hash(key)\n",
    "        if self.arr[h] is None:\n",
    "            self.arr[h] = (key,val)\n",
    "        else:\n",
    "            new_h = self.find_slot(key, h)\n",
    "            self.arr[new_h] = (key,val)\n",
    "        print(self.arr)\n",
    "        \n",
    "    def get_prob_range(self, index):\n",
    "        return [*range(index, len(self.arr))] + [*range(0,index)]\n",
    "    \n",
    "    def find_slot(self, key, index):\n",
    "        prob_range = self.get_prob_range(index)\n",
    "        for prob_index in prob_range:\n",
    "            if self.arr[prob_index] is None:\n",
    "                return prob_index\n",
    "            if self.arr[prob_index][0] == key:\n",
    "                return prob_index\n",
    "        raise Exception(\"Hashmap full\")\n",
    "        \n",
    "    def __delitem__(self, key):\n",
    "        h = self.get_hash(key)\n",
    "        prob_range = self.get_prob_range(h)\n",
    "        for prob_index in prob_range:\n",
    "            if self.arr[prob_index] is None:\n",
    "                return # item not found so return. You can also throw exception\n",
    "            if self.arr[prob_index][0] == key:\n",
    "                self.arr[prob_index]=None\n",
    "        print(self.arr)"
   ]
  },
  {
   "cell_type": "markdown",
   "id": "9db844aa",
   "metadata": {},
   "source": [
    "Function to show how *range(x,y) works. It returns a list of numbers in range(x,y)"
   ]
  },
  {
   "cell_type": "code",
   "execution_count": 8,
   "id": "7f0dfce8",
   "metadata": {},
   "outputs": [
    {
     "data": {
      "text/plain": [
       "[5, 6, 7, 0, 1, 2, 3]"
      ]
     },
     "execution_count": 8,
     "metadata": {},
     "output_type": "execute_result"
    }
   ],
   "source": [
    "[*range(5,8)] + [*range(0,4)]"
   ]
  },
  {
   "cell_type": "code",
   "execution_count": 9,
   "id": "1d7e4586",
   "metadata": {},
   "outputs": [
    {
     "name": "stdout",
     "output_type": "stream",
     "text": [
      "[None, None, None, None, None, None, None, None, None, ('march 6', 20)]\n",
      "[('march 17', 88), None, None, None, None, None, None, None, None, ('march 6', 20)]\n"
     ]
    }
   ],
   "source": [
    "t = HashTable()\n",
    "t[\"march 6\"] = 20\n",
    "t[\"march 17\"] =  88"
   ]
  },
  {
   "cell_type": "code",
   "execution_count": 10,
   "id": "0bb25151",
   "metadata": {},
   "outputs": [
    {
     "name": "stdout",
     "output_type": "stream",
     "text": [
      "[('march 17', 29), None, None, None, None, None, None, None, None, ('march 6', 20)]\n"
     ]
    }
   ],
   "source": [
    "t[\"march 17\"] = 29"
   ]
  },
  {
   "cell_type": "code",
   "execution_count": 11,
   "id": "bd8ed2b1",
   "metadata": {},
   "outputs": [
    {
     "name": "stdout",
     "output_type": "stream",
     "text": [
      "[('march 17', 29), ('nov 1', 1), None, None, None, None, None, None, None, ('march 6', 20)]\n"
     ]
    }
   ],
   "source": [
    "t[\"nov 1\"] = 1"
   ]
  },
  {
   "cell_type": "code",
   "execution_count": 12,
   "id": "204f69a1",
   "metadata": {},
   "outputs": [
    {
     "name": "stdout",
     "output_type": "stream",
     "text": [
      "[('march 17', 29), ('nov 1', 1), None, None, None, None, None, ('march 33', 234), None, ('march 6', 20)]\n"
     ]
    }
   ],
   "source": [
    "t[\"march 33\"] = 234"
   ]
  },
  {
   "cell_type": "code",
   "execution_count": 13,
   "id": "93f648c8",
   "metadata": {},
   "outputs": [],
   "source": [
    "t[\"dec 1\"]"
   ]
  },
  {
   "cell_type": "code",
   "execution_count": 14,
   "id": "d59b7379",
   "metadata": {},
   "outputs": [
    {
     "data": {
      "text/plain": [
       "234"
      ]
     },
     "execution_count": 14,
     "metadata": {},
     "output_type": "execute_result"
    }
   ],
   "source": [
    "t[\"march 33\"]"
   ]
  },
  {
   "cell_type": "code",
   "execution_count": 15,
   "id": "dad695ec",
   "metadata": {},
   "outputs": [
    {
     "name": "stdout",
     "output_type": "stream",
     "text": [
      "[('march 17', 29), ('nov 1', 1), None, None, None, None, None, ('march 33', 999), None, ('march 6', 20)]\n"
     ]
    }
   ],
   "source": [
    "t[\"march 33\"] = 999"
   ]
  },
  {
   "cell_type": "code",
   "execution_count": 16,
   "id": "cd0ce3ad",
   "metadata": {},
   "outputs": [
    {
     "data": {
      "text/plain": [
       "999"
      ]
     },
     "execution_count": 16,
     "metadata": {},
     "output_type": "execute_result"
    }
   ],
   "source": [
    "t[\"march 33\"]"
   ]
  },
  {
   "cell_type": "code",
   "execution_count": 17,
   "id": "10451f7a",
   "metadata": {},
   "outputs": [
    {
     "name": "stdout",
     "output_type": "stream",
     "text": [
      "[('march 17', 29), ('nov 1', 1), None, None, None, None, None, ('march 33', 999), ('april 1', 87), ('march 6', 20)]\n"
     ]
    }
   ],
   "source": [
    "t[\"april 1\"]=87"
   ]
  },
  {
   "cell_type": "code",
   "execution_count": 18,
   "id": "0ef13964",
   "metadata": {},
   "outputs": [
    {
     "name": "stdout",
     "output_type": "stream",
     "text": [
      "[('march 17', 29), ('nov 1', 1), ('april 2', 123), None, None, None, None, ('march 33', 999), ('april 1', 87), ('march 6', 20)]\n"
     ]
    }
   ],
   "source": [
    "t[\"april 2\"]=123"
   ]
  },
  {
   "cell_type": "code",
   "execution_count": 19,
   "id": "050b2747",
   "metadata": {},
   "outputs": [
    {
     "name": "stdout",
     "output_type": "stream",
     "text": [
      "[('march 17', 29), ('nov 1', 1), ('april 2', 123), ('april 3', 234234), None, None, None, ('march 33', 999), ('april 1', 87), ('march 6', 20)]\n"
     ]
    }
   ],
   "source": [
    "t[\"april 3\"]=234234"
   ]
  },
  {
   "cell_type": "code",
   "execution_count": 20,
   "id": "cae05905",
   "metadata": {},
   "outputs": [
    {
     "name": "stdout",
     "output_type": "stream",
     "text": [
      "[('march 17', 29), ('nov 1', 1), ('april 2', 123), ('april 3', 234234), ('april 4', 91), None, None, ('march 33', 999), ('april 1', 87), ('march 6', 20)]\n"
     ]
    }
   ],
   "source": [
    "t[\"april 4\"]=91"
   ]
  },
  {
   "cell_type": "code",
   "execution_count": 21,
   "id": "220e7c22",
   "metadata": {},
   "outputs": [
    {
     "name": "stdout",
     "output_type": "stream",
     "text": [
      "[('march 17', 29), ('nov 1', 1), ('april 2', 123), ('april 3', 234234), ('april 4', 91), ('May 22', 4), None, ('march 33', 999), ('april 1', 87), ('march 6', 20)]\n"
     ]
    }
   ],
   "source": [
    "t[\"May 22\"]=4"
   ]
  },
  {
   "cell_type": "code",
   "execution_count": 22,
   "id": "51433f09",
   "metadata": {},
   "outputs": [
    {
     "name": "stdout",
     "output_type": "stream",
     "text": [
      "[('march 17', 29), ('nov 1', 1), ('april 2', 123), ('april 3', 234234), ('april 4', 91), ('May 22', 4), ('May 7', 47), ('march 33', 999), ('april 1', 87), ('march 6', 20)]\n"
     ]
    }
   ],
   "source": [
    "t[\"May 7\"]=47"
   ]
  },
  {
   "cell_type": "code",
   "execution_count": 23,
   "id": "fc1401b7",
   "metadata": {},
   "outputs": [
    {
     "ename": "Exception",
     "evalue": "Hashmap full",
     "output_type": "error",
     "traceback": [
      "\u001b[1;31m---------------------------------------------------------------------------\u001b[0m",
      "\u001b[1;31mException\u001b[0m                                 Traceback (most recent call last)",
      "Cell \u001b[1;32mIn[23], line 1\u001b[0m\n\u001b[1;32m----> 1\u001b[0m \u001b[43mt\u001b[49m\u001b[43m[\u001b[49m\u001b[38;5;124;43m\"\u001b[39;49m\u001b[38;5;124;43mJan 1\u001b[39;49m\u001b[38;5;124;43m\"\u001b[39;49m\u001b[43m]\u001b[49m\u001b[38;5;241m=\u001b[39m\u001b[38;5;241m0\u001b[39m\n",
      "Cell \u001b[1;32mIn[7], line 29\u001b[0m, in \u001b[0;36mHashTable.__setitem__\u001b[1;34m(self, key, val)\u001b[0m\n\u001b[0;32m     27\u001b[0m     \u001b[38;5;28mself\u001b[39m\u001b[38;5;241m.\u001b[39marr[h] \u001b[38;5;241m=\u001b[39m (key,val)\n\u001b[0;32m     28\u001b[0m \u001b[38;5;28;01melse\u001b[39;00m:\n\u001b[1;32m---> 29\u001b[0m     new_h \u001b[38;5;241m=\u001b[39m \u001b[38;5;28;43mself\u001b[39;49m\u001b[38;5;241;43m.\u001b[39;49m\u001b[43mfind_slot\u001b[49m\u001b[43m(\u001b[49m\u001b[43mkey\u001b[49m\u001b[43m,\u001b[49m\u001b[43m \u001b[49m\u001b[43mh\u001b[49m\u001b[43m)\u001b[49m\n\u001b[0;32m     30\u001b[0m     \u001b[38;5;28mself\u001b[39m\u001b[38;5;241m.\u001b[39marr[new_h] \u001b[38;5;241m=\u001b[39m (key,val)\n\u001b[0;32m     31\u001b[0m \u001b[38;5;28mprint\u001b[39m(\u001b[38;5;28mself\u001b[39m\u001b[38;5;241m.\u001b[39marr)\n",
      "Cell \u001b[1;32mIn[7], line 43\u001b[0m, in \u001b[0;36mHashTable.find_slot\u001b[1;34m(self, key, index)\u001b[0m\n\u001b[0;32m     41\u001b[0m     \u001b[38;5;28;01mif\u001b[39;00m \u001b[38;5;28mself\u001b[39m\u001b[38;5;241m.\u001b[39marr[prob_index][\u001b[38;5;241m0\u001b[39m] \u001b[38;5;241m==\u001b[39m key:\n\u001b[0;32m     42\u001b[0m         \u001b[38;5;28;01mreturn\u001b[39;00m prob_index\n\u001b[1;32m---> 43\u001b[0m \u001b[38;5;28;01mraise\u001b[39;00m \u001b[38;5;167;01mException\u001b[39;00m(\u001b[38;5;124m\"\u001b[39m\u001b[38;5;124mHashmap full\u001b[39m\u001b[38;5;124m\"\u001b[39m)\n",
      "\u001b[1;31mException\u001b[0m: Hashmap full"
     ]
    }
   ],
   "source": [
    "t[\"Jan 1\"]=0"
   ]
  },
  {
   "cell_type": "code",
   "execution_count": 24,
   "id": "a0d4d93a",
   "metadata": {},
   "outputs": [
    {
     "name": "stdout",
     "output_type": "stream",
     "text": [
      "[('march 17', 29), ('nov 1', 1), None, ('april 3', 234234), ('april 4', 91), ('May 22', 4), ('May 7', 47), ('march 33', 999), ('april 1', 87), ('march 6', 20)]\n"
     ]
    }
   ],
   "source": [
    "del t[\"april 2\"]"
   ]
  },
  {
   "cell_type": "code",
   "execution_count": 25,
   "id": "2a846bc7",
   "metadata": {},
   "outputs": [
    {
     "name": "stdout",
     "output_type": "stream",
     "text": [
      "[('march 17', 29), ('nov 1', 1), ('Jan 1', 0), ('april 3', 234234), ('april 4', 91), ('May 22', 4), ('May 7', 47), ('march 33', 999), ('april 1', 87), ('march 6', 20)]\n"
     ]
    }
   ],
   "source": [
    "t[\"Jan 1\"]=0"
   ]
  },
  {
   "cell_type": "code",
   "execution_count": 26,
   "id": "6ba56b80",
   "metadata": {},
   "outputs": [
    {
     "data": {
      "text/plain": [
       "<__main__.HashTable at 0x1dc1a3ceb50>"
      ]
     },
     "execution_count": 26,
     "metadata": {},
     "output_type": "execute_result"
    }
   ],
   "source": [
    "t"
   ]
  }
 ],
 "metadata": {
  "kernelspec": {
   "display_name": "Python 3 (ipykernel)",
   "language": "python",
   "name": "python3"
  },
  "language_info": {
   "codemirror_mode": {
    "name": "ipython",
    "version": 3
   },
   "file_extension": ".py",
   "mimetype": "text/x-python",
   "name": "python",
   "nbconvert_exporter": "python",
   "pygments_lexer": "ipython3",
   "version": "3.11.1"
  }
 },
 "nbformat": 4,
 "nbformat_minor": 5
}
