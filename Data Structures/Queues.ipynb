{
 "cells": [
  {
   "cell_type": "code",
   "execution_count": 1,
   "id": "0b8a1a03",
   "metadata": {},
   "outputs": [],
   "source": [
    "sp = []"
   ]
  },
  {
   "cell_type": "code",
   "execution_count": 3,
   "id": "7a11064e",
   "metadata": {},
   "outputs": [],
   "source": [
    "sp.insert(0,123)\n",
    "sp.insert(0,12)\n",
    "sp.insert(0,332)"
   ]
  },
  {
   "cell_type": "code",
   "execution_count": 4,
   "id": "146d24e3",
   "metadata": {},
   "outputs": [
    {
     "data": {
      "text/plain": [
       "[332, 12, 123, 12, 123]"
      ]
     },
     "execution_count": 4,
     "metadata": {},
     "output_type": "execute_result"
    }
   ],
   "source": [
    "sp"
   ]
  },
  {
   "cell_type": "code",
   "execution_count": 5,
   "id": "6bb4bb80",
   "metadata": {},
   "outputs": [
    {
     "data": {
      "text/plain": [
       "123"
      ]
     },
     "execution_count": 5,
     "metadata": {},
     "output_type": "execute_result"
    }
   ],
   "source": [
    "sp.pop()"
   ]
  },
  {
   "cell_type": "code",
   "execution_count": 6,
   "id": "435eb423",
   "metadata": {},
   "outputs": [
    {
     "data": {
      "text/plain": [
       "[332, 12, 123, 12]"
      ]
     },
     "execution_count": 6,
     "metadata": {},
     "output_type": "execute_result"
    }
   ],
   "source": [
    "sp"
   ]
  },
  {
   "cell_type": "markdown",
   "id": "59594f1b",
   "metadata": {},
   "source": [
    "USING DEQUE FROM COLLECTIONS MODULE"
   ]
  },
  {
   "cell_type": "code",
   "execution_count": 7,
   "id": "5334f329",
   "metadata": {},
   "outputs": [],
   "source": [
    "from collections import deque\n",
    "q = deque()"
   ]
  },
  {
   "cell_type": "code",
   "execution_count": 12,
   "id": "d9687fc2",
   "metadata": {},
   "outputs": [],
   "source": [
    "q.appendleft(4)"
   ]
  },
  {
   "cell_type": "code",
   "execution_count": 13,
   "id": "e6e2f49e",
   "metadata": {},
   "outputs": [
    {
     "data": {
      "text/plain": [
       "deque([4, 3, 2, 1])"
      ]
     },
     "execution_count": 13,
     "metadata": {},
     "output_type": "execute_result"
    }
   ],
   "source": [
    "q"
   ]
  },
  {
   "cell_type": "code",
   "execution_count": 15,
   "id": "df7596e5",
   "metadata": {},
   "outputs": [
    {
     "data": {
      "text/plain": [
       "1"
      ]
     },
     "execution_count": 15,
     "metadata": {},
     "output_type": "execute_result"
    }
   ],
   "source": [
    "q.pop()"
   ]
  },
  {
   "cell_type": "code",
   "execution_count": 16,
   "id": "3f306fb0",
   "metadata": {},
   "outputs": [
    {
     "data": {
      "text/plain": [
       "deque([4, 3, 2])"
      ]
     },
     "execution_count": 16,
     "metadata": {},
     "output_type": "execute_result"
    }
   ],
   "source": [
    "q"
   ]
  },
  {
   "cell_type": "code",
   "execution_count": 11,
   "id": "25df8f66",
   "metadata": {},
   "outputs": [],
   "source": [
    "from collections import deque\n",
    "\n",
    "class Queue:\n",
    "    \n",
    "    def __init__(self):\n",
    "        self.buffer = deque()\n",
    "        \n",
    "    def enqueue(self,val):\n",
    "        self.buffer.appendleft(val)\n",
    "        \n",
    "    def deqeue(self):\n",
    "        try:\n",
    "            self.buffer.pop()\n",
    "        except:\n",
    "            return \"Empty Queue\"\n",
    "        \n",
    "    def is_empty(self):\n",
    "        return len(self.buffer)==0\n",
    "    \n",
    "    def size(self):\n",
    "        return len(self.buffer)\n",
    "    \n",
    "    def front(self):\n",
    "        return self.buffer[-1]"
   ]
  },
  {
   "cell_type": "code",
   "execution_count": 20,
   "id": "fdce2289",
   "metadata": {},
   "outputs": [],
   "source": [
    "pq = Queue()\n",
    "\n",
    "pq.enqueue({\n",
    "    'company': 'Wall Mart',\n",
    "    'timestamp': '15 apr, 11.01 AM',\n",
    "    'price': 131.10\n",
    "})\n",
    "pq.enqueue({\n",
    "    'company': 'Wall Mart',\n",
    "    'timestamp': '15 apr, 11.02 AM',\n",
    "    'price': 132\n",
    "})\n",
    "pq.enqueue({\n",
    "    'company': 'Wall Mart',\n",
    "    'timestamp': '15 apr, 11.03 AM',\n",
    "    'price': 135\n",
    "})"
   ]
  },
  {
   "cell_type": "code",
   "execution_count": 21,
   "id": "6a327758",
   "metadata": {},
   "outputs": [
    {
     "data": {
      "text/plain": [
       "3"
      ]
     },
     "execution_count": 21,
     "metadata": {},
     "output_type": "execute_result"
    }
   ],
   "source": [
    "pq.size()"
   ]
  },
  {
   "cell_type": "code",
   "execution_count": 22,
   "id": "fdd28008",
   "metadata": {},
   "outputs": [
    {
     "data": {
      "text/plain": [
       "deque([{'company': 'Wall Mart', 'timestamp': '15 apr, 11.03 AM', 'price': 135},\n",
       "       {'company': 'Wall Mart', 'timestamp': '15 apr, 11.02 AM', 'price': 132},\n",
       "       {'company': 'Wall Mart',\n",
       "        'timestamp': '15 apr, 11.01 AM',\n",
       "        'price': 131.1}])"
      ]
     },
     "execution_count": 22,
     "metadata": {},
     "output_type": "execute_result"
    }
   ],
   "source": [
    "pq.buffer"
   ]
  },
  {
   "cell_type": "code",
   "execution_count": 23,
   "id": "3b2b14d3",
   "metadata": {},
   "outputs": [],
   "source": [
    "pq.deqeue()"
   ]
  },
  {
   "cell_type": "code",
   "execution_count": 24,
   "id": "1bea7218",
   "metadata": {},
   "outputs": [
    {
     "data": {
      "text/plain": [
       "deque([{'company': 'Wall Mart', 'timestamp': '15 apr, 11.03 AM', 'price': 135},\n",
       "       {'company': 'Wall Mart',\n",
       "        'timestamp': '15 apr, 11.02 AM',\n",
       "        'price': 132}])"
      ]
     },
     "execution_count": 24,
     "metadata": {},
     "output_type": "execute_result"
    }
   ],
   "source": [
    "pq.buffer"
   ]
  },
  {
   "cell_type": "code",
   "execution_count": 25,
   "id": "d633fa82",
   "metadata": {},
   "outputs": [],
   "source": [
    "pq.deqeue()"
   ]
  },
  {
   "cell_type": "code",
   "execution_count": 26,
   "id": "c67b5034",
   "metadata": {},
   "outputs": [
    {
     "data": {
      "text/plain": [
       "deque([{'company': 'Wall Mart',\n",
       "        'timestamp': '15 apr, 11.03 AM',\n",
       "        'price': 135}])"
      ]
     },
     "execution_count": 26,
     "metadata": {},
     "output_type": "execute_result"
    }
   ],
   "source": [
    "pq.buffer"
   ]
  },
  {
   "cell_type": "markdown",
   "id": "9eca4ff3",
   "metadata": {},
   "source": [
    "# Exercise 1: Design a food ordering system where your python program will run two threads,\n",
    "\n",
    "* Place Order: This thread will be placing an order and inserting that into a queue. This thread places new order every 0.5 second. (hint: use time.sleep(0.5) function)\n",
    "* Serve Order: This thread will server the order. All you need to do is pop the order out of the queue and print it. This thread serves an order every 2 seconds. Also start this thread 1 second after place order thread is started.\n",
    "\n",
    "Use this video to get yourself familiar with multithreading in python\n",
    "\n",
    "Pass following list as an argument to place order thread,\n",
    "\n",
    "orders = ['pizza','samosa','pasta','biryani','burger']\n",
    "\n",
    "This problem is a producer,consumer problem where place_order thread is producing orders whereas server_order thread is consuming the food orders. Use Queue class implemented in a video tutorial."
   ]
  },
  {
   "cell_type": "code",
   "execution_count": 4,
   "id": "28afedc1",
   "metadata": {},
   "outputs": [],
   "source": [
    "orders = ['pizza','samosa','pasta','biryani','burger']\n",
    "eq = Queue()"
   ]
  },
  {
   "cell_type": "code",
   "execution_count": 5,
   "id": "28a9ff56",
   "metadata": {},
   "outputs": [],
   "source": [
    "import time"
   ]
  },
  {
   "cell_type": "code",
   "execution_count": 25,
   "id": "474aada7",
   "metadata": {},
   "outputs": [
    {
     "name": "stdout",
     "output_type": "stream",
     "text": [
      "Order placed pizza\n",
      "Order placed samosa\n",
      "Order placed pasta\n",
      "Order placed biryani\n",
      "Order placed burger\n",
      "pizza served\n",
      "samosa served\n",
      "pasta served\n",
      "biryani served\n",
      "burger served\n",
      "0\n"
     ]
    }
   ],
   "source": [
    "for o in orders:\n",
    "    eq.enqueue(o)\n",
    "    print(\"Order placed\",o)\n",
    "    time.sleep(0.5)\n",
    "\n",
    "time.sleep(1)\n",
    "for o in orders:\n",
    "    print(o,\"served\")\n",
    "    eq.deqeue()\n",
    "    time.sleep(2)\n",
    "\n",
    "print(eq.size())"
   ]
  },
  {
   "cell_type": "code",
   "execution_count": 31,
   "id": "013fc2a8",
   "metadata": {},
   "outputs": [
    {
     "name": "stdout",
     "output_type": "stream",
     "text": [
      "Placing order for: pizza\n",
      "Placing order for: samosa\n",
      "Now serving: Placing order for: pasta\n",
      " empty queue\n",
      "Placing order for: biryani\n",
      "Placing order for: burger\n",
      "Now serving:  empty queue\n",
      "Now serving:  empty queue\n",
      "Now serving:  empty queue\n",
      "Now serving:  empty queue\n",
      "Now serving:  empty queue\n",
      "Now serving:  empty queue\n",
      "Now serving:  empty queue\n",
      "Now serving:  empty queue\n",
      "Now serving:  empty queue\n",
      "Now serving:  empty queue\n",
      "Now serving:  empty queue\n",
      "Now serving:  empty queue\n",
      "Now serving:  empty queue\n",
      "Now serving:  empty queue\n",
      "Now serving:  empty queue\n",
      "Now serving:  empty queue\n",
      "Now serving:  empty queue\n",
      "Now serving:  empty queue\n",
      "Now serving:  empty queue\n"
     ]
    }
   ],
   "source": [
    "import threading\n",
    "\n",
    "food_order_queue = Queue()\n",
    "\n",
    "def place_orders(orders):\n",
    "    for order in orders:\n",
    "        print(\"Placing order for:\",order)\n",
    "        food_order_queue.enqueue(order)\n",
    "        time.sleep(0.5)\n",
    "\n",
    "\n",
    "def serve_orders():\n",
    "    time.sleep(1)\n",
    "    while True:\n",
    "        order = food_order_queue.deqeue()\n",
    "        print(\"Now serving: \",order)\n",
    "        time.sleep(2)\n",
    "\n",
    "if __name__ == '__main__':\n",
    "    orders = ['pizza','samosa','pasta','biryani','burger']\n",
    "    t1 = threading.Thread(target=place_orders, args=(orders,))\n",
    "    t2 = threading.Thread(target=serve_orders)\n",
    "\n",
    "    t1.start()\n",
    "    t2.start()"
   ]
  },
  {
   "cell_type": "markdown",
   "id": "f2ded437",
   "metadata": {},
   "source": [
    "# Exercise 2: Write a program to print binary numbers from 1 to 10 using Queue. Use Queue class implemented in main tutorial. Binary sequence should look like,\n",
    "    1\n",
    "    10\n",
    "    11\n",
    "    100\n",
    "    101\n",
    "    110\n",
    "    111\n",
    "    1000\n",
    "    1001\n",
    "    1010\n",
    "Hint: Notice a pattern above. After 1 second and third number is 1+0 and 1+1. 4th and 5th number are second number (i.e. 10) + 0 and second number (i.e. 10) + 1.\n",
    "\n",
    "You also need to add front() function in queue class that can return the front element in the queue."
   ]
  },
  {
   "cell_type": "code",
   "execution_count": 14,
   "id": "00fcca3d",
   "metadata": {},
   "outputs": [],
   "source": [
    "def produce_binary_numbers(n):\n",
    "    numbers_queue = Queue()\n",
    "    numbers_queue.enqueue(\"1\")\n",
    "\n",
    "    for i in range(n):\n",
    "        front = numbers_queue.front()\n",
    "        print(\"   \", front)\n",
    "        numbers_queue.enqueue(front + \"0\")\n",
    "        numbers_queue.enqueue(front + \"1\")\n",
    "        numbers_queue.deqeue()"
   ]
  },
  {
   "cell_type": "code",
   "execution_count": 15,
   "id": "9639c581",
   "metadata": {},
   "outputs": [
    {
     "name": "stdout",
     "output_type": "stream",
     "text": [
      "    1\n",
      "    10\n",
      "    11\n",
      "    100\n",
      "    101\n",
      "    110\n",
      "    111\n",
      "    1000\n",
      "    1001\n",
      "    1010\n"
     ]
    }
   ],
   "source": [
    "produce_binary_numbers(10)"
   ]
  }
 ],
 "metadata": {
  "kernelspec": {
   "display_name": "Python 3 (ipykernel)",
   "language": "python",
   "name": "python3"
  },
  "language_info": {
   "codemirror_mode": {
    "name": "ipython",
    "version": 3
   },
   "file_extension": ".py",
   "mimetype": "text/x-python",
   "name": "python",
   "nbconvert_exporter": "python",
   "pygments_lexer": "ipython3",
   "version": "3.11.1"
  }
 },
 "nbformat": 4,
 "nbformat_minor": 5
}
