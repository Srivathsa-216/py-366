{
 "cells": [
  {
   "cell_type": "code",
   "execution_count": 1,
   "id": "803ddb80",
   "metadata": {},
   "outputs": [
    {
     "data": {
      "text/plain": [
       "7.0"
      ]
     },
     "execution_count": 1,
     "metadata": {},
     "output_type": "execute_result"
    }
   ],
   "source": [
    "import math\n",
    "math.sqrt(49)"
   ]
  },
  {
   "cell_type": "markdown",
   "id": "cdbec088",
   "metadata": {},
   "source": [
    "## Arrays"
   ]
  },
  {
   "cell_type": "markdown",
   "id": "a8ce94dd",
   "metadata": {},
   "source": [
    "Exercise: Array DataStructure\n",
    "Let us say your expense for every month are listed below,\n",
    "1. January - 2200\n",
    "2. February - 2350\n",
    "3. March - 2600\n",
    "4. April - 2130\n",
    "5. May - 2190\n",
    "\n",
    "\n",
    "Create a list to store these monthly expenses and using that find out,\n",
    "\n",
    "1. In Feb, how many dollars you spent extra compare to January?\n",
    "2. Find out your total expense in first quarter (first three months) of the year.\n",
    "3.Find out if you spent exactly 2000 dollars in any month\n",
    "4.June month just finished and your expense is 1980 dollar. Add this item to our monthly expense list\n",
    "5.You returned an item that you bought in a month of April and got a refund of 200$. Make a correction to your monthly expense list based on this"
   ]
  },
  {
   "cell_type": "code",
   "execution_count": 2,
   "id": "55c40622",
   "metadata": {},
   "outputs": [
    {
     "data": {
      "text/plain": [
       "{'January': 2200, 'Febraury': 2350, 'March': 2600, 'April': 2130, 'May': 2190}"
      ]
     },
     "execution_count": 2,
     "metadata": {},
     "output_type": "execute_result"
    }
   ],
   "source": [
    "exp = {\n",
    "    \"January\": 2200,\n",
    "    \"Febraury\": 2350,\n",
    "    \"March\": 2600,\n",
    "    \"April\": 2130,\n",
    "    \"May\": 2190\n",
    "}\n",
    "exp"
   ]
  },
  {
   "cell_type": "code",
   "execution_count": 3,
   "id": "314dadf5",
   "metadata": {},
   "outputs": [
    {
     "name": "stdout",
     "output_type": "stream",
     "text": [
      "1. Dollars extra spent is :: 150\n"
     ]
    }
   ],
   "source": [
    "print(\"1. Dollars extra spent is ::\",exp[\"Febraury\"]-exp[\"January\"])"
   ]
  },
  {
   "cell_type": "code",
   "execution_count": 4,
   "id": "542119c2",
   "metadata": {},
   "outputs": [
    {
     "name": "stdout",
     "output_type": "stream",
     "text": [
      "2. Expense of the first quarter will be ::  7150\n"
     ]
    }
   ],
   "source": [
    "exp_first_quarter = sum(exp[key] for key in ['January','Febraury','March'])\n",
    "print(\"2. Expense of the first quarter will be :: \",exp_first_quarter)"
   ]
  },
  {
   "cell_type": "code",
   "execution_count": 5,
   "id": "2198f0c2",
   "metadata": {},
   "outputs": [],
   "source": [
    "# 3. Find out if you spent exactly 2000 dollars in any month\n",
    "\n",
    "for i in exp:\n",
    "    if exp[i] != 2000:\n",
    "        continue\n",
    "    print(\"In \",i, \" you have spent 2000 dollars congrats which is lowest in recent times\")\n",
    "    "
   ]
  },
  {
   "cell_type": "code",
   "execution_count": 6,
   "id": "852ca988",
   "metadata": {},
   "outputs": [
    {
     "name": "stdout",
     "output_type": "stream",
     "text": [
      "Added new expense to the list\n"
     ]
    },
    {
     "data": {
      "text/plain": [
       "{'January': 2200,\n",
       " 'Febraury': 2350,\n",
       " 'March': 2600,\n",
       " 'April': 2130,\n",
       " 'May': 2190,\n",
       " 'June': 1980}"
      ]
     },
     "execution_count": 6,
     "metadata": {},
     "output_type": "execute_result"
    }
   ],
   "source": [
    "exp[\"June\"] = 1980\n",
    "print(\"Added new expense to the list\")\n",
    "exp"
   ]
  },
  {
   "cell_type": "code",
   "execution_count": 7,
   "id": "0fad0719",
   "metadata": {},
   "outputs": [
    {
     "name": "stdout",
     "output_type": "stream",
     "text": [
      "Removed the refunded amount from expense\n"
     ]
    },
    {
     "data": {
      "text/plain": [
       "{'January': 2200,\n",
       " 'Febraury': 2350,\n",
       " 'March': 2600,\n",
       " 'April': 2130,\n",
       " 'May': 2190,\n",
       " 'June': 1980}"
      ]
     },
     "execution_count": 7,
     "metadata": {},
     "output_type": "execute_result"
    }
   ],
   "source": [
    "#exp[\"April\"] = exp[\"April\"] - 200\n",
    "print(\"Removed the refunded amount from expense\")\n",
    "exp"
   ]
  },
  {
   "cell_type": "code",
   "execution_count": 8,
   "id": "beff5a2a",
   "metadata": {},
   "outputs": [],
   "source": [
    "#You have a list of your favourite marvel super heros.\n",
    "#heros=['spider man','thor','hulk','iron man','captain america']\n",
    "# Using this find out,\n",
    "\n",
    "# 1. Length of the list\n",
    "# 2. Add 'black panther' at the end of this list\n",
    "# 3. You realize that you need to add 'black panther' after 'hulk',\n",
    "#    so remove it from the list first and then add it after 'hulk'\n",
    "# 4. Now you don't like thor and hulk because they get angry easily :)\n",
    "#    So you want to remove thor and hulk from list and replace them with doctor strange (because he is cool).\n",
    "#    Do that with one line of code.\n",
    "# 5. Sort the heros list in alphabetical order (Hint. Use dir() functions to list down all functions available in list)"
   ]
  },
  {
   "cell_type": "code",
   "execution_count": 9,
   "id": "e1e25166",
   "metadata": {},
   "outputs": [
    {
     "name": "stdout",
     "output_type": "stream",
     "text": [
      "5\n",
      "['spider man', 'thor', 'hulk', 'iron man', 'captain america', 'black panther']\n",
      "['spider man', 'thor', 'hulk', 'black panther', 'iron man', 'captain america']\n",
      "['spider man', 'doctor strange', 'black panther', 'iron man', 'captain america']\n",
      "['black panther', 'captain america', 'doctor strange', 'iron man', 'spider man']\n"
     ]
    }
   ],
   "source": [
    "heros=['spider man','thor','hulk','iron man','captain america']\n",
    "# 1. Length of the list\n",
    "print(len(heros))\n",
    "# 2. Add 'black panther' at the end of this list\n",
    "heros.append('black panther')\n",
    "print(heros)\n",
    "# 3. You realize that you need to add 'black panther' after 'hulk',\n",
    "# so remove it from the list first and then add it after 'hulk'\n",
    "heros.remove('black panther')\n",
    "heros.insert(3,'black panther')\n",
    "print(heros)\n",
    "# 4. Now you don't like thor and hulk because they get angry easily :)\n",
    "#    So you want to remove thor and hulk from list and replace them with doctor strange (because he is cool).\n",
    "#    Do that with one line of code.\n",
    "heros[1:3]=['doctor strange']\n",
    "print(heros)\n",
    "# 5. Sort the list in alphabetical order\n",
    "heros.sort()\n",
    "print(heros)"
   ]
  },
  {
   "cell_type": "code",
   "execution_count": 10,
   "id": "e964aad4",
   "metadata": {},
   "outputs": [],
   "source": [
    "#Create a list of all odd numbers between 1 and a max number. Max number is something you \n",
    "#need to take from a user using input() function"
   ]
  },
  {
   "cell_type": "code",
   "execution_count": 11,
   "id": "2763c0fd",
   "metadata": {},
   "outputs": [
    {
     "name": "stdout",
     "output_type": "stream",
     "text": [
      "Enter max number: 10\n",
      "Odd numbers:  [1, 3, 5, 7, 9]\n"
     ]
    }
   ],
   "source": [
    "max = int(input(\"Enter max number: \"))\n",
    "\n",
    "odd_numbers = []\n",
    "\n",
    "for i in range(1, max):\n",
    "    if i % 2 == 1:\n",
    "        odd_numbers.append(i)\n",
    "\n",
    "print(\"Odd numbers: \", odd_numbers)"
   ]
  },
  {
   "cell_type": "markdown",
   "id": "a308df59",
   "metadata": {},
   "source": [
    "## Linked List"
   ]
  },
  {
   "cell_type": "code",
   "execution_count": 16,
   "id": "b192bef1",
   "metadata": {},
   "outputs": [
    {
     "name": "stdout",
     "output_type": "stream",
     "text": [
      "The Length of linked list is ::  4\n",
      "The Length of linked list is ::  4\n",
      "The Length of linked list is ::  3\n",
      "The Length of linked list is ::  4\n",
      "itr is ::::  Node object - {'data': 'fig', 'next': <__main__.Node object at 0x0000026540235190>}\n",
      "\n",
      "The final Linked List is ::  fig-->Pineapple-->orange-->321-->297-->\n"
     ]
    }
   ],
   "source": [
    "class Node:\n",
    "    def __init__(self, data = None, next = None):\n",
    "        self.data = data\n",
    "        self.next = next\n",
    "        \n",
    "    def __str__(self):\n",
    "        return f\"{type(self).__name__} object - {vars(self)}\"\n",
    "        \n",
    "class LinkedList:\n",
    "    def __init__(self):\n",
    "        self.head = None\n",
    "        \n",
    "    def __str__(self):\n",
    "        return f\"{type(self).__name__} object - {vars(self)}\"\n",
    "        \n",
    "    def insert_at_beginning(self,data):\n",
    "        node = Node(data, self.head)\n",
    "        #print(node)\n",
    "        self.head = node\n",
    "        \n",
    "    def insert_at_end(self,data):\n",
    "        if self.head is None:\n",
    "            self.head = Node(data, None)\n",
    "            return\n",
    "        \n",
    "        itr = self.head\n",
    "        while itr.next:\n",
    "            itr = itr.next\n",
    "            \n",
    "        itr.next = Node(data, None)\n",
    "        \n",
    "    def print(self):\n",
    "        \n",
    "        if self.head is None:\n",
    "            print(\"Linked List is empty\")\n",
    "            return\n",
    "        \n",
    "        itr = self.head\n",
    "        print(\"itr is :::: \",itr)\n",
    "        llstr = ''\n",
    "        \n",
    "        while itr:\n",
    "            llstr += str(itr.data) + '-->'\n",
    "            itr = itr.next\n",
    "            \n",
    "        print()\n",
    "        print(\"The final Linked List is :: \",llstr)\n",
    "        \n",
    "    def insert_values(self,data_list):\n",
    "        self.head = None\n",
    "        for data in data_list:\n",
    "            self.insert_at_end(data)\n",
    "            \n",
    "    def length_ll(self):\n",
    "        count = 0\n",
    "        itr = self.head\n",
    "        while itr:\n",
    "            count+=1\n",
    "            itr = itr.next\n",
    "            \n",
    "        print(\"The Length of linked list is :: \",count)\n",
    "        return count\n",
    "        \n",
    "        \n",
    "    def remove_element(self,index):\n",
    "        len_ll = self.length_ll()\n",
    "        if len_ll <=  index or index < 0:\n",
    "            raise Exception(\"Invalid index\")\n",
    "        elif index == 0:\n",
    "            self.head = self.head.next\n",
    "            return\n",
    "        \n",
    "        else:\n",
    "            count = 0\n",
    "            itr = self.head\n",
    "            while itr:\n",
    "                if count == index-1:\n",
    "                    itr.next = itr.next.next\n",
    "                    break\n",
    "                itr = itr.next\n",
    "                count+=1\n",
    "                \n",
    "    def insert_at(self,index,data):\n",
    "        len_ll = self.length_ll()\n",
    "        if len_ll <=  index or index < 0:\n",
    "            raise Exception(\"Invalid index\")\n",
    "        elif index == 0:\n",
    "            self.insert_at_beginning(data)\n",
    "            return\n",
    "        \n",
    "        count = 0\n",
    "        itr = self.head\n",
    "        \n",
    "        while itr:\n",
    "            if count == index-1:\n",
    "                node = Node(data, itr.next)\n",
    "                itr.next = node\n",
    "                break\n",
    "            itr= itr.next\n",
    "            count +=1\n",
    "            \n",
    "    def insert_after_value(self, data_after, data_to_insert):\n",
    "        # Search for first occurance of data_after value in linked list\n",
    "        # Now insert data_to_insert after data_after node\n",
    "        if self.head == None:\n",
    "            return \"Value data_after isnt even present\"\n",
    "        \n",
    "        itr = self.head\n",
    "        \n",
    "        while itr.data != data_after:\n",
    "            itr = itr.next\n",
    "        \n",
    "        node = Node(data_to_insert,itr.next)\n",
    "        itr.next = node\n",
    "        \n",
    "    def remove_by_value(self, data):\n",
    "        # Remove first node that contains data\n",
    "        \n",
    "        if self.head == None:\n",
    "            return \"Linked list is empty, no values present to be deleted\"\n",
    "        \n",
    "        if self.head.data == data:\n",
    "            self.head.data = None\n",
    "        \n",
    "        itr = self.head\n",
    "        \n",
    "        while itr:\n",
    "            if itr.next == None:\n",
    "                return \"Sorry, we couldnt able to find the \"+ data+ \" you provided\"\n",
    "            if itr.next.data == data:\n",
    "                break\n",
    "                \n",
    "            itr =itr.next\n",
    "            \n",
    "        itr.next = itr.next.next\n",
    "    \n",
    "if __name__ == '__main__':\n",
    "\n",
    "    ll = LinkedList()\n",
    "    ll.insert_at_beginning(4)\n",
    "    ll.insert_at_beginning(23)\n",
    "    ll.insert_at_beginning(32)\n",
    "    \n",
    "    ll.insert_values([\"banana\",\"grapes\",'orange',\"297\"])\n",
    "    \n",
    "    ll.length_ll()\n",
    "    \n",
    "    ll.remove_element(0)\n",
    "    \n",
    "    ll.insert_at(0,\"fig\")\n",
    "    ll.insert_at(1,\"Pineapple\")\n",
    "    \n",
    "    ll.insert_after_value(\"orange\",321)\n",
    "    ll.remove_by_value(\"grapes\")\n",
    "    \n",
    "    ll.print()\n"
   ]
  },
  {
   "cell_type": "code",
   "execution_count": 17,
   "id": "18d1746a",
   "metadata": {},
   "outputs": [
    {
     "name": "stdout",
     "output_type": "stream",
     "text": [
      "itr is ::::  Node object - {'data': 'banana', 'next': <__main__.Node object at 0x000002653FBDFE10>}\n",
      "\n",
      "The final Linked List is ::  banana-->mango-->grapes-->orange-->\n",
      "itr is ::::  Node object - {'data': 'banana', 'next': <__main__.Node object at 0x000002653FBDFE10>}\n",
      "\n",
      "The final Linked List is ::  banana-->mango-->apple-->grapes-->orange-->\n",
      "itr is ::::  Node object - {'data': 'banana', 'next': <__main__.Node object at 0x000002653FBDFE10>}\n",
      "\n",
      "The final Linked List is ::  banana-->mango-->apple-->grapes-->\n",
      "itr is ::::  Node object - {'data': 'banana', 'next': <__main__.Node object at 0x000002653FBDFE10>}\n",
      "\n",
      "The final Linked List is ::  banana-->mango-->apple-->grapes-->\n",
      "itr is ::::  Node object - {'data': None, 'next': None}\n",
      "\n",
      "The final Linked List is ::  None-->\n"
     ]
    }
   ],
   "source": [
    "ll.insert_values([\"banana\",\"mango\",\"grapes\",\"orange\"])\n",
    "ll.print()\n",
    "ll.insert_after_value(\"mango\",\"apple\") # insert apple after mango\n",
    "ll.print()\n",
    "ll.remove_by_value(\"orange\") # remove orange from linked list\n",
    "ll.print()\n",
    "ll.remove_by_value(\"figs\")\n",
    "ll.print()\n",
    "ll.remove_by_value(\"banana\")\n",
    "ll.remove_by_value(\"mango\")\n",
    "ll.remove_by_value(\"apple\")\n",
    "ll.remove_by_value(\"grapes\")\n",
    "ll.print()"
   ]
  },
  {
   "cell_type": "markdown",
   "id": "9fea52f6",
   "metadata": {},
   "source": [
    "Doubly Linked List"
   ]
  },
  {
   "cell_type": "code",
   "execution_count": 27,
   "id": "30e02b0f",
   "metadata": {},
   "outputs": [],
   "source": [
    "class NodeD:\n",
    "    def __init__(self, prev=None, data=None, next=None):\n",
    "        self.prev = prev\n",
    "        self.data = data\n",
    "        self.next = next\n",
    "        \n",
    "    def __str__(self):\n",
    "        return f\"{type(self).__name__} object - {vars(self)}\""
   ]
  },
  {
   "cell_type": "code",
   "execution_count": 28,
   "id": "53d56b16",
   "metadata": {},
   "outputs": [],
   "source": [
    "class DoublyLinkedList:\n",
    "    def __init__(self):\n",
    "        self.head = None\n",
    "        \n",
    "    def __str__(self):\n",
    "        return f\"{type(self).__name__} object - {vars(self)}\"\n",
    "        \n",
    "    def insert_at_beginning(self,data):\n",
    "        \n",
    "        node = NodeD(self.head,data, self.head)\n",
    "        print(\"---------\",node)\n",
    "        self.head = node\n",
    "    "
   ]
  },
  {
   "cell_type": "code",
   "execution_count": 29,
   "id": "002644b3",
   "metadata": {},
   "outputs": [
    {
     "name": "stdout",
     "output_type": "stream",
     "text": [
      "--------- NodeD object - {'prev': None, 'data': 12, 'next': None}\n"
     ]
    }
   ],
   "source": [
    "dll = DoublyLinkedList()\n",
    "\n",
    "dll.insert_at_beginning(12)"
   ]
  },
  {
   "cell_type": "code",
   "execution_count": null,
   "id": "b361e8e9",
   "metadata": {},
   "outputs": [],
   "source": []
  }
 ],
 "metadata": {
  "kernelspec": {
   "display_name": "Python 3 (ipykernel)",
   "language": "python",
   "name": "python3"
  },
  "language_info": {
   "codemirror_mode": {
    "name": "ipython",
    "version": 3
   },
   "file_extension": ".py",
   "mimetype": "text/x-python",
   "name": "python",
   "nbconvert_exporter": "python",
   "pygments_lexer": "ipython3",
   "version": "3.11.1"
  }
 },
 "nbformat": 4,
 "nbformat_minor": 5
}
