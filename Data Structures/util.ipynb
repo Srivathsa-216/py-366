{
 "cells": [
  {
   "cell_type": "code",
   "execution_count": null,
   "id": "190b5ee5",
   "metadata": {},
   "outputs": [],
   "source": [
    "import time\n",
    "def time_it(func):\n",
    "    def wrapper(*args, **kwargs):\n",
    "        start = time.time()\n",
    "        result = func(*args,**kwargs)\n",
    "        end = time.time()\n",
    "        print(func.__name__ +\" took \" + str((end-start)*1000) + \" mil sec\")\n",
    "        return result\n",
    "    return wrapper"
   ]
  }
 ],
 "metadata": {
  "kernelspec": {
   "display_name": "Python 3 (ipykernel)",
   "language": "python",
   "name": "python3"
  },
  "language_info": {
   "codemirror_mode": {
    "name": "ipython",
    "version": 3
   },
   "file_extension": ".py",
   "mimetype": "text/x-python",
   "name": "python",
   "nbconvert_exporter": "python",
   "pygments_lexer": "ipython3",
   "version": "3.11.1"
  }
 },
 "nbformat": 4,
 "nbformat_minor": 5
}
