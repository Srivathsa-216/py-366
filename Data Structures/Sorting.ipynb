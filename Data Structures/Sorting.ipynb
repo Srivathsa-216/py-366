{
 "cells": [
  {
   "cell_type": "markdown",
   "id": "a03d14ba",
   "metadata": {},
   "source": [
    "### <center>Bubble Sort</center>"
   ]
  },
  {
   "cell_type": "markdown",
   "id": "3f5af2f3",
   "metadata": {},
   "source": [
    "        Bubble sort is a simple sorting algorithm that repeatedly steps through the list, compares adjacent elements, and swaps them if they are in the wrong order. The pass through the list is repeated until the list is sorted. The algorithm gets its name because smaller elements \"bubble\" to the top of the list with each iteration. Despite being simple, bubble sort is not very efficient, especially for large lists, as it has a worst-case and average complexity of O(n^2), where n is the number of items being sorted. However, it can be useful for educational purposes due to its simplicity and ease of implementation."
   ]
  },
  {
   "cell_type": "code",
   "execution_count": 10,
   "id": "ff9f8866",
   "metadata": {},
   "outputs": [
    {
     "name": "stdout",
     "output_type": "stream",
     "text": [
      "[1, 2, 3, 4, 5, 6, 7, 8, 9]\n",
      "['A', 'd', 'e']\n"
     ]
    }
   ],
   "source": [
    "def bubble_sort(eles):\n",
    "    size = len(eles)\n",
    "    for i in range(size -1):\n",
    "        swapped = False\n",
    "        for j in range(size - 1 -i):\n",
    "            if eles[j] > eles[j+1]:\n",
    "                tmp = eles[j]\n",
    "                eles[j] = eles[j+1]\n",
    "                eles[j+1] = tmp\n",
    "                swapped = True\n",
    "                \n",
    "        if not swapped:\n",
    "            break     #### here we are making the algo work as O(n) time complexity through checking whether list is sorted\n",
    "    \n",
    "    \n",
    "elements = [5,2,8,3,1,9,4,6,7]\n",
    "\n",
    "strings = [\"d\", \"e\", \"A\"]\n",
    "bubble_sort(elements)\n",
    "bubble_sort(strings)\n",
    "print(elements)\n",
    "print(strings)"
   ]
  },
  {
   "cell_type": "markdown",
   "id": "ec49a87a",
   "metadata": {},
   "source": [
    "### <center>Quick sort</center>"
   ]
  },
  {
   "cell_type": "markdown",
   "id": "26250ab2",
   "metadata": {},
   "source": [
    "        Quick sort is a highly efficient sorting algorithm that follows the divide-and-conquer strategy. It begins by selecting a pivot element from the array and rearranges the array so that all elements less than the pivot are placed before it, and all elements greater than the pivot are placed after it. This partitioning step effectively puts the pivot element in its final sorted position. The algorithm then recursively applies these steps to the sub-arrays on either side of the pivot until the entire array is sorted. Quick sort has an average-case time complexity of O(n log n), making it one of the fastest sorting algorithms available. However, in rare worst-case scenarios, its time complexity can degrade to O(n^2), but this can be mitigated with proper pivot selection techniques."
   ]
  },
  {
   "cell_type": "code",
   "execution_count": 14,
   "id": "bbb64367",
   "metadata": {},
   "outputs": [
    {
     "name": "stdout",
     "output_type": "stream",
     "text": [
      "[2, 7, 9, 11, 15, 28, 29]\n",
      "sorted array: [2, 7, 9, 11, 15, 28, 29]\n",
      "sorted array: [3, 7, 9, 11]\n",
      "sorted array: [10, 21, 22, 25]\n",
      "sorted array: [15, 28, 29]\n",
      "sorted array: []\n",
      "sorted array: [6]\n"
     ]
    }
   ],
   "source": [
    "# implementation of quick sort in python using hoare partition scheme\n",
    "\n",
    "def swap(a, b, arr):\n",
    "    if a!=b:\n",
    "        tmp = arr[a]\n",
    "        arr[a] = arr[b]\n",
    "        arr[b] = tmp\n",
    "\n",
    "def quick_sort(elements, start, end):\n",
    "    if start < end:\n",
    "        pi = partition(elements, start, end)\n",
    "        quick_sort(elements, start, pi-1)\n",
    "        quick_sort(elements, pi+1, end)\n",
    "\n",
    "def partition(elements, start, end):\n",
    "    pivot_index = start\n",
    "    pivot = elements[pivot_index]\n",
    "\n",
    "    while start < end:\n",
    "        while start < len(elements) and elements[start] <= pivot:\n",
    "            start+=1\n",
    "\n",
    "        while elements[end] > pivot:\n",
    "            end-=1\n",
    "\n",
    "        if start < end:\n",
    "            swap(start, end, elements)\n",
    "\n",
    "    swap(pivot_index, end, elements)\n",
    "\n",
    "    return end\n",
    "\n",
    "\n",
    "if __name__ == '__main__':\n",
    "    elements = [11,9,29,7,2,15,28]\n",
    "    quick_sort(elements, 0, len(elements)-1)\n",
    "    print(elements)\n",
    "\n",
    "    tests = [\n",
    "        [11,9,29,7,2,15,28],\n",
    "        [3, 7, 9, 11],\n",
    "        [25, 22, 21, 10],\n",
    "        [29, 15, 28],\n",
    "        [],\n",
    "        [6]\n",
    "    ]\n",
    "\n",
    "    for elements in tests:\n",
    "        quick_sort(elements, 0, len(elements)-1)\n",
    "        print(f'sorted array: {elements}')"
   ]
  },
  {
   "cell_type": "markdown",
   "id": "e57eb56c",
   "metadata": {},
   "source": [
    "### <center>Insertion Sort</center>"
   ]
  },
  {
   "cell_type": "markdown",
   "id": "f8e8c93c",
   "metadata": {},
   "source": [
    "        Insertion sort is a simple sorting algorithm that builds the final sorted array one element at a time. It iterates through the array, starting from the second element, and compares each element with the ones before it. If the current element is smaller, it shifts the larger elements one position to the right to make space for the current element. This process continues until the current element is in its correct sorted position. Insertion sort is efficient for small datasets or nearly sorted arrays but becomes less practical for larger datasets due to its average and worst-case time complexity of O(n^2). Despite its slower performance compared to more advanced sorting algorithms, insertion sort is often used in hybrid sorting algorithms and as a building block in other algorithms."
   ]
  },
  {
   "cell_type": "code",
   "execution_count": 15,
   "id": "54a70e3c",
   "metadata": {},
   "outputs": [
    {
     "name": "stdout",
     "output_type": "stream",
     "text": [
      "[2, 7, 9, 11, 15, 28, 29]\n",
      "sorted array: [2, 7, 9, 11, 15, 28, 29]\n",
      "sorted array: [3, 7, 9, 11]\n",
      "sorted array: [10, 21, 22, 25]\n",
      "sorted array: [15, 28, 29]\n",
      "sorted array: []\n",
      "sorted array: [6]\n"
     ]
    }
   ],
   "source": [
    "def insertion_sort(elements):\n",
    "    for i in range(1, len(elements)):\n",
    "        anchor = elements[i]\n",
    "        j = i - 1\n",
    "        while j>=0 and anchor < elements[j]:\n",
    "            elements[j+1] = elements[j]\n",
    "            j = j - 1\n",
    "        elements[j+1] = anchor\n",
    "\n",
    "if __name__ == '__main__':\n",
    "    elements = [11,9,29,7,2,15,28]\n",
    "    insertion_sort(elements)\n",
    "    print(elements)\n",
    "    #\n",
    "    tests = [\n",
    "        [11,9,29,7,2,15,28],\n",
    "        [3, 7, 9, 11],\n",
    "        [25, 22, 21, 10],\n",
    "        [29, 15, 28],\n",
    "        [],\n",
    "        [6]\n",
    "    ]\n",
    "\n",
    "    for elements in tests:\n",
    "        insertion_sort(elements)\n",
    "        print(f'sorted array: {elements}')"
   ]
  },
  {
   "cell_type": "markdown",
   "id": "1a0e7f75",
   "metadata": {},
   "source": [
    "### <center>Merge sort</center>"
   ]
  },
  {
   "cell_type": "markdown",
   "id": "40012d70",
   "metadata": {},
   "source": [
    "        Merge sort is a divide-and-conquer sorting algorithm known for its efficiency and stability. It works by dividing the array into two halves, sorting each half recursively, and then merging the sorted halves back together. The key step in merge sort is the merging process, where two sorted subarrays are combined into a single sorted array. This process is repeated until the entire array is sorted. Merge sort has a time complexity of O(n log n) in the average, best, and worst cases, making it efficient for sorting large datasets. Additionally, merge sort is stable, meaning it preserves the relative order of equal elements. It is widely used in various applications and is often preferred over other sorting algorithms for its performance and stability properties."
   ]
  },
  {
   "cell_type": "code",
   "execution_count": 16,
   "id": "5d7d37fe",
   "metadata": {},
   "outputs": [
    {
     "name": "stdout",
     "output_type": "stream",
     "text": [
      "[3, 7, 8, 10, 15, 23, 29, 98]\n",
      "[]\n",
      "[3]\n",
      "[2, 7, 8, 9]\n",
      "[1, 2, 3, 4, 5]\n"
     ]
    }
   ],
   "source": [
    "\n",
    "def merge_sort(arr):\n",
    "    if len(arr) <= 1:\n",
    "        return\n",
    "\n",
    "    mid = len(arr)//2\n",
    "\n",
    "    left = arr[:mid]\n",
    "    right = arr[mid:]\n",
    "\n",
    "    merge_sort(left)\n",
    "    merge_sort(right)\n",
    "\n",
    "    merge_two_sorted_lists(left, right, arr)\n",
    "\n",
    "def merge_two_sorted_lists(a,b,arr):\n",
    "    len_a = len(a)\n",
    "    len_b = len(b)\n",
    "\n",
    "    i = j = k = 0\n",
    "\n",
    "    while i < len_a and j < len_b:\n",
    "        if a[i] <= b[j]:\n",
    "            arr[k] = a[i]\n",
    "            i+=1\n",
    "        else:\n",
    "            arr[k] = b[j]\n",
    "            j+=1\n",
    "        k+=1\n",
    "\n",
    "    while i < len_a:\n",
    "        arr[k] = a[i]\n",
    "        i+=1\n",
    "        k+=1\n",
    "\n",
    "    while j < len_b:\n",
    "        arr[k] = b[j]\n",
    "        j+=1\n",
    "        k+=1\n",
    "\n",
    "if __name__ == '__main__':\n",
    "    test_cases = [\n",
    "        [10, 3, 15, 7, 8, 23, 98, 29],\n",
    "        [],\n",
    "        [3],\n",
    "        [9,8,7,2],\n",
    "        [1,2,3,4,5]\n",
    "    ]\n",
    "\n",
    "    for arr in test_cases:\n",
    "        merge_sort(arr)\n",
    "        print(arr)"
   ]
  },
  {
   "cell_type": "code",
   "execution_count": null,
   "id": "a936a574",
   "metadata": {},
   "outputs": [],
   "source": []
  }
 ],
 "metadata": {
  "kernelspec": {
   "display_name": "Python 3 (ipykernel)",
   "language": "python",
   "name": "python3"
  },
  "language_info": {
   "codemirror_mode": {
    "name": "ipython",
    "version": 3
   },
   "file_extension": ".py",
   "mimetype": "text/x-python",
   "name": "python",
   "nbconvert_exporter": "python",
   "pygments_lexer": "ipython3",
   "version": "3.11.1"
  }
 },
 "nbformat": 4,
 "nbformat_minor": 5
}
