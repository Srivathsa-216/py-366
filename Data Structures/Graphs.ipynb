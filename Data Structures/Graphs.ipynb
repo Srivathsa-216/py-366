{
 "cells": [
  {
   "cell_type": "markdown",
   "id": "bdd3e9d1",
   "metadata": {},
   "source": [
    "                        Graph data structures are a way of representing relationships between objects.\n",
    "        \n",
    "        * They consist of nodes, also known as vertices, which are connected by edges. Each edge connects two nodes and may have a direction, indicating a one-way relationship, or be undirected, indicating a two-way relationship. Graphs can be used to model a wide range of real-world scenarios, such as social networks, transportation networks, and computer networks. Graphs can be classified into various types based on their properties.\n",
    "        \n",
    "        * For example, a directed graph has edges with a defined direction, while an undirected graph has edges without any direction. Graphs can also be weighted, meaning that edges have associated numerical values. Another classification is based on whether the graph contains cycles, with cyclic graphs allowing for paths that loop back to the starting node, and acyclic graphs prohibiting such loops. These different types of graphs offer flexibility in modeling diverse scenarios and solving various computational problems."
   ]
  },
  {
   "cell_type": "code",
   "execution_count": 2,
   "id": "309bdf3a",
   "metadata": {},
   "outputs": [
    {
     "name": "stdout",
     "output_type": "stream",
     "text": [
      "Graph Dict:  {'Mumbai': ['Paris', 'Dubai'], 'Paris': ['Dubai', 'New york'], 'Dubai': ['New york'], 'New york': ['Toronto']}\n"
     ]
    }
   ],
   "source": [
    "class Graph:\n",
    "    def __init__(self, edges):\n",
    "        self.edges = edges\n",
    "        self.graph_dict = {}\n",
    "        for start, end in self.edges:\n",
    "            if start in self.graph_dict:\n",
    "                self.graph_dict[start].append(end)\n",
    "            else:\n",
    "                self.graph_dict[start] = [end]\n",
    "                \n",
    "        print(\"Graph Dict: \", self.graph_dict)\n",
    "        \n",
    "routes = [\n",
    "    (\"Mumbai\", \"Paris\"),\n",
    "    (\"Mumbai\", \"Dubai\"),\n",
    "    (\"Paris\",\"Dubai\"),\n",
    "    (\"Paris\",\"New york\"),\n",
    "    (\"Dubai\",\"New york\"),\n",
    "    (\"New york\",\"Toronto\")\n",
    "]\n",
    "\n",
    "route_graph = Graph(routes)\n",
    "\n"
   ]
  },
  {
   "cell_type": "code",
   "execution_count": null,
   "id": "fa4085ae",
   "metadata": {},
   "outputs": [],
   "source": []
  }
 ],
 "metadata": {
  "kernelspec": {
   "display_name": "Python 3 (ipykernel)",
   "language": "python",
   "name": "python3"
  },
  "language_info": {
   "codemirror_mode": {
    "name": "ipython",
    "version": 3
   },
   "file_extension": ".py",
   "mimetype": "text/x-python",
   "name": "python",
   "nbconvert_exporter": "python",
   "pygments_lexer": "ipython3",
   "version": "3.11.1"
  }
 },
 "nbformat": 4,
 "nbformat_minor": 5
}
