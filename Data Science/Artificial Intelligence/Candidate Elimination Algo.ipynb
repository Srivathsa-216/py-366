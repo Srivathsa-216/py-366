{
 "cells": [
  {
   "cell_type": "code",
   "execution_count": 3,
   "metadata": {},
   "outputs": [
    {
     "name": "stdout",
     "output_type": "stream",
     "text": [
      "Most specific is :\n",
      "['Sunny', 'Warm', '?', 'Strong', '?', '?']\n",
      "Most general is :\n",
      "[['Sunny', '?', '?', '?', '?', '?'], ['?', 'Warm', '?', '?', '?', '?']]\n"
     ]
    }
   ],
   "source": [
    "import csv\n",
    "file=open('pg3.csv')\n",
    "data=list(csv.reader(file))[1:]\n",
    "\n",
    "con=[]\n",
    "tar=[]\n",
    "\n",
    "for i in data:\n",
    "    con.append(i[:-1])\n",
    "    tar.append(i[-1])\n",
    "    \n",
    "spec=['0']*len(con[0])\n",
    "gen=[['?' for i in range(len(spec))]for i in range(len(spec))]\n",
    "\n",
    "for i,ins in enumerate(con):\n",
    "    if tar[i]=='Yes':\n",
    "        for x in range(len(spec)):\n",
    "            if spec[x]=='0':\n",
    "                spec[x]=ins[x]\n",
    "            elif ins[x]!=spec[x]:\n",
    "                spec[x]='?'\n",
    "                gen[x][x]='?'\n",
    "                \n",
    "    if tar[i]=='No':\n",
    "        for x in range(len(spec)):\n",
    "            if ins[x]!=spec[x]:\n",
    "                gen[x][x]=spec[x]\n",
    "            else:\n",
    "                gen[x][x]='?'\n",
    "                \n",
    "ind=[i for i,val in enumerate(gen) if val==['?','?','?','?','?','?']]\n",
    "for i in ind:\n",
    "    gen.remove(['?','?','?','?','?','?'])\n",
    "    \n",
    "print(\"Most specific is :\",spec,sep='\\n')\n",
    "print(\"Most general is :\",gen,sep='\\n')\n",
    "                \n",
    "                "
   ]
  },
  {
   "cell_type": "code",
   "execution_count": null,
   "metadata": {},
   "outputs": [],
   "source": []
  }
 ],
 "metadata": {
  "kernelspec": {
   "display_name": "Python 3",
   "language": "python",
   "name": "python3"
  },
  "language_info": {
   "codemirror_mode": {
    "name": "ipython",
    "version": 3
   },
   "file_extension": ".py",
   "mimetype": "text/x-python",
   "name": "python",
   "nbconvert_exporter": "python",
   "pygments_lexer": "ipython3",
   "version": "3.8.5"
  }
 },
 "nbformat": 4,
 "nbformat_minor": 4
}
