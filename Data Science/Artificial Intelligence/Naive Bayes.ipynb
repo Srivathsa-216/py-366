{
 "cells": [
  {
   "cell_type": "code",
   "execution_count": 4,
   "metadata": {},
   "outputs": [
    {
     "name": "stdout",
     "output_type": "stream",
     "text": [
      "768\n",
      "768\n",
      "Number of training instances are : 537\n",
      "Number of testing instances are : 231\n",
      "The accuracy of the algorithm for the give dataset is : 78.35497835497836\n"
     ]
    },
    {
     "name": "stderr",
     "output_type": "stream",
     "text": [
      "C:\\Users\\DELL\\anaconda3\\lib\\site-packages\\sklearn\\utils\\validation.py:956: FutureWarning: Arrays of bytes/strings is being converted to decimal numbers if dtype='numeric'. This behavior is deprecated in 0.24 and will be removed in 1.1 (renaming of 0.26). Please convert your data to numeric values explicitly instead.\n",
      "  X = check_array(\n",
      "C:\\Users\\DELL\\anaconda3\\lib\\site-packages\\sklearn\\base.py:557: FutureWarning: Arrays of bytes/strings is being converted to decimal numbers if dtype='numeric'. This behavior is deprecated in 0.24 and will be removed in 1.1 (renaming of 0.26). Please convert your data to numeric values explicitly instead.\n",
      "  X = check_array(X, **check_params)\n"
     ]
    },
    {
     "data": {
      "text/plain": [
       "array([[128,  18],\n",
       "       [ 32,  53]], dtype=int64)"
      ]
     },
     "execution_count": 4,
     "metadata": {},
     "output_type": "execute_result"
    }
   ],
   "source": [
    "import csv\n",
    "file =open('pg6.csv')\n",
    "data=list(csv.reader(file))\n",
    "\n",
    "x=[]\n",
    "y=[]\n",
    "\n",
    "for row in data:\n",
    "    x.append(row[:-1])\n",
    "    y.append(row[-1])\n",
    "    \n",
    "print(len(x))\n",
    "print(len(y))\n",
    "\n",
    "from sklearn.model_selection import train_test_split\n",
    "xtr,xts,ytr,yts=train_test_split(x,y,test_size=0.3,random_state=1)\n",
    "print(\"Number of training instances are :\",len(xtr))\n",
    "print(\"Number of testing instances are :\",len(xts))\n",
    "\n",
    "from sklearn.naive_bayes import GaussianNB\n",
    "gnb=GaussianNB()\n",
    "gnb.fit(xtr,ytr)\n",
    "\n",
    "y_pred=gnb.predict(xts)\n",
    "\n",
    "from sklearn import metrics\n",
    "print(\"The accuracy of the algorithm for the give dataset is :\",metrics.accuracy_score(yts,y_pred)*100)\n",
    "metrics.confusion_matrix(yts,y_pred)\n"
   ]
  },
  {
   "cell_type": "code",
   "execution_count": null,
   "metadata": {},
   "outputs": [],
   "source": []
  }
 ],
 "metadata": {
  "kernelspec": {
   "display_name": "Python 3",
   "language": "python",
   "name": "python3"
  },
  "language_info": {
   "codemirror_mode": {
    "name": "ipython",
    "version": 3
   },
   "file_extension": ".py",
   "mimetype": "text/x-python",
   "name": "python",
   "nbconvert_exporter": "python",
   "pygments_lexer": "ipython3",
   "version": "3.8.5"
  }
 },
 "nbformat": 4,
 "nbformat_minor": 4
}
