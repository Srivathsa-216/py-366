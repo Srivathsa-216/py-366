{
 "cells": [
  {
   "cell_type": "code",
   "execution_count": 3,
   "metadata": {},
   "outputs": [
    {
     "name": "stdout",
     "output_type": "stream",
     "text": [
      "Path found : "
     ]
    },
    {
     "data": {
      "text/plain": [
       "['S', 'A', 'C', 'G']"
      ]
     },
     "execution_count": 3,
     "metadata": {},
     "output_type": "execute_result"
    }
   ],
   "source": [
    "def astar(start,stop):\n",
    "    open=set(start)\n",
    "    closed=set()\n",
    "    g={}\n",
    "    parents={}\n",
    "    g[start]=0\n",
    "    parents[start]=start\n",
    "    \n",
    "    while len(open)>0:\n",
    "        n=None\n",
    "        \n",
    "        for v in open:\n",
    "            if n==None or g[v]+H[v] < g[n]+H[n]:\n",
    "                n=v\n",
    "                \n",
    "        if n==stop or Graph[n]==None:\n",
    "            pass\n",
    "        else:\n",
    "            for m,weight in get_neighbours(n):\n",
    "                \n",
    "                if m not in open and m not in closed:\n",
    "                    open.add(m)\n",
    "                    parents[m]=n\n",
    "                    g[m]=g[n]+weight\n",
    "                    \n",
    "                else:\n",
    "                    if g[m]>g[n]+weight:\n",
    "                        g[m]=g[n]+weight\n",
    "                        parents[m]=n\n",
    "                        \n",
    "                        if m in closed:\n",
    "                            closed.remove(m)\n",
    "                            open.add(m)\n",
    "                            \n",
    "        \n",
    "        if n==stop:\n",
    "            path=[]\n",
    "            \n",
    "            while parents[n]!=n:\n",
    "                path.append(n)\n",
    "                n=parents[n]\n",
    "            \n",
    "            path.append(start)\n",
    "            \n",
    "            path.reverse()\n",
    "            \n",
    "            print(\"Path found : \",end='')\n",
    "            return path\n",
    "            \n",
    "        open.remove(n)\n",
    "        closed.add(n)\n",
    "        \n",
    "    print('Path does not exist!')\n",
    "    print('open_set',open_set)\n",
    "    print('Parent',parents)\n",
    "    print('Distance g:',g)\n",
    "    return None\n",
    "    \n",
    "    \n",
    "def get_neighbours(v):\n",
    "    if v in Graph:\n",
    "        return Graph[v]\n",
    "    \n",
    "    else:\n",
    "        return None\n",
    "    \n",
    "H={\n",
    "     'S':4,\n",
    "     'C':2,\n",
    "     'A':2,\n",
    "     'B':6,\n",
    "     'G': 0,\n",
    "     'D':3\n",
    "    }\n",
    "\n",
    "#Describe your graph here  \n",
    "Graph = {\n",
    "    'S':[('A',1),('G',12)],\n",
    "    'A': [('B', 3), ('C', 1)],\n",
    "    'C':[('D',1),('G',2)],\n",
    "    'B':[('D',3)],\n",
    "    'D':[('G',3)]\n",
    "}\n",
    "\n",
    "astar('S', 'G')\n",
    "                    \n",
    "                    "
   ]
  },
  {
   "cell_type": "code",
   "execution_count": null,
   "metadata": {},
   "outputs": [],
   "source": []
  }
 ],
 "metadata": {
  "kernelspec": {
   "display_name": "Python 3",
   "language": "python",
   "name": "python3"
  },
  "language_info": {
   "codemirror_mode": {
    "name": "ipython",
    "version": 3
   },
   "file_extension": ".py",
   "mimetype": "text/x-python",
   "name": "python",
   "nbconvert_exporter": "python",
   "pygments_lexer": "ipython3",
   "version": "3.8.5"
  }
 },
 "nbformat": 4,
 "nbformat_minor": 4
}
