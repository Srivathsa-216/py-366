{
 "cells": [
  {
   "cell_type": "markdown",
   "metadata": {
    "id": "ZKaIH8aETqIa"
   },
   "source": [
    "# PLOT INTERACTIVE SCATTERPLOT USING PLOTLY EXPRESS"
   ]
  },
  {
   "cell_type": "code",
   "execution_count": 1,
   "metadata": {
    "colab": {
     "base_uri": "https://localhost:8080/"
    },
    "id": "BnNy-ymdw9Ry",
    "outputId": "df766dbe-e3b9-448e-d420-b1cf86cbb4d5"
   },
   "outputs": [],
   "source": [
    "# Make sure to install plotly \n",
    "#!pip install plotly==4.14.3"
   ]
  },
  {
   "cell_type": "code",
   "execution_count": 2,
   "metadata": {
    "id": "Zh7TaPdlTtCb"
   },
   "outputs": [],
   "source": [
    "# The plotly Python package empowers anyone to create, manipulate and render graphical figures.\n",
    "# The figures are represented by data structures referred to as figures. \n",
    "# The rendering process uses the Plotly.js JavaScript library under the hood but you never need to use Java directly. \n",
    "# Figures can be represented in Python either as dictionaries or as instances of the plotly.graph_objects\n",
    "\n",
    "# Note: \n",
    "# Plotly Express is the recommended entry-point into the plotly package \n",
    "# PLotly Express is the high-level plotly.express module that consists of Python functions which return fully-populated plotly.graph_objects.Figure objects. \n",
    "# plotly.express module contains functions that can create interactive figures using a very few lines of code\n",
    "# Plotly Express is refered to as px. \n",
    "# Plotly Express is a built-in part of the plotly library \n",
    "# Plotly Express function uses graph objects internally and returns a plotly.graph_objects.Figure instance.\n",
    "# check out the documentation here: https://plotly.com/python/plotly-express/ \n",
    "import plotly.express as px\n",
    "import pandas as pd\n",
    "import plotly.io as pio"
   ]
  },
  {
   "cell_type": "code",
   "execution_count": 3,
   "metadata": {
    "colab": {
     "base_uri": "https://localhost:8080/",
     "height": 413
    },
    "id": "M9kjyYq9T69Q",
    "outputId": "f69c441d-9273-4630-b41e-7498c58baf37"
   },
   "outputs": [
    {
     "data": {
      "text/html": [
       "<div>\n",
       "<style scoped>\n",
       "    .dataframe tbody tr th:only-of-type {\n",
       "        vertical-align: middle;\n",
       "    }\n",
       "\n",
       "    .dataframe tbody tr th {\n",
       "        vertical-align: top;\n",
       "    }\n",
       "\n",
       "    .dataframe thead th {\n",
       "        text-align: right;\n",
       "    }\n",
       "</style>\n",
       "<table border=\"1\" class=\"dataframe\">\n",
       "  <thead>\n",
       "    <tr style=\"text-align: right;\">\n",
       "      <th></th>\n",
       "      <th>Years_of_Experience</th>\n",
       "      <th>Salary</th>\n",
       "    </tr>\n",
       "  </thead>\n",
       "  <tbody>\n",
       "    <tr>\n",
       "      <th>0</th>\n",
       "      <td>1.000000</td>\n",
       "      <td>40000.00000</td>\n",
       "    </tr>\n",
       "    <tr>\n",
       "      <th>1</th>\n",
       "      <td>2.257942</td>\n",
       "      <td>65979.42119</td>\n",
       "    </tr>\n",
       "    <tr>\n",
       "      <th>2</th>\n",
       "      <td>2.450875</td>\n",
       "      <td>67253.57549</td>\n",
       "    </tr>\n",
       "    <tr>\n",
       "      <th>3</th>\n",
       "      <td>2.498713</td>\n",
       "      <td>67342.43510</td>\n",
       "    </tr>\n",
       "    <tr>\n",
       "      <th>4</th>\n",
       "      <td>2.613729</td>\n",
       "      <td>70532.20448</td>\n",
       "    </tr>\n",
       "    <tr>\n",
       "      <th>...</th>\n",
       "      <td>...</td>\n",
       "      <td>...</td>\n",
       "    </tr>\n",
       "    <tr>\n",
       "      <th>1995</th>\n",
       "      <td>19.178575</td>\n",
       "      <td>421534.69100</td>\n",
       "    </tr>\n",
       "    <tr>\n",
       "      <th>1996</th>\n",
       "      <td>19.254499</td>\n",
       "      <td>430478.02650</td>\n",
       "    </tr>\n",
       "    <tr>\n",
       "      <th>1997</th>\n",
       "      <td>19.353369</td>\n",
       "      <td>438090.84540</td>\n",
       "    </tr>\n",
       "    <tr>\n",
       "      <th>1998</th>\n",
       "      <td>19.842520</td>\n",
       "      <td>482242.16080</td>\n",
       "    </tr>\n",
       "    <tr>\n",
       "      <th>1999</th>\n",
       "      <td>20.000000</td>\n",
       "      <td>500000.00000</td>\n",
       "    </tr>\n",
       "  </tbody>\n",
       "</table>\n",
       "<p>2000 rows × 2 columns</p>\n",
       "</div>"
      ],
      "text/plain": [
       "      Years_of_Experience        Salary\n",
       "0                1.000000   40000.00000\n",
       "1                2.257942   65979.42119\n",
       "2                2.450875   67253.57549\n",
       "3                2.498713   67342.43510\n",
       "4                2.613729   70532.20448\n",
       "...                   ...           ...\n",
       "1995            19.178575  421534.69100\n",
       "1996            19.254499  430478.02650\n",
       "1997            19.353369  438090.84540\n",
       "1998            19.842520  482242.16080\n",
       "1999            20.000000  500000.00000\n",
       "\n",
       "[2000 rows x 2 columns]"
      ]
     },
     "execution_count": 3,
     "metadata": {},
     "output_type": "execute_result"
    }
   ],
   "source": [
    "salary_df = pd.read_csv('employee_salaries.csv')\n",
    "salary_df"
   ]
  },
  {
   "cell_type": "code",
   "execution_count": 5,
   "metadata": {
    "id": "xd_a6vxYTtEc",
    "scrolled": false
   },
   "outputs": [],
   "source": [
    "# Plot Years of Experience Vs. Salary Using Plolty Express\n",
    "\n",
    "fig1 = px.scatter(salary_df, x = 'Years_of_Experience', y = 'Salary')\n",
    "pio.write_html(fig1, 'plot11.html',auto_open=True)"
   ]
  },
  {
   "cell_type": "code",
   "execution_count": 6,
   "metadata": {
    "id": "-s9aGYNUTrp4",
    "scrolled": false
   },
   "outputs": [
    {
     "data": {
      "text/html": [
       "<div>\n",
       "<style scoped>\n",
       "    .dataframe tbody tr th:only-of-type {\n",
       "        vertical-align: middle;\n",
       "    }\n",
       "\n",
       "    .dataframe tbody tr th {\n",
       "        vertical-align: top;\n",
       "    }\n",
       "\n",
       "    .dataframe thead th {\n",
       "        text-align: right;\n",
       "    }\n",
       "</style>\n",
       "<table border=\"1\" class=\"dataframe\">\n",
       "  <thead>\n",
       "    <tr style=\"text-align: right;\">\n",
       "      <th></th>\n",
       "      <th>Serial No.</th>\n",
       "      <th>GRE Score</th>\n",
       "      <th>TOEFL Score</th>\n",
       "      <th>University Rating</th>\n",
       "      <th>SOP</th>\n",
       "      <th>LOR</th>\n",
       "      <th>CGPA</th>\n",
       "      <th>Research</th>\n",
       "      <th>Chance of Admit</th>\n",
       "    </tr>\n",
       "  </thead>\n",
       "  <tbody>\n",
       "    <tr>\n",
       "      <th>0</th>\n",
       "      <td>1</td>\n",
       "      <td>337</td>\n",
       "      <td>118</td>\n",
       "      <td>4</td>\n",
       "      <td>4.5</td>\n",
       "      <td>4.5</td>\n",
       "      <td>9.65</td>\n",
       "      <td>1</td>\n",
       "      <td>0.92</td>\n",
       "    </tr>\n",
       "    <tr>\n",
       "      <th>1</th>\n",
       "      <td>2</td>\n",
       "      <td>324</td>\n",
       "      <td>107</td>\n",
       "      <td>4</td>\n",
       "      <td>4.0</td>\n",
       "      <td>4.5</td>\n",
       "      <td>8.87</td>\n",
       "      <td>1</td>\n",
       "      <td>0.76</td>\n",
       "    </tr>\n",
       "    <tr>\n",
       "      <th>2</th>\n",
       "      <td>3</td>\n",
       "      <td>316</td>\n",
       "      <td>104</td>\n",
       "      <td>3</td>\n",
       "      <td>3.0</td>\n",
       "      <td>3.5</td>\n",
       "      <td>8.00</td>\n",
       "      <td>1</td>\n",
       "      <td>0.72</td>\n",
       "    </tr>\n",
       "    <tr>\n",
       "      <th>3</th>\n",
       "      <td>4</td>\n",
       "      <td>322</td>\n",
       "      <td>110</td>\n",
       "      <td>3</td>\n",
       "      <td>3.5</td>\n",
       "      <td>2.5</td>\n",
       "      <td>8.67</td>\n",
       "      <td>1</td>\n",
       "      <td>0.80</td>\n",
       "    </tr>\n",
       "    <tr>\n",
       "      <th>4</th>\n",
       "      <td>5</td>\n",
       "      <td>314</td>\n",
       "      <td>103</td>\n",
       "      <td>2</td>\n",
       "      <td>2.0</td>\n",
       "      <td>3.0</td>\n",
       "      <td>8.21</td>\n",
       "      <td>0</td>\n",
       "      <td>0.65</td>\n",
       "    </tr>\n",
       "    <tr>\n",
       "      <th>...</th>\n",
       "      <td>...</td>\n",
       "      <td>...</td>\n",
       "      <td>...</td>\n",
       "      <td>...</td>\n",
       "      <td>...</td>\n",
       "      <td>...</td>\n",
       "      <td>...</td>\n",
       "      <td>...</td>\n",
       "      <td>...</td>\n",
       "    </tr>\n",
       "    <tr>\n",
       "      <th>495</th>\n",
       "      <td>496</td>\n",
       "      <td>332</td>\n",
       "      <td>108</td>\n",
       "      <td>5</td>\n",
       "      <td>4.5</td>\n",
       "      <td>4.0</td>\n",
       "      <td>9.02</td>\n",
       "      <td>1</td>\n",
       "      <td>0.87</td>\n",
       "    </tr>\n",
       "    <tr>\n",
       "      <th>496</th>\n",
       "      <td>497</td>\n",
       "      <td>337</td>\n",
       "      <td>117</td>\n",
       "      <td>5</td>\n",
       "      <td>5.0</td>\n",
       "      <td>5.0</td>\n",
       "      <td>9.87</td>\n",
       "      <td>1</td>\n",
       "      <td>0.96</td>\n",
       "    </tr>\n",
       "    <tr>\n",
       "      <th>497</th>\n",
       "      <td>498</td>\n",
       "      <td>330</td>\n",
       "      <td>120</td>\n",
       "      <td>5</td>\n",
       "      <td>4.5</td>\n",
       "      <td>5.0</td>\n",
       "      <td>9.56</td>\n",
       "      <td>1</td>\n",
       "      <td>0.93</td>\n",
       "    </tr>\n",
       "    <tr>\n",
       "      <th>498</th>\n",
       "      <td>499</td>\n",
       "      <td>312</td>\n",
       "      <td>103</td>\n",
       "      <td>4</td>\n",
       "      <td>4.0</td>\n",
       "      <td>5.0</td>\n",
       "      <td>8.43</td>\n",
       "      <td>0</td>\n",
       "      <td>0.73</td>\n",
       "    </tr>\n",
       "    <tr>\n",
       "      <th>499</th>\n",
       "      <td>500</td>\n",
       "      <td>327</td>\n",
       "      <td>113</td>\n",
       "      <td>4</td>\n",
       "      <td>4.5</td>\n",
       "      <td>4.5</td>\n",
       "      <td>9.04</td>\n",
       "      <td>0</td>\n",
       "      <td>0.84</td>\n",
       "    </tr>\n",
       "  </tbody>\n",
       "</table>\n",
       "<p>500 rows × 9 columns</p>\n",
       "</div>"
      ],
      "text/plain": [
       "     Serial No.  GRE Score  TOEFL Score  University Rating  SOP  LOR  CGPA  \\\n",
       "0             1        337          118                  4  4.5  4.5  9.65   \n",
       "1             2        324          107                  4  4.0  4.5  8.87   \n",
       "2             3        316          104                  3  3.0  3.5  8.00   \n",
       "3             4        322          110                  3  3.5  2.5  8.67   \n",
       "4             5        314          103                  2  2.0  3.0  8.21   \n",
       "..          ...        ...          ...                ...  ...  ...   ...   \n",
       "495         496        332          108                  5  4.5  4.0  9.02   \n",
       "496         497        337          117                  5  5.0  5.0  9.87   \n",
       "497         498        330          120                  5  4.5  5.0  9.56   \n",
       "498         499        312          103                  4  4.0  5.0  8.43   \n",
       "499         500        327          113                  4  4.5  4.5  9.04   \n",
       "\n",
       "     Research  Chance of Admit  \n",
       "0           1             0.92  \n",
       "1           1             0.76  \n",
       "2           1             0.72  \n",
       "3           1             0.80  \n",
       "4           0             0.65  \n",
       "..        ...              ...  \n",
       "495         1             0.87  \n",
       "496         1             0.96  \n",
       "497         1             0.93  \n",
       "498         0             0.73  \n",
       "499         0             0.84  \n",
       "\n",
       "[500 rows x 9 columns]"
      ]
     },
     "execution_count": 6,
     "metadata": {},
     "output_type": "execute_result"
    }
   ],
   "source": [
    "# Let's import another more advanced dataset entitled University admission (university_admission)\n",
    "\n",
    "# GRE Scores (out of 340)\n",
    "# TOEFL Scores (out of 120)\n",
    "# University Rating (out of 5)\n",
    "# Statement of Purpose (SOP) \n",
    "# Letter of Recommendation (LOR) Strength (out of 5)\n",
    "# Undergraduate GPA (out of 10)\n",
    "# Research Experience (either 0 or 1)\n",
    "# Chance of admission (ranging from 0 to 1)\n",
    "\n",
    "admission_df = pd.read_csv('university_admission.csv')\n",
    "admission_df"
   ]
  },
  {
   "cell_type": "markdown",
   "metadata": {},
   "source": [
    "\n",
    "- **Plot the scatter plot for GRE Score vs. chance of admission**\n",
    "- **What do you infer from that plot?**\n",
    "- **Use the color attribute to show the university rating as a third dimension**"
   ]
  },
  {
   "cell_type": "code",
   "execution_count": 8,
   "metadata": {},
   "outputs": [
    {
     "name": "stdout",
     "output_type": "stream",
     "text": [
      "By seeing the graph we can conclude theat as the GRE score is high the student chance of entering to that particular university will be high\n"
     ]
    }
   ],
   "source": [
    "fig1 = px.scatter(admission_df, x='GRE Score',y='Chance of Admit')\n",
    "pio.write_html(fig1, 'plot12.html',auto_open=True)\n",
    "print(\"By seeing the graph we can conclude theat as the GRE score is high the student chance of entering to that particular university will be high\");\n",
    "fig11 = px.scatter_3d(admission_df, x = 'GRE Score', y = 'Chance of Admit', z = 'University Rating', color='University Rating')\n",
    "fig11.update_layout(\n",
    "    template='plotly_dark'\n",
    ")\n",
    "pio.write_html(fig11, 'plot13.html',auto_open=True)"
   ]
  },
  {
   "cell_type": "markdown",
   "metadata": {
    "id": "vN7F7vA_WKvv"
   },
   "source": [
    "# PLOT INTERACTIVE BUBBLE CHART (SCATTERPLOT WITH SIZE)"
   ]
  },
  {
   "cell_type": "code",
   "execution_count": 9,
   "metadata": {
    "id": "Pf7p2M94WuuU"
   },
   "outputs": [],
   "source": [
    "# Let's add a fourth variable \"SOP\" as the size \n",
    "fig2 = px.scatter(admission_df, x = 'GRE Score', y = 'Chance of Admit', color = 'University Rating', size = 'SOP')\n",
    "pio.write_html(fig2, 'plot2.html',auto_open=True)"
   ]
  },
  {
   "cell_type": "code",
   "execution_count": 10,
   "metadata": {
    "id": "zLPcim5vX-9y"
   },
   "outputs": [],
   "source": [
    "# You can also add more data on hover using hover_data\n",
    "fig2 = px.scatter(admission_df, x = 'GRE Score', y = 'Chance of Admit', color = 'University Rating', size = 'SOP',hover_data = ['LOR'])\n",
    "pio.write_html(fig2, 'plot21.html',auto_open=True)"
   ]
  },
  {
   "cell_type": "markdown",
   "metadata": {},
   "source": [
    "\n",
    "- **Modify the SOP column to make the bubble size variations more prominent** "
   ]
  },
  {
   "cell_type": "code",
   "execution_count": 11,
   "metadata": {},
   "outputs": [],
   "source": [
    "#admission_df['SOP']=admission_df['SOP']**2\n",
    "import numpy as np\n",
    "#admission_df['SOP']=np.sqrt(admission_df['SOP'])\n",
    "fig2 = px.scatter(admission_df, x = 'GRE Score', y = 'Chance of Admit', color = 'University Rating', size = 'SOP',hover_data = ['LOR'])\n",
    "pio.write_html(fig2, 'plot22.html',auto_open=True)"
   ]
  },
  {
   "cell_type": "markdown",
   "metadata": {
    "id": "x2KjzJXNb26D"
   },
   "source": [
    "# PLOT INTERACTIVE SINGLE LINEPLOT USING PLOTLY EXPRESS"
   ]
  },
  {
   "cell_type": "code",
   "execution_count": 12,
   "metadata": {
    "id": "UixwoeQWcZzq"
   },
   "outputs": [
    {
     "data": {
      "text/html": [
       "<div>\n",
       "<style scoped>\n",
       "    .dataframe tbody tr th:only-of-type {\n",
       "        vertical-align: middle;\n",
       "    }\n",
       "\n",
       "    .dataframe tbody tr th {\n",
       "        vertical-align: top;\n",
       "    }\n",
       "\n",
       "    .dataframe thead th {\n",
       "        text-align: right;\n",
       "    }\n",
       "</style>\n",
       "<table border=\"1\" class=\"dataframe\">\n",
       "  <thead>\n",
       "    <tr style=\"text-align: right;\">\n",
       "      <th></th>\n",
       "      <th>Date</th>\n",
       "      <th>BTC-USD Price</th>\n",
       "      <th>ETH-USD Price</th>\n",
       "      <th>LTC-USD Price</th>\n",
       "    </tr>\n",
       "  </thead>\n",
       "  <tbody>\n",
       "    <tr>\n",
       "      <th>0</th>\n",
       "      <td>9/17/2014</td>\n",
       "      <td>457.334015</td>\n",
       "      <td>NaN</td>\n",
       "      <td>5.05855</td>\n",
       "    </tr>\n",
       "    <tr>\n",
       "      <th>1</th>\n",
       "      <td>9/18/2014</td>\n",
       "      <td>424.440002</td>\n",
       "      <td>NaN</td>\n",
       "      <td>4.68523</td>\n",
       "    </tr>\n",
       "    <tr>\n",
       "      <th>2</th>\n",
       "      <td>9/19/2014</td>\n",
       "      <td>394.795990</td>\n",
       "      <td>NaN</td>\n",
       "      <td>4.32777</td>\n",
       "    </tr>\n",
       "    <tr>\n",
       "      <th>3</th>\n",
       "      <td>9/20/2014</td>\n",
       "      <td>408.903992</td>\n",
       "      <td>NaN</td>\n",
       "      <td>4.28644</td>\n",
       "    </tr>\n",
       "    <tr>\n",
       "      <th>4</th>\n",
       "      <td>9/21/2014</td>\n",
       "      <td>398.821014</td>\n",
       "      <td>NaN</td>\n",
       "      <td>4.24592</td>\n",
       "    </tr>\n",
       "    <tr>\n",
       "      <th>5</th>\n",
       "      <td>9/22/2014</td>\n",
       "      <td>402.152008</td>\n",
       "      <td>NaN</td>\n",
       "      <td>4.24235</td>\n",
       "    </tr>\n",
       "    <tr>\n",
       "      <th>6</th>\n",
       "      <td>9/23/2014</td>\n",
       "      <td>435.790985</td>\n",
       "      <td>NaN</td>\n",
       "      <td>4.74657</td>\n",
       "    </tr>\n",
       "    <tr>\n",
       "      <th>7</th>\n",
       "      <td>9/24/2014</td>\n",
       "      <td>423.204987</td>\n",
       "      <td>NaN</td>\n",
       "      <td>4.66679</td>\n",
       "    </tr>\n",
       "    <tr>\n",
       "      <th>8</th>\n",
       "      <td>9/25/2014</td>\n",
       "      <td>411.574005</td>\n",
       "      <td>NaN</td>\n",
       "      <td>4.51465</td>\n",
       "    </tr>\n",
       "    <tr>\n",
       "      <th>9</th>\n",
       "      <td>9/26/2014</td>\n",
       "      <td>404.424988</td>\n",
       "      <td>NaN</td>\n",
       "      <td>4.43359</td>\n",
       "    </tr>\n",
       "  </tbody>\n",
       "</table>\n",
       "</div>"
      ],
      "text/plain": [
       "        Date  BTC-USD Price  ETH-USD Price  LTC-USD Price\n",
       "0  9/17/2014     457.334015            NaN        5.05855\n",
       "1  9/18/2014     424.440002            NaN        4.68523\n",
       "2  9/19/2014     394.795990            NaN        4.32777\n",
       "3  9/20/2014     408.903992            NaN        4.28644\n",
       "4  9/21/2014     398.821014            NaN        4.24592\n",
       "5  9/22/2014     402.152008            NaN        4.24235\n",
       "6  9/23/2014     435.790985            NaN        4.74657\n",
       "7  9/24/2014     423.204987            NaN        4.66679\n",
       "8  9/25/2014     411.574005            NaN        4.51465\n",
       "9  9/26/2014     404.424988            NaN        4.43359"
      ]
     },
     "execution_count": 12,
     "metadata": {},
     "output_type": "execute_result"
    }
   ],
   "source": [
    "# Import the crypto currency dataset\n",
    "crypto_df = pd.read_csv('crypto_prices.csv')\n",
    "crypto_df.head(10)"
   ]
  },
  {
   "cell_type": "code",
   "execution_count": 13,
   "metadata": {
    "id": "C7Idj8CtarJT"
   },
   "outputs": [],
   "source": [
    "fig3 = px.line(crypto_df, x = 'Date', y = 'BTC-USD Price')\n",
    "pio.write_html(fig3, 'plot3.html',auto_open=True)"
   ]
  },
  {
   "cell_type": "markdown",
   "metadata": {},
   "source": [
    "\n",
    "- **Plot interactive line plot for Ethereum and Litecoin.**\n",
    "- **What is the maximum price of Bitcoin, Ethereum and Litecoin over the specified time period?**\n",
    "- **Indicate the date when these peak prices took place**\n"
   ]
  },
  {
   "cell_type": "code",
   "execution_count": 14,
   "metadata": {},
   "outputs": [
    {
     "name": "stdout",
     "output_type": "stream",
     "text": [
      "Maximum BTC-USD Price: 61243.08594 on 3/13/2021\n",
      "Maximum ETH-USD Price: 1977.276855 on 4/1/2021\n",
      "Maximum LTC-USD Price: 358.3359985 on 12/18/2017\n"
     ]
    }
   ],
   "source": [
    "crypto_df_cleaned = crypto_df.dropna(subset=['Date', 'BTC-USD Price', 'ETH-USD Price','LTC-USD Price'])\n",
    "fig31 = px.line(crypto_df_cleaned, x = 'Date', y = 'BTC-USD Price')\n",
    "fig32 = px.line(crypto_df_cleaned, x = 'Date', y = 'ETH-USD Price')\n",
    "fig33 = px.line(crypto_df_cleaned, x = 'Date', y = 'LTC-USD Price')\n",
    "\n",
    "pio.write_html(fig31, 'plot31.html',auto_open=True)\n",
    "pio.write_html(fig32, 'plot32.html',auto_open=True)\n",
    "pio.write_html(fig33, 'plot33.html',auto_open=True)\n",
    "\n",
    "# Find the dates when prices were at their maximum\n",
    "max_btc = crypto_df_cleaned['BTC-USD Price'].max()\n",
    "max_eth = crypto_df_cleaned['ETH-USD Price'].max()\n",
    "max_ltc = crypto_df_cleaned['LTC-USD Price'].max()\n",
    "\n",
    "date_max_btc = crypto_df_cleaned.loc[crypto_df_cleaned['BTC-USD Price'].idxmax(), 'Date']\n",
    "date_max_eth = crypto_df_cleaned.loc[crypto_df_cleaned['ETH-USD Price'].idxmax(), 'Date']\n",
    "date_max_ltc = crypto_df_cleaned.loc[crypto_df_cleaned['LTC-USD Price'].idxmax(), 'Date']\n",
    "\n",
    "# Print the maximum values and their corresponding dates\n",
    "print(\"Maximum BTC-USD Price:\", max_btc, \"on\", date_max_btc)\n",
    "print(\"Maximum ETH-USD Price:\", max_eth, \"on\", date_max_eth)\n",
    "print(\"Maximum LTC-USD Price:\", max_ltc, \"on\", date_max_ltc)"
   ]
  },
  {
   "cell_type": "markdown",
   "metadata": {
    "id": "uE19gqF2eH5r"
   },
   "source": [
    "# PLOT INTERACTIVE MULTIPLE LINE PLOTS USING PLOTLY EXPRESS"
   ]
  },
  {
   "cell_type": "code",
   "execution_count": 16,
   "metadata": {
    "id": "wOsE9MiZeLY-"
   },
   "outputs": [
    {
     "data": {
      "text/html": [
       "<div>\n",
       "<style scoped>\n",
       "    .dataframe tbody tr th:only-of-type {\n",
       "        vertical-align: middle;\n",
       "    }\n",
       "\n",
       "    .dataframe tbody tr th {\n",
       "        vertical-align: top;\n",
       "    }\n",
       "\n",
       "    .dataframe thead th {\n",
       "        text-align: right;\n",
       "    }\n",
       "</style>\n",
       "<table border=\"1\" class=\"dataframe\">\n",
       "  <thead>\n",
       "    <tr style=\"text-align: right;\">\n",
       "      <th></th>\n",
       "      <th>Date</th>\n",
       "      <th>BTC-USD Price</th>\n",
       "      <th>ETH-USD Price</th>\n",
       "      <th>LTC-USD Price</th>\n",
       "    </tr>\n",
       "  </thead>\n",
       "  <tbody>\n",
       "    <tr>\n",
       "      <th>0</th>\n",
       "      <td>9/17/2014</td>\n",
       "      <td>457.334015</td>\n",
       "      <td>NaN</td>\n",
       "      <td>5.05855</td>\n",
       "    </tr>\n",
       "    <tr>\n",
       "      <th>1</th>\n",
       "      <td>9/18/2014</td>\n",
       "      <td>424.440002</td>\n",
       "      <td>NaN</td>\n",
       "      <td>4.68523</td>\n",
       "    </tr>\n",
       "    <tr>\n",
       "      <th>2</th>\n",
       "      <td>9/19/2014</td>\n",
       "      <td>394.795990</td>\n",
       "      <td>NaN</td>\n",
       "      <td>4.32777</td>\n",
       "    </tr>\n",
       "    <tr>\n",
       "      <th>3</th>\n",
       "      <td>9/20/2014</td>\n",
       "      <td>408.903992</td>\n",
       "      <td>NaN</td>\n",
       "      <td>4.28644</td>\n",
       "    </tr>\n",
       "    <tr>\n",
       "      <th>4</th>\n",
       "      <td>9/21/2014</td>\n",
       "      <td>398.821014</td>\n",
       "      <td>NaN</td>\n",
       "      <td>4.24592</td>\n",
       "    </tr>\n",
       "  </tbody>\n",
       "</table>\n",
       "</div>"
      ],
      "text/plain": [
       "        Date  BTC-USD Price  ETH-USD Price  LTC-USD Price\n",
       "0  9/17/2014     457.334015            NaN        5.05855\n",
       "1  9/18/2014     424.440002            NaN        4.68523\n",
       "2  9/19/2014     394.795990            NaN        4.32777\n",
       "3  9/20/2014     408.903992            NaN        4.28644\n",
       "4  9/21/2014     398.821014            NaN        4.24592"
      ]
     },
     "execution_count": 16,
     "metadata": {},
     "output_type": "execute_result"
    }
   ],
   "source": [
    "crypto_df = pd.read_csv('crypto_prices.csv')\n",
    "crypto_df.head()"
   ]
  },
  {
   "cell_type": "code",
   "execution_count": 17,
   "metadata": {},
   "outputs": [
    {
     "data": {
      "text/plain": [
       "Index(['Date', 'BTC-USD Price', 'ETH-USD Price', 'LTC-USD Price'], dtype='object')"
      ]
     },
     "execution_count": 17,
     "metadata": {},
     "output_type": "execute_result"
    }
   ],
   "source": [
    "crypto_df.columns"
   ]
  },
  {
   "cell_type": "code",
   "execution_count": 18,
   "metadata": {
    "id": "RLBL_1cuciUF"
   },
   "outputs": [],
   "source": [
    "fig4 =px.line()\n",
    "\n",
    "for i in crypto_df.columns[1:]:\n",
    "    fig4.add_scatter(x = crypto_df['Date'], y = crypto_df[i], name = i)\n",
    "    \n",
    "pio.write_html(fig4, 'plot41.html',auto_open=True)"
   ]
  },
  {
   "cell_type": "markdown",
   "metadata": {},
   "source": [
    "\n",
    "- **Use \"compare data on hover\" feature to indicate the prices of LTC and ETH when BTC price peaked.**\n",
    "- **Use Pandas operations to filter out to filter out the DataFrame and confirm your answers**"
   ]
  },
  {
   "cell_type": "code",
   "execution_count": 19,
   "metadata": {},
   "outputs": [
    {
     "name": "stdout",
     "output_type": "stream",
     "text": [
      "Max price is ::  61243.08594 , At location ::  3/13/2021\n"
     ]
    }
   ],
   "source": [
    "fig4 = px.line()\n",
    "\n",
    "# Iterate through the columns except for 'Date'\n",
    "for i in crypto_df.columns[1:]:\n",
    "    fig4.add_scatter(x=crypto_df['Date'], y=crypto_df[i], name=i)\n",
    "\n",
    "# Enable the \"compare data on hover\" feature\n",
    "fig4.update_layout(hovermode='x unified')\n",
    "\n",
    "# Find the date when BTC price peaked\n",
    "max_btc_price = crypto_df['BTC-USD Price'].max()\n",
    "btc_peak_date = crypto_df.loc[crypto_df['BTC-USD Price'] == max_btc_price, 'Date'].values[0]\n",
    "print(\"Max price is :: \",max_btc_price, \", At location :: \", btc_peak_date)\n",
    "\n",
    "crypto_df[crypto_df['BTC-USD Price'] == crypto_df['BTC-USD Price'].max()]\n",
    "\n",
    "crypto_df[crypto_df['Date'] == '3/13/2021']\n",
    "\n",
    "# Save the plot as an HTML file and open it\n",
    "pio.write_html(fig4, 'plot42.html', auto_open=True)"
   ]
  },
  {
   "cell_type": "markdown",
   "metadata": {
    "id": "BmXHSFCIh5d0"
   },
   "source": [
    "# PLOT INTERACTIVE PIE CHARTS"
   ]
  },
  {
   "cell_type": "code",
   "execution_count": 20,
   "metadata": {
    "id": "50wfQGwIjDe8"
   },
   "outputs": [
    {
     "data": {
      "text/plain": [
       "{'Allocation %': [20, 20, 20, 20, 20]}"
      ]
     },
     "execution_count": 20,
     "metadata": {},
     "output_type": "execute_result"
    }
   ],
   "source": [
    "# Define a dictionary with all crypto allocation in a portfolio\n",
    "# Note that total summation = 100% \n",
    "\n",
    "my_dict = {'Allocation %' : [20, 20, 20, 20, 20]}\n",
    "my_dict"
   ]
  },
  {
   "cell_type": "code",
   "execution_count": 21,
   "metadata": {
    "id": "V9Pvat8QjGbZ"
   },
   "outputs": [
    {
     "data": {
      "text/html": [
       "<div>\n",
       "<style scoped>\n",
       "    .dataframe tbody tr th:only-of-type {\n",
       "        vertical-align: middle;\n",
       "    }\n",
       "\n",
       "    .dataframe tbody tr th {\n",
       "        vertical-align: top;\n",
       "    }\n",
       "\n",
       "    .dataframe thead th {\n",
       "        text-align: right;\n",
       "    }\n",
       "</style>\n",
       "<table border=\"1\" class=\"dataframe\">\n",
       "  <thead>\n",
       "    <tr style=\"text-align: right;\">\n",
       "      <th></th>\n",
       "      <th>Allocation %</th>\n",
       "    </tr>\n",
       "  </thead>\n",
       "  <tbody>\n",
       "    <tr>\n",
       "      <th>ADA</th>\n",
       "      <td>20</td>\n",
       "    </tr>\n",
       "    <tr>\n",
       "      <th>BTC</th>\n",
       "      <td>20</td>\n",
       "    </tr>\n",
       "    <tr>\n",
       "      <th>LTC</th>\n",
       "      <td>20</td>\n",
       "    </tr>\n",
       "    <tr>\n",
       "      <th>ETC</th>\n",
       "      <td>20</td>\n",
       "    </tr>\n",
       "    <tr>\n",
       "      <th>XRP</th>\n",
       "      <td>20</td>\n",
       "    </tr>\n",
       "  </tbody>\n",
       "</table>\n",
       "</div>"
      ],
      "text/plain": [
       "     Allocation %\n",
       "ADA            20\n",
       "BTC            20\n",
       "LTC            20\n",
       "ETC            20\n",
       "XRP            20"
      ]
     },
     "execution_count": 21,
     "metadata": {},
     "output_type": "execute_result"
    }
   ],
   "source": [
    "crypto_df = pd.DataFrame(data = my_dict , index = ['ADA','BTC','LTC','ETC','XRP'])\n",
    "crypto_df"
   ]
  },
  {
   "cell_type": "code",
   "execution_count": 22,
   "metadata": {
    "id": "hm5COKm6jJrA",
    "scrolled": false
   },
   "outputs": [],
   "source": [
    "# Use Plotly Express to plot a pie chart \n",
    "fig5 = px.pie(crypto_df, values = 'Allocation %', names = ['ADA','BTC','LTC','ETC','XRP'], title = 'Crypto Occupancy')\n",
    "pio.write_html(fig5, 'plot51.html',auto_open=True)"
   ]
  },
  {
   "cell_type": "markdown",
   "metadata": {},
   "source": [
    "\n",
    "- **Assume that you became bullish on XRP and decided to allocate 60% of your assets in it. You also decided to equally divide the rest of your assets in other coins (BTC, LTC, ADA, and ETH). Change the allocations and plot the pie chart.**\n",
    "- **Use 'hole' attribute and see its impact on the pie chart (External Research is Required)**"
   ]
  },
  {
   "cell_type": "code",
   "execution_count": 23,
   "metadata": {},
   "outputs": [],
   "source": [
    "my_dict = {'Allocation %' : [10, 10, 10, 10, 60]}\n",
    "crypto_df = pd.DataFrame(data = my_dict , index = ['ADA','BTC','LTC','ETC','XRP'])\n",
    "fig5 = px.pie(crypto_df, values = 'Allocation %', names = ['ADA','BTC','LTC','ETC','XRP'], title = 'Crypto Occupancy')\n",
    "pio.write_html(fig5, 'plot52.html',auto_open=True)\n",
    "fig5 = px.pie(crypto_df, values = 'Allocation %', names = ['ADA','BTC','LTC','ETC','XRP'], title = 'Crypto Occupancy', hole = 0.3)\n",
    "pio.write_html(fig5, 'plot53.html',auto_open=True)"
   ]
  },
  {
   "cell_type": "markdown",
   "metadata": {
    "id": "Tdm1w5hKkk6k"
   },
   "source": [
    "#  PLOT INTERACTIVE BAR CHART "
   ]
  },
  {
   "cell_type": "code",
   "execution_count": 24,
   "metadata": {},
   "outputs": [
    {
     "data": {
      "text/html": [
       "<div>\n",
       "<style scoped>\n",
       "    .dataframe tbody tr th:only-of-type {\n",
       "        vertical-align: middle;\n",
       "    }\n",
       "\n",
       "    .dataframe tbody tr th {\n",
       "        vertical-align: top;\n",
       "    }\n",
       "\n",
       "    .dataframe thead th {\n",
       "        text-align: right;\n",
       "    }\n",
       "</style>\n",
       "<table border=\"1\" class=\"dataframe\">\n",
       "  <thead>\n",
       "    <tr style=\"text-align: right;\">\n",
       "      <th></th>\n",
       "      <th>country</th>\n",
       "      <th>continent</th>\n",
       "      <th>year</th>\n",
       "      <th>lifeExp</th>\n",
       "      <th>pop</th>\n",
       "      <th>gdpPercap</th>\n",
       "      <th>iso_alpha</th>\n",
       "      <th>iso_num</th>\n",
       "    </tr>\n",
       "  </thead>\n",
       "  <tbody>\n",
       "    <tr>\n",
       "      <th>0</th>\n",
       "      <td>Afghanistan</td>\n",
       "      <td>Asia</td>\n",
       "      <td>1952</td>\n",
       "      <td>28.801</td>\n",
       "      <td>8425333</td>\n",
       "      <td>779.445314</td>\n",
       "      <td>AFG</td>\n",
       "      <td>4</td>\n",
       "    </tr>\n",
       "    <tr>\n",
       "      <th>1</th>\n",
       "      <td>Afghanistan</td>\n",
       "      <td>Asia</td>\n",
       "      <td>1957</td>\n",
       "      <td>30.332</td>\n",
       "      <td>9240934</td>\n",
       "      <td>820.853030</td>\n",
       "      <td>AFG</td>\n",
       "      <td>4</td>\n",
       "    </tr>\n",
       "    <tr>\n",
       "      <th>2</th>\n",
       "      <td>Afghanistan</td>\n",
       "      <td>Asia</td>\n",
       "      <td>1962</td>\n",
       "      <td>31.997</td>\n",
       "      <td>10267083</td>\n",
       "      <td>853.100710</td>\n",
       "      <td>AFG</td>\n",
       "      <td>4</td>\n",
       "    </tr>\n",
       "    <tr>\n",
       "      <th>3</th>\n",
       "      <td>Afghanistan</td>\n",
       "      <td>Asia</td>\n",
       "      <td>1967</td>\n",
       "      <td>34.020</td>\n",
       "      <td>11537966</td>\n",
       "      <td>836.197138</td>\n",
       "      <td>AFG</td>\n",
       "      <td>4</td>\n",
       "    </tr>\n",
       "    <tr>\n",
       "      <th>4</th>\n",
       "      <td>Afghanistan</td>\n",
       "      <td>Asia</td>\n",
       "      <td>1972</td>\n",
       "      <td>36.088</td>\n",
       "      <td>13079460</td>\n",
       "      <td>739.981106</td>\n",
       "      <td>AFG</td>\n",
       "      <td>4</td>\n",
       "    </tr>\n",
       "    <tr>\n",
       "      <th>5</th>\n",
       "      <td>Afghanistan</td>\n",
       "      <td>Asia</td>\n",
       "      <td>1977</td>\n",
       "      <td>38.438</td>\n",
       "      <td>14880372</td>\n",
       "      <td>786.113360</td>\n",
       "      <td>AFG</td>\n",
       "      <td>4</td>\n",
       "    </tr>\n",
       "    <tr>\n",
       "      <th>6</th>\n",
       "      <td>Afghanistan</td>\n",
       "      <td>Asia</td>\n",
       "      <td>1982</td>\n",
       "      <td>39.854</td>\n",
       "      <td>12881816</td>\n",
       "      <td>978.011439</td>\n",
       "      <td>AFG</td>\n",
       "      <td>4</td>\n",
       "    </tr>\n",
       "    <tr>\n",
       "      <th>7</th>\n",
       "      <td>Afghanistan</td>\n",
       "      <td>Asia</td>\n",
       "      <td>1987</td>\n",
       "      <td>40.822</td>\n",
       "      <td>13867957</td>\n",
       "      <td>852.395945</td>\n",
       "      <td>AFG</td>\n",
       "      <td>4</td>\n",
       "    </tr>\n",
       "    <tr>\n",
       "      <th>8</th>\n",
       "      <td>Afghanistan</td>\n",
       "      <td>Asia</td>\n",
       "      <td>1992</td>\n",
       "      <td>41.674</td>\n",
       "      <td>16317921</td>\n",
       "      <td>649.341395</td>\n",
       "      <td>AFG</td>\n",
       "      <td>4</td>\n",
       "    </tr>\n",
       "    <tr>\n",
       "      <th>9</th>\n",
       "      <td>Afghanistan</td>\n",
       "      <td>Asia</td>\n",
       "      <td>1997</td>\n",
       "      <td>41.763</td>\n",
       "      <td>22227415</td>\n",
       "      <td>635.341351</td>\n",
       "      <td>AFG</td>\n",
       "      <td>4</td>\n",
       "    </tr>\n",
       "  </tbody>\n",
       "</table>\n",
       "</div>"
      ],
      "text/plain": [
       "       country continent  year  lifeExp       pop   gdpPercap iso_alpha  \\\n",
       "0  Afghanistan      Asia  1952   28.801   8425333  779.445314       AFG   \n",
       "1  Afghanistan      Asia  1957   30.332   9240934  820.853030       AFG   \n",
       "2  Afghanistan      Asia  1962   31.997  10267083  853.100710       AFG   \n",
       "3  Afghanistan      Asia  1967   34.020  11537966  836.197138       AFG   \n",
       "4  Afghanistan      Asia  1972   36.088  13079460  739.981106       AFG   \n",
       "5  Afghanistan      Asia  1977   38.438  14880372  786.113360       AFG   \n",
       "6  Afghanistan      Asia  1982   39.854  12881816  978.011439       AFG   \n",
       "7  Afghanistan      Asia  1987   40.822  13867957  852.395945       AFG   \n",
       "8  Afghanistan      Asia  1992   41.674  16317921  649.341395       AFG   \n",
       "9  Afghanistan      Asia  1997   41.763  22227415  635.341351       AFG   \n",
       "\n",
       "   iso_num  \n",
       "0        4  \n",
       "1        4  \n",
       "2        4  \n",
       "3        4  \n",
       "4        4  \n",
       "5        4  \n",
       "6        4  \n",
       "7        4  \n",
       "8        4  \n",
       "9        4  "
      ]
     },
     "execution_count": 24,
     "metadata": {},
     "output_type": "execute_result"
    }
   ],
   "source": [
    "# Gapminder combines data from multiple sources in a time-series format\n",
    "# Check this out: https://www.gapminder.org/data/\n",
    "data = px.data.gapminder()\n",
    "data.head(10)"
   ]
  },
  {
   "cell_type": "code",
   "execution_count": 25,
   "metadata": {
    "id": "b-i2b6zUmRpV"
   },
   "outputs": [
    {
     "data": {
      "text/html": [
       "<div>\n",
       "<style scoped>\n",
       "    .dataframe tbody tr th:only-of-type {\n",
       "        vertical-align: middle;\n",
       "    }\n",
       "\n",
       "    .dataframe tbody tr th {\n",
       "        vertical-align: top;\n",
       "    }\n",
       "\n",
       "    .dataframe thead th {\n",
       "        text-align: right;\n",
       "    }\n",
       "</style>\n",
       "<table border=\"1\" class=\"dataframe\">\n",
       "  <thead>\n",
       "    <tr style=\"text-align: right;\">\n",
       "      <th></th>\n",
       "      <th>Unnamed: 0</th>\n",
       "      <th>country</th>\n",
       "      <th>continent</th>\n",
       "      <th>year</th>\n",
       "      <th>lifeExp</th>\n",
       "      <th>pop</th>\n",
       "      <th>gdpPercap</th>\n",
       "      <th>iso_alpha</th>\n",
       "      <th>iso_num</th>\n",
       "    </tr>\n",
       "  </thead>\n",
       "  <tbody>\n",
       "    <tr>\n",
       "      <th>0</th>\n",
       "      <td>0</td>\n",
       "      <td>Afghanistan</td>\n",
       "      <td>Asia</td>\n",
       "      <td>1952</td>\n",
       "      <td>28.801</td>\n",
       "      <td>8425333</td>\n",
       "      <td>779.445314</td>\n",
       "      <td>AFG</td>\n",
       "      <td>4</td>\n",
       "    </tr>\n",
       "    <tr>\n",
       "      <th>1</th>\n",
       "      <td>1</td>\n",
       "      <td>Afghanistan</td>\n",
       "      <td>Asia</td>\n",
       "      <td>1957</td>\n",
       "      <td>30.332</td>\n",
       "      <td>9240934</td>\n",
       "      <td>820.853030</td>\n",
       "      <td>AFG</td>\n",
       "      <td>4</td>\n",
       "    </tr>\n",
       "    <tr>\n",
       "      <th>2</th>\n",
       "      <td>2</td>\n",
       "      <td>Afghanistan</td>\n",
       "      <td>Asia</td>\n",
       "      <td>1962</td>\n",
       "      <td>31.997</td>\n",
       "      <td>10267083</td>\n",
       "      <td>853.100710</td>\n",
       "      <td>AFG</td>\n",
       "      <td>4</td>\n",
       "    </tr>\n",
       "    <tr>\n",
       "      <th>3</th>\n",
       "      <td>3</td>\n",
       "      <td>Afghanistan</td>\n",
       "      <td>Asia</td>\n",
       "      <td>1967</td>\n",
       "      <td>34.020</td>\n",
       "      <td>11537966</td>\n",
       "      <td>836.197138</td>\n",
       "      <td>AFG</td>\n",
       "      <td>4</td>\n",
       "    </tr>\n",
       "    <tr>\n",
       "      <th>4</th>\n",
       "      <td>4</td>\n",
       "      <td>Afghanistan</td>\n",
       "      <td>Asia</td>\n",
       "      <td>1972</td>\n",
       "      <td>36.088</td>\n",
       "      <td>13079460</td>\n",
       "      <td>739.981106</td>\n",
       "      <td>AFG</td>\n",
       "      <td>4</td>\n",
       "    </tr>\n",
       "    <tr>\n",
       "      <th>...</th>\n",
       "      <td>...</td>\n",
       "      <td>...</td>\n",
       "      <td>...</td>\n",
       "      <td>...</td>\n",
       "      <td>...</td>\n",
       "      <td>...</td>\n",
       "      <td>...</td>\n",
       "      <td>...</td>\n",
       "      <td>...</td>\n",
       "    </tr>\n",
       "    <tr>\n",
       "      <th>1699</th>\n",
       "      <td>1699</td>\n",
       "      <td>Zimbabwe</td>\n",
       "      <td>Africa</td>\n",
       "      <td>1987</td>\n",
       "      <td>62.351</td>\n",
       "      <td>9216418</td>\n",
       "      <td>706.157306</td>\n",
       "      <td>ZWE</td>\n",
       "      <td>716</td>\n",
       "    </tr>\n",
       "    <tr>\n",
       "      <th>1700</th>\n",
       "      <td>1700</td>\n",
       "      <td>Zimbabwe</td>\n",
       "      <td>Africa</td>\n",
       "      <td>1992</td>\n",
       "      <td>60.377</td>\n",
       "      <td>10704340</td>\n",
       "      <td>693.420786</td>\n",
       "      <td>ZWE</td>\n",
       "      <td>716</td>\n",
       "    </tr>\n",
       "    <tr>\n",
       "      <th>1701</th>\n",
       "      <td>1701</td>\n",
       "      <td>Zimbabwe</td>\n",
       "      <td>Africa</td>\n",
       "      <td>1997</td>\n",
       "      <td>46.809</td>\n",
       "      <td>11404948</td>\n",
       "      <td>792.449960</td>\n",
       "      <td>ZWE</td>\n",
       "      <td>716</td>\n",
       "    </tr>\n",
       "    <tr>\n",
       "      <th>1702</th>\n",
       "      <td>1702</td>\n",
       "      <td>Zimbabwe</td>\n",
       "      <td>Africa</td>\n",
       "      <td>2002</td>\n",
       "      <td>39.989</td>\n",
       "      <td>11926563</td>\n",
       "      <td>672.038623</td>\n",
       "      <td>ZWE</td>\n",
       "      <td>716</td>\n",
       "    </tr>\n",
       "    <tr>\n",
       "      <th>1703</th>\n",
       "      <td>1703</td>\n",
       "      <td>Zimbabwe</td>\n",
       "      <td>Africa</td>\n",
       "      <td>2007</td>\n",
       "      <td>43.487</td>\n",
       "      <td>12311143</td>\n",
       "      <td>469.709298</td>\n",
       "      <td>ZWE</td>\n",
       "      <td>716</td>\n",
       "    </tr>\n",
       "  </tbody>\n",
       "</table>\n",
       "<p>1704 rows × 9 columns</p>\n",
       "</div>"
      ],
      "text/plain": [
       "      Unnamed: 0      country continent  year  lifeExp       pop   gdpPercap  \\\n",
       "0              0  Afghanistan      Asia  1952   28.801   8425333  779.445314   \n",
       "1              1  Afghanistan      Asia  1957   30.332   9240934  820.853030   \n",
       "2              2  Afghanistan      Asia  1962   31.997  10267083  853.100710   \n",
       "3              3  Afghanistan      Asia  1967   34.020  11537966  836.197138   \n",
       "4              4  Afghanistan      Asia  1972   36.088  13079460  739.981106   \n",
       "...          ...          ...       ...   ...      ...       ...         ...   \n",
       "1699        1699     Zimbabwe    Africa  1987   62.351   9216418  706.157306   \n",
       "1700        1700     Zimbabwe    Africa  1992   60.377  10704340  693.420786   \n",
       "1701        1701     Zimbabwe    Africa  1997   46.809  11404948  792.449960   \n",
       "1702        1702     Zimbabwe    Africa  2002   39.989  11926563  672.038623   \n",
       "1703        1703     Zimbabwe    Africa  2007   43.487  12311143  469.709298   \n",
       "\n",
       "     iso_alpha  iso_num  \n",
       "0          AFG        4  \n",
       "1          AFG        4  \n",
       "2          AFG        4  \n",
       "3          AFG        4  \n",
       "4          AFG        4  \n",
       "...        ...      ...  \n",
       "1699       ZWE      716  \n",
       "1700       ZWE      716  \n",
       "1701       ZWE      716  \n",
       "1702       ZWE      716  \n",
       "1703       ZWE      716  \n",
       "\n",
       "[1704 rows x 9 columns]"
      ]
     },
     "execution_count": 25,
     "metadata": {},
     "output_type": "execute_result"
    }
   ],
   "source": [
    "# Gapminder combines data from multiple sources in a time-series format\n",
    "# Check this out: https://www.gapminder.org/data/\n",
    "# You can read the data directly as follows: data = px.data.gapminder()\n",
    "\n",
    "# Alternatively, you can import the data as follows:\n",
    "\n",
    "data = pd.read_csv('gapminder.csv')\n",
    "data"
   ]
  },
  {
   "cell_type": "code",
   "execution_count": 26,
   "metadata": {},
   "outputs": [
    {
     "data": {
      "text/html": [
       "<div>\n",
       "<style scoped>\n",
       "    .dataframe tbody tr th:only-of-type {\n",
       "        vertical-align: middle;\n",
       "    }\n",
       "\n",
       "    .dataframe tbody tr th {\n",
       "        vertical-align: top;\n",
       "    }\n",
       "\n",
       "    .dataframe thead th {\n",
       "        text-align: right;\n",
       "    }\n",
       "</style>\n",
       "<table border=\"1\" class=\"dataframe\">\n",
       "  <thead>\n",
       "    <tr style=\"text-align: right;\">\n",
       "      <th></th>\n",
       "      <th>Unnamed: 0</th>\n",
       "      <th>country</th>\n",
       "      <th>continent</th>\n",
       "      <th>year</th>\n",
       "      <th>lifeExp</th>\n",
       "      <th>pop</th>\n",
       "      <th>gdpPercap</th>\n",
       "      <th>iso_alpha</th>\n",
       "      <th>iso_num</th>\n",
       "    </tr>\n",
       "  </thead>\n",
       "  <tbody>\n",
       "    <tr>\n",
       "      <th>240</th>\n",
       "      <td>240</td>\n",
       "      <td>Canada</td>\n",
       "      <td>Americas</td>\n",
       "      <td>1952</td>\n",
       "      <td>68.750</td>\n",
       "      <td>14785584</td>\n",
       "      <td>11367.16112</td>\n",
       "      <td>CAN</td>\n",
       "      <td>124</td>\n",
       "    </tr>\n",
       "    <tr>\n",
       "      <th>241</th>\n",
       "      <td>241</td>\n",
       "      <td>Canada</td>\n",
       "      <td>Americas</td>\n",
       "      <td>1957</td>\n",
       "      <td>69.960</td>\n",
       "      <td>17010154</td>\n",
       "      <td>12489.95006</td>\n",
       "      <td>CAN</td>\n",
       "      <td>124</td>\n",
       "    </tr>\n",
       "    <tr>\n",
       "      <th>242</th>\n",
       "      <td>242</td>\n",
       "      <td>Canada</td>\n",
       "      <td>Americas</td>\n",
       "      <td>1962</td>\n",
       "      <td>71.300</td>\n",
       "      <td>18985849</td>\n",
       "      <td>13462.48555</td>\n",
       "      <td>CAN</td>\n",
       "      <td>124</td>\n",
       "    </tr>\n",
       "    <tr>\n",
       "      <th>243</th>\n",
       "      <td>243</td>\n",
       "      <td>Canada</td>\n",
       "      <td>Americas</td>\n",
       "      <td>1967</td>\n",
       "      <td>72.130</td>\n",
       "      <td>20819767</td>\n",
       "      <td>16076.58803</td>\n",
       "      <td>CAN</td>\n",
       "      <td>124</td>\n",
       "    </tr>\n",
       "    <tr>\n",
       "      <th>244</th>\n",
       "      <td>244</td>\n",
       "      <td>Canada</td>\n",
       "      <td>Americas</td>\n",
       "      <td>1972</td>\n",
       "      <td>72.880</td>\n",
       "      <td>22284500</td>\n",
       "      <td>18970.57086</td>\n",
       "      <td>CAN</td>\n",
       "      <td>124</td>\n",
       "    </tr>\n",
       "    <tr>\n",
       "      <th>245</th>\n",
       "      <td>245</td>\n",
       "      <td>Canada</td>\n",
       "      <td>Americas</td>\n",
       "      <td>1977</td>\n",
       "      <td>74.210</td>\n",
       "      <td>23796400</td>\n",
       "      <td>22090.88306</td>\n",
       "      <td>CAN</td>\n",
       "      <td>124</td>\n",
       "    </tr>\n",
       "    <tr>\n",
       "      <th>246</th>\n",
       "      <td>246</td>\n",
       "      <td>Canada</td>\n",
       "      <td>Americas</td>\n",
       "      <td>1982</td>\n",
       "      <td>75.760</td>\n",
       "      <td>25201900</td>\n",
       "      <td>22898.79214</td>\n",
       "      <td>CAN</td>\n",
       "      <td>124</td>\n",
       "    </tr>\n",
       "    <tr>\n",
       "      <th>247</th>\n",
       "      <td>247</td>\n",
       "      <td>Canada</td>\n",
       "      <td>Americas</td>\n",
       "      <td>1987</td>\n",
       "      <td>76.860</td>\n",
       "      <td>26549700</td>\n",
       "      <td>26626.51503</td>\n",
       "      <td>CAN</td>\n",
       "      <td>124</td>\n",
       "    </tr>\n",
       "    <tr>\n",
       "      <th>248</th>\n",
       "      <td>248</td>\n",
       "      <td>Canada</td>\n",
       "      <td>Americas</td>\n",
       "      <td>1992</td>\n",
       "      <td>77.950</td>\n",
       "      <td>28523502</td>\n",
       "      <td>26342.88426</td>\n",
       "      <td>CAN</td>\n",
       "      <td>124</td>\n",
       "    </tr>\n",
       "    <tr>\n",
       "      <th>249</th>\n",
       "      <td>249</td>\n",
       "      <td>Canada</td>\n",
       "      <td>Americas</td>\n",
       "      <td>1997</td>\n",
       "      <td>78.610</td>\n",
       "      <td>30305843</td>\n",
       "      <td>28954.92589</td>\n",
       "      <td>CAN</td>\n",
       "      <td>124</td>\n",
       "    </tr>\n",
       "    <tr>\n",
       "      <th>250</th>\n",
       "      <td>250</td>\n",
       "      <td>Canada</td>\n",
       "      <td>Americas</td>\n",
       "      <td>2002</td>\n",
       "      <td>79.770</td>\n",
       "      <td>31902268</td>\n",
       "      <td>33328.96507</td>\n",
       "      <td>CAN</td>\n",
       "      <td>124</td>\n",
       "    </tr>\n",
       "    <tr>\n",
       "      <th>251</th>\n",
       "      <td>251</td>\n",
       "      <td>Canada</td>\n",
       "      <td>Americas</td>\n",
       "      <td>2007</td>\n",
       "      <td>80.653</td>\n",
       "      <td>33390141</td>\n",
       "      <td>36319.23501</td>\n",
       "      <td>CAN</td>\n",
       "      <td>124</td>\n",
       "    </tr>\n",
       "  </tbody>\n",
       "</table>\n",
       "</div>"
      ],
      "text/plain": [
       "     Unnamed: 0 country continent  year  lifeExp       pop    gdpPercap  \\\n",
       "240         240  Canada  Americas  1952   68.750  14785584  11367.16112   \n",
       "241         241  Canada  Americas  1957   69.960  17010154  12489.95006   \n",
       "242         242  Canada  Americas  1962   71.300  18985849  13462.48555   \n",
       "243         243  Canada  Americas  1967   72.130  20819767  16076.58803   \n",
       "244         244  Canada  Americas  1972   72.880  22284500  18970.57086   \n",
       "245         245  Canada  Americas  1977   74.210  23796400  22090.88306   \n",
       "246         246  Canada  Americas  1982   75.760  25201900  22898.79214   \n",
       "247         247  Canada  Americas  1987   76.860  26549700  26626.51503   \n",
       "248         248  Canada  Americas  1992   77.950  28523502  26342.88426   \n",
       "249         249  Canada  Americas  1997   78.610  30305843  28954.92589   \n",
       "250         250  Canada  Americas  2002   79.770  31902268  33328.96507   \n",
       "251         251  Canada  Americas  2007   80.653  33390141  36319.23501   \n",
       "\n",
       "    iso_alpha  iso_num  \n",
       "240       CAN      124  \n",
       "241       CAN      124  \n",
       "242       CAN      124  \n",
       "243       CAN      124  \n",
       "244       CAN      124  \n",
       "245       CAN      124  \n",
       "246       CAN      124  \n",
       "247       CAN      124  \n",
       "248       CAN      124  \n",
       "249       CAN      124  \n",
       "250       CAN      124  \n",
       "251       CAN      124  "
      ]
     },
     "execution_count": 26,
     "metadata": {},
     "output_type": "execute_result"
    }
   ],
   "source": [
    "# Filter the data based on the country of choice\n",
    "country_df = data[ data['country'] == 'Canada']\n",
    "country_df"
   ]
  },
  {
   "cell_type": "code",
   "execution_count": 27,
   "metadata": {
    "id": "kRPVSQ2lonMm"
   },
   "outputs": [],
   "source": [
    "fig6 = px.bar(country_df, x = 'year', y = 'pop', title = 'Population of Canada', labels = {'pop': 'Population of Canada'},height = 700)\n",
    "pio.write_html(fig6, 'plot61.html',auto_open=True)"
   ]
  },
  {
   "cell_type": "code",
   "execution_count": 28,
   "metadata": {
    "id": "A9Xl9UHdmTux",
    "scrolled": false
   },
   "outputs": [],
   "source": [
    "# You can add hoverdata and color (third dimension) as follows:\n",
    "fig6 = px.bar(country_df, x = 'year', y = 'pop', color = 'lifeExp', hover_data = ['gdpPercap'], title = 'Population of Canada', labels = {'pop': 'Population of Canada'},height = 700)\n",
    "pio.write_html(fig6, 'plot62.html',auto_open=True)"
   ]
  },
  {
   "cell_type": "markdown",
   "metadata": {},
   "source": [
    "- **Plot similar plot for Egypt instead of Canada**\n"
   ]
  },
  {
   "cell_type": "code",
   "execution_count": 29,
   "metadata": {},
   "outputs": [],
   "source": [
    "country_df = data[ data['country'] == 'Egypt']\n",
    "fig6 = px.bar(country_df, x = 'year', y = 'pop', color = 'lifeExp', hover_data = ['gdpPercap'], title = 'Population of Egypt', labels = {'pop': 'Population of Egypt'},height = 700)\n",
    "pio.write_html(fig6, 'plot63.html',auto_open=True)"
   ]
  },
  {
   "cell_type": "markdown",
   "metadata": {
    "id": "pihecH0_u2KZ"
   },
   "source": [
    "#  PLOT INTERACTIVE GANTT CHART"
   ]
  },
  {
   "cell_type": "code",
   "execution_count": 30,
   "metadata": {
    "id": "_G1SKMNavJYX"
   },
   "outputs": [
    {
     "data": {
      "text/plain": [
       "{'Task': 'Development', 'start': '2023-01-03', 'end': '2023-03-03'}"
      ]
     },
     "execution_count": 30,
     "metadata": {},
     "output_type": "execute_result"
    }
   ],
   "source": [
    "# Define Job #1 \n",
    "job_1 = {'Task': 'Development','start': '2023-01-03', 'end': '2023-03-03'}\n",
    "job_1"
   ]
  },
  {
   "cell_type": "code",
   "execution_count": 31,
   "metadata": {
    "id": "nTFrt9ASvSiE"
   },
   "outputs": [
    {
     "data": {
      "text/plain": [
       "{'Task': 'QA', 'start': '2023-03-04', 'end': '2023-04-03'}"
      ]
     },
     "execution_count": 31,
     "metadata": {},
     "output_type": "execute_result"
    }
   ],
   "source": [
    "# Define Job #2 \n",
    "job_2 = {'Task': 'QA','start': '2023-03-04', 'end': '2023-04-03'}\n",
    "job_2"
   ]
  },
  {
   "cell_type": "code",
   "execution_count": 32,
   "metadata": {
    "id": "nvbdJDBovyeM"
   },
   "outputs": [
    {
     "data": {
      "text/plain": [
       "{'Task': 'Documentation', 'start': '2023-04-04', 'end': '2023-04-18'}"
      ]
     },
     "execution_count": 32,
     "metadata": {},
     "output_type": "execute_result"
    }
   ],
   "source": [
    "# Define Job #3\n",
    "job_3 = {'Task': 'Documentation','start': '2023-04-04', 'end': '2023-04-18'}\n",
    "job_3"
   ]
  },
  {
   "cell_type": "code",
   "execution_count": 33,
   "metadata": {
    "id": "8vHPWAgzv9_H"
   },
   "outputs": [
    {
     "data": {
      "text/html": [
       "<div>\n",
       "<style scoped>\n",
       "    .dataframe tbody tr th:only-of-type {\n",
       "        vertical-align: middle;\n",
       "    }\n",
       "\n",
       "    .dataframe tbody tr th {\n",
       "        vertical-align: top;\n",
       "    }\n",
       "\n",
       "    .dataframe thead th {\n",
       "        text-align: right;\n",
       "    }\n",
       "</style>\n",
       "<table border=\"1\" class=\"dataframe\">\n",
       "  <thead>\n",
       "    <tr style=\"text-align: right;\">\n",
       "      <th></th>\n",
       "      <th>Task</th>\n",
       "      <th>start</th>\n",
       "      <th>end</th>\n",
       "    </tr>\n",
       "  </thead>\n",
       "  <tbody>\n",
       "    <tr>\n",
       "      <th>0</th>\n",
       "      <td>Development</td>\n",
       "      <td>2023-01-03</td>\n",
       "      <td>2023-03-03</td>\n",
       "    </tr>\n",
       "    <tr>\n",
       "      <th>1</th>\n",
       "      <td>QA</td>\n",
       "      <td>2023-03-04</td>\n",
       "      <td>2023-04-03</td>\n",
       "    </tr>\n",
       "    <tr>\n",
       "      <th>2</th>\n",
       "      <td>Documentation</td>\n",
       "      <td>2023-04-04</td>\n",
       "      <td>2023-04-18</td>\n",
       "    </tr>\n",
       "  </tbody>\n",
       "</table>\n",
       "</div>"
      ],
      "text/plain": [
       "            Task       start         end\n",
       "0    Development  2023-01-03  2023-03-03\n",
       "1             QA  2023-03-04  2023-04-03\n",
       "2  Documentation  2023-04-04  2023-04-18"
      ]
     },
     "execution_count": 33,
     "metadata": {},
     "output_type": "execute_result"
    }
   ],
   "source": [
    "project = pd.DataFrame([job_1,job_2,job_3])\n",
    "project"
   ]
  },
  {
   "cell_type": "code",
   "execution_count": 34,
   "metadata": {
    "id": "rj4JmDj1wMkq",
    "scrolled": false
   },
   "outputs": [],
   "source": [
    "fig6 = px.timeline(project, x_start = 'start', x_end = 'end', y = 'Task')\n",
    "fig6.update_yaxes(autorange = 'reversed')\n",
    "pio.write_html(fig6, 'plot71.html',auto_open=True)"
   ]
  },
  {
   "cell_type": "markdown",
   "metadata": {},
   "source": [
    "\n",
    "- **Add an additional task of \"Send the course for approval\" that lasts for 1 day and that starts immediately after \"Edit Videos & Upload Content\"** "
   ]
  },
  {
   "cell_type": "code",
   "execution_count": 35,
   "metadata": {},
   "outputs": [],
   "source": [
    "# Define Job #4\n",
    "job_4 = {'Task': 'DEMO','start': '2023-04-18', 'end': '2023-04-19'}\n",
    "project = pd.DataFrame([job_1,job_2,job_3,job_4])\n",
    "fig6 = px.timeline(project, x_start = 'start', x_end = 'end', y = 'Task')\n",
    "fig6.update_yaxes(autorange = 'reversed')\n",
    "pio.write_html(fig6, 'plot72.html',auto_open=True)"
   ]
  },
  {
   "cell_type": "markdown",
   "metadata": {
    "id": "zRNS1pe_z07o"
   },
   "source": [
    "#  PLOT INTERACTIVE SUNBURST"
   ]
  },
  {
   "cell_type": "code",
   "execution_count": 36,
   "metadata": {
    "id": "87eO0-S531Vk"
   },
   "outputs": [
    {
     "data": {
      "text/html": [
       "<div>\n",
       "<style scoped>\n",
       "    .dataframe tbody tr th:only-of-type {\n",
       "        vertical-align: middle;\n",
       "    }\n",
       "\n",
       "    .dataframe tbody tr th {\n",
       "        vertical-align: top;\n",
       "    }\n",
       "\n",
       "    .dataframe thead th {\n",
       "        text-align: right;\n",
       "    }\n",
       "</style>\n",
       "<table border=\"1\" class=\"dataframe\">\n",
       "  <thead>\n",
       "    <tr style=\"text-align: right;\">\n",
       "      <th></th>\n",
       "      <th>Customer ID</th>\n",
       "      <th>Day</th>\n",
       "      <th>Dining or Takeout</th>\n",
       "      <th>Age</th>\n",
       "      <th>Invoice</th>\n",
       "    </tr>\n",
       "  </thead>\n",
       "  <tbody>\n",
       "    <tr>\n",
       "      <th>0</th>\n",
       "      <td>1</td>\n",
       "      <td>Saturday</td>\n",
       "      <td>Dining</td>\n",
       "      <td>23</td>\n",
       "      <td>45</td>\n",
       "    </tr>\n",
       "    <tr>\n",
       "      <th>1</th>\n",
       "      <td>2</td>\n",
       "      <td>Saturday</td>\n",
       "      <td>Dining</td>\n",
       "      <td>22</td>\n",
       "      <td>70</td>\n",
       "    </tr>\n",
       "    <tr>\n",
       "      <th>2</th>\n",
       "      <td>3</td>\n",
       "      <td>Sunday</td>\n",
       "      <td>Takeout</td>\n",
       "      <td>26</td>\n",
       "      <td>80</td>\n",
       "    </tr>\n",
       "    <tr>\n",
       "      <th>3</th>\n",
       "      <td>4</td>\n",
       "      <td>Sunday</td>\n",
       "      <td>Takeout</td>\n",
       "      <td>30</td>\n",
       "      <td>100</td>\n",
       "    </tr>\n",
       "  </tbody>\n",
       "</table>\n",
       "</div>"
      ],
      "text/plain": [
       "   Customer ID       Day Dining or Takeout  Age  Invoice\n",
       "0            1  Saturday            Dining   23       45\n",
       "1            2  Saturday            Dining   22       70\n",
       "2            3    Sunday           Takeout   26       80\n",
       "3            4    Sunday           Takeout   30      100"
      ]
     },
     "execution_count": 36,
     "metadata": {},
     "output_type": "execute_result"
    }
   ],
   "source": [
    "# A sunburst plot represents hierarchial data as sectors laid out over several levels of concentric rings\n",
    "restaurant_df = pd.read_csv('restaurant_mini.csv')\n",
    "restaurant_df.dropna()\n"
   ]
  },
  {
   "cell_type": "code",
   "execution_count": 37,
   "metadata": {
    "id": "QT58CSkD4seF"
   },
   "outputs": [
    {
     "name": "stderr",
     "output_type": "stream",
     "text": [
      "C:\\Users\\DELL\\AppData\\Local\\Programs\\Python\\Python311\\Lib\\site-packages\\plotly\\express\\_core.py:1594: FutureWarning:\n",
      "\n",
      "The frame.append method is deprecated and will be removed from pandas in a future version. Use pandas.concat instead.\n",
      "\n",
      "C:\\Users\\DELL\\AppData\\Local\\Programs\\Python\\Python311\\Lib\\site-packages\\plotly\\express\\_core.py:1594: FutureWarning:\n",
      "\n",
      "The frame.append method is deprecated and will be removed from pandas in a future version. Use pandas.concat instead.\n",
      "\n",
      "C:\\Users\\DELL\\AppData\\Local\\Programs\\Python\\Python311\\Lib\\site-packages\\plotly\\express\\_core.py:1594: FutureWarning:\n",
      "\n",
      "The frame.append method is deprecated and will be removed from pandas in a future version. Use pandas.concat instead.\n",
      "\n"
     ]
    }
   ],
   "source": [
    "fig8 = px.sunburst(restaurant_df, path =['Dining or Takeout','Day','Age'],values ='Invoice')\n",
    "pio.write_html(fig8, 'plot81.html',auto_open=True)"
   ]
  },
  {
   "cell_type": "markdown",
   "metadata": {},
   "source": [
    "\n",
    "- **Import the full restaurant dataset \"restaurant.csv\"**\n",
    "- **Plot the sunburst plot using the following: path = [day, time, sex] and value = [total bill]** "
   ]
  },
  {
   "cell_type": "code",
   "execution_count": 38,
   "metadata": {},
   "outputs": [
    {
     "data": {
      "text/html": [
       "<div>\n",
       "<style scoped>\n",
       "    .dataframe tbody tr th:only-of-type {\n",
       "        vertical-align: middle;\n",
       "    }\n",
       "\n",
       "    .dataframe tbody tr th {\n",
       "        vertical-align: top;\n",
       "    }\n",
       "\n",
       "    .dataframe thead th {\n",
       "        text-align: right;\n",
       "    }\n",
       "</style>\n",
       "<table border=\"1\" class=\"dataframe\">\n",
       "  <thead>\n",
       "    <tr style=\"text-align: right;\">\n",
       "      <th></th>\n",
       "      <th>Unnamed: 0</th>\n",
       "      <th>total_bill</th>\n",
       "      <th>tip</th>\n",
       "      <th>sex</th>\n",
       "      <th>smoker</th>\n",
       "      <th>day</th>\n",
       "      <th>time</th>\n",
       "      <th>size</th>\n",
       "    </tr>\n",
       "  </thead>\n",
       "  <tbody>\n",
       "    <tr>\n",
       "      <th>0</th>\n",
       "      <td>0</td>\n",
       "      <td>16.99</td>\n",
       "      <td>1.01</td>\n",
       "      <td>Female</td>\n",
       "      <td>No</td>\n",
       "      <td>Sun</td>\n",
       "      <td>Dinner</td>\n",
       "      <td>2</td>\n",
       "    </tr>\n",
       "    <tr>\n",
       "      <th>1</th>\n",
       "      <td>1</td>\n",
       "      <td>10.34</td>\n",
       "      <td>1.66</td>\n",
       "      <td>Male</td>\n",
       "      <td>No</td>\n",
       "      <td>Sun</td>\n",
       "      <td>Dinner</td>\n",
       "      <td>3</td>\n",
       "    </tr>\n",
       "    <tr>\n",
       "      <th>2</th>\n",
       "      <td>2</td>\n",
       "      <td>21.01</td>\n",
       "      <td>3.50</td>\n",
       "      <td>Male</td>\n",
       "      <td>No</td>\n",
       "      <td>Sun</td>\n",
       "      <td>Dinner</td>\n",
       "      <td>3</td>\n",
       "    </tr>\n",
       "    <tr>\n",
       "      <th>3</th>\n",
       "      <td>3</td>\n",
       "      <td>23.68</td>\n",
       "      <td>3.31</td>\n",
       "      <td>Male</td>\n",
       "      <td>No</td>\n",
       "      <td>Sun</td>\n",
       "      <td>Dinner</td>\n",
       "      <td>2</td>\n",
       "    </tr>\n",
       "    <tr>\n",
       "      <th>4</th>\n",
       "      <td>4</td>\n",
       "      <td>24.59</td>\n",
       "      <td>3.61</td>\n",
       "      <td>Female</td>\n",
       "      <td>No</td>\n",
       "      <td>Sun</td>\n",
       "      <td>Dinner</td>\n",
       "      <td>4</td>\n",
       "    </tr>\n",
       "    <tr>\n",
       "      <th>...</th>\n",
       "      <td>...</td>\n",
       "      <td>...</td>\n",
       "      <td>...</td>\n",
       "      <td>...</td>\n",
       "      <td>...</td>\n",
       "      <td>...</td>\n",
       "      <td>...</td>\n",
       "      <td>...</td>\n",
       "    </tr>\n",
       "    <tr>\n",
       "      <th>239</th>\n",
       "      <td>239</td>\n",
       "      <td>29.03</td>\n",
       "      <td>5.92</td>\n",
       "      <td>Male</td>\n",
       "      <td>No</td>\n",
       "      <td>Sat</td>\n",
       "      <td>Dinner</td>\n",
       "      <td>3</td>\n",
       "    </tr>\n",
       "    <tr>\n",
       "      <th>240</th>\n",
       "      <td>240</td>\n",
       "      <td>27.18</td>\n",
       "      <td>2.00</td>\n",
       "      <td>Female</td>\n",
       "      <td>Yes</td>\n",
       "      <td>Sat</td>\n",
       "      <td>Dinner</td>\n",
       "      <td>2</td>\n",
       "    </tr>\n",
       "    <tr>\n",
       "      <th>241</th>\n",
       "      <td>241</td>\n",
       "      <td>22.67</td>\n",
       "      <td>2.00</td>\n",
       "      <td>Male</td>\n",
       "      <td>Yes</td>\n",
       "      <td>Sat</td>\n",
       "      <td>Dinner</td>\n",
       "      <td>2</td>\n",
       "    </tr>\n",
       "    <tr>\n",
       "      <th>242</th>\n",
       "      <td>242</td>\n",
       "      <td>17.82</td>\n",
       "      <td>1.75</td>\n",
       "      <td>Male</td>\n",
       "      <td>No</td>\n",
       "      <td>Sat</td>\n",
       "      <td>Dinner</td>\n",
       "      <td>2</td>\n",
       "    </tr>\n",
       "    <tr>\n",
       "      <th>243</th>\n",
       "      <td>243</td>\n",
       "      <td>18.78</td>\n",
       "      <td>3.00</td>\n",
       "      <td>Female</td>\n",
       "      <td>No</td>\n",
       "      <td>Thur</td>\n",
       "      <td>Dinner</td>\n",
       "      <td>2</td>\n",
       "    </tr>\n",
       "  </tbody>\n",
       "</table>\n",
       "<p>244 rows × 8 columns</p>\n",
       "</div>"
      ],
      "text/plain": [
       "     Unnamed: 0  total_bill   tip     sex smoker   day    time  size\n",
       "0             0       16.99  1.01  Female     No   Sun  Dinner     2\n",
       "1             1       10.34  1.66    Male     No   Sun  Dinner     3\n",
       "2             2       21.01  3.50    Male     No   Sun  Dinner     3\n",
       "3             3       23.68  3.31    Male     No   Sun  Dinner     2\n",
       "4             4       24.59  3.61  Female     No   Sun  Dinner     4\n",
       "..          ...         ...   ...     ...    ...   ...     ...   ...\n",
       "239         239       29.03  5.92    Male     No   Sat  Dinner     3\n",
       "240         240       27.18  2.00  Female    Yes   Sat  Dinner     2\n",
       "241         241       22.67  2.00    Male    Yes   Sat  Dinner     2\n",
       "242         242       17.82  1.75    Male     No   Sat  Dinner     2\n",
       "243         243       18.78  3.00  Female     No  Thur  Dinner     2\n",
       "\n",
       "[244 rows x 8 columns]"
      ]
     },
     "execution_count": 38,
     "metadata": {},
     "output_type": "execute_result"
    }
   ],
   "source": [
    "restaurant_df = pd.read_csv('restaurant.csv')\n",
    "restaurant_df.dropna()"
   ]
  },
  {
   "cell_type": "code",
   "execution_count": 39,
   "metadata": {},
   "outputs": [
    {
     "name": "stderr",
     "output_type": "stream",
     "text": [
      "C:\\Users\\DELL\\AppData\\Local\\Programs\\Python\\Python311\\Lib\\site-packages\\plotly\\express\\_core.py:1594: FutureWarning:\n",
      "\n",
      "The frame.append method is deprecated and will be removed from pandas in a future version. Use pandas.concat instead.\n",
      "\n",
      "C:\\Users\\DELL\\AppData\\Local\\Programs\\Python\\Python311\\Lib\\site-packages\\plotly\\express\\_core.py:1594: FutureWarning:\n",
      "\n",
      "The frame.append method is deprecated and will be removed from pandas in a future version. Use pandas.concat instead.\n",
      "\n",
      "C:\\Users\\DELL\\AppData\\Local\\Programs\\Python\\Python311\\Lib\\site-packages\\plotly\\express\\_core.py:1594: FutureWarning:\n",
      "\n",
      "The frame.append method is deprecated and will be removed from pandas in a future version. Use pandas.concat instead.\n",
      "\n"
     ]
    }
   ],
   "source": [
    "fig8 = px.sunburst(restaurant_df, path =['day','time','sex'],values ='total_bill')\n",
    "pio.write_html(fig8, 'plot82.html',auto_open=True)"
   ]
  }
 ],
 "metadata": {
  "colab": {
   "collapsed_sections": [],
   "name": "1. Basic Plots Using Plotly Express.ipynb",
   "provenance": [],
   "toc_visible": true
  },
  "kernelspec": {
   "display_name": "Python 3 (ipykernel)",
   "language": "python",
   "name": "python3"
  },
  "language_info": {
   "codemirror_mode": {
    "name": "ipython",
    "version": 3
   },
   "file_extension": ".py",
   "mimetype": "text/x-python",
   "name": "python",
   "nbconvert_exporter": "python",
   "pygments_lexer": "ipython3",
   "version": "3.11.1"
  }
 },
 "nbformat": 4,
 "nbformat_minor": 1
}
