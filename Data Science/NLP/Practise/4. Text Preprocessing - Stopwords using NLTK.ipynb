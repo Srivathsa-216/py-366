{
 "cells": [
  {
   "cell_type": "code",
   "execution_count": 1,
   "id": "1cf8b049",
   "metadata": {},
   "outputs": [],
   "source": [
    "### About Vishakpatnam \n",
    "para = \"\"\"Visakhapatnam, often referred to as Vizag, is a coastal city located in the southern state of Andhra Pradesh,\n",
    "India. Nestled between the Eastern Ghats and the Bay of Bengal, Visakhapatnam is renowned for its picturesque landscapes,\n",
    "golden beaches, and vibrant culture.As one of the largest cities in Andhra Pradesh, Visakhapatnam serves as a major \n",
    "industrial hub, with thriving sectors such as shipping, fishing, steel, and petrochemicals. The city's strategic location\n",
    "has made it a crucial port city, facilitating trade and commerce both domestically and internationally.\n",
    "Visakhapatnam boasts a rich history and heritage, with landmarks such as the historic Dutch East India Company settlement,\n",
    "the ancient Buddhist sites of Thotlakonda and Bavikonda, and the imposing Kailasagiri Hill offering panoramic views of the\n",
    "city and coastline.Beyond its industrial and historical significance, Visakhapatnam is also a popular tourist destination,\n",
    "drawing visitors with its pristine beaches like RK Beach, Rushikonda Beach, and Yarada Beach. Adventure enthusiasts flock \n",
    "to the city for water sports such as surfing, snorkeling, and scuba diving, while nature lovers explore the lush Araku Valley\n",
    "and Borra Caves nearby.With its blend of natural beauty, cultural heritage, and modern amenities, Visakhapatnam continues\n",
    "to enchant visitors and residents alike, offering a unique and unforgettable experience by the sea.\"\"\""
   ]
  },
  {
   "cell_type": "code",
   "execution_count": 2,
   "id": "cc6c09dc",
   "metadata": {},
   "outputs": [],
   "source": [
    "from nltk.stem import PorterStemmer\n",
    "from nltk.corpus import stopwords"
   ]
  },
  {
   "cell_type": "code",
   "execution_count": 3,
   "id": "bb80648f",
   "metadata": {},
   "outputs": [
    {
     "name": "stderr",
     "output_type": "stream",
     "text": [
      "[nltk_data] Downloading package stopwords to\n",
      "[nltk_data]     C:\\Users\\DELL\\AppData\\Roaming\\nltk_data...\n",
      "[nltk_data]   Package stopwords is already up-to-date!\n"
     ]
    },
    {
     "data": {
      "text/plain": [
       "True"
      ]
     },
     "execution_count": 3,
     "metadata": {},
     "output_type": "execute_result"
    }
   ],
   "source": [
    "import nltk\n",
    "nltk.download('stopwords')"
   ]
  },
  {
   "cell_type": "code",
   "execution_count": 4,
   "id": "34d70e38",
   "metadata": {},
   "outputs": [
    {
     "data": {
      "text/plain": [
       "['i',\n",
       " 'me',\n",
       " 'my',\n",
       " 'myself',\n",
       " 'we',\n",
       " 'our',\n",
       " 'ours',\n",
       " 'ourselves',\n",
       " 'you',\n",
       " \"you're\",\n",
       " \"you've\",\n",
       " \"you'll\",\n",
       " \"you'd\",\n",
       " 'your',\n",
       " 'yours',\n",
       " 'yourself',\n",
       " 'yourselves',\n",
       " 'he',\n",
       " 'him',\n",
       " 'his',\n",
       " 'himself',\n",
       " 'she',\n",
       " \"she's\",\n",
       " 'her',\n",
       " 'hers',\n",
       " 'herself',\n",
       " 'it',\n",
       " \"it's\",\n",
       " 'its',\n",
       " 'itself',\n",
       " 'they',\n",
       " 'them',\n",
       " 'their',\n",
       " 'theirs',\n",
       " 'themselves',\n",
       " 'what',\n",
       " 'which',\n",
       " 'who',\n",
       " 'whom',\n",
       " 'this',\n",
       " 'that',\n",
       " \"that'll\",\n",
       " 'these',\n",
       " 'those',\n",
       " 'am',\n",
       " 'is',\n",
       " 'are',\n",
       " 'was',\n",
       " 'were',\n",
       " 'be',\n",
       " 'been',\n",
       " 'being',\n",
       " 'have',\n",
       " 'has',\n",
       " 'had',\n",
       " 'having',\n",
       " 'do',\n",
       " 'does',\n",
       " 'did',\n",
       " 'doing',\n",
       " 'a',\n",
       " 'an',\n",
       " 'the',\n",
       " 'and',\n",
       " 'but',\n",
       " 'if',\n",
       " 'or',\n",
       " 'because',\n",
       " 'as',\n",
       " 'until',\n",
       " 'while',\n",
       " 'of',\n",
       " 'at',\n",
       " 'by',\n",
       " 'for',\n",
       " 'with',\n",
       " 'about',\n",
       " 'against',\n",
       " 'between',\n",
       " 'into',\n",
       " 'through',\n",
       " 'during',\n",
       " 'before',\n",
       " 'after',\n",
       " 'above',\n",
       " 'below',\n",
       " 'to',\n",
       " 'from',\n",
       " 'up',\n",
       " 'down',\n",
       " 'in',\n",
       " 'out',\n",
       " 'on',\n",
       " 'off',\n",
       " 'over',\n",
       " 'under',\n",
       " 'again',\n",
       " 'further',\n",
       " 'then',\n",
       " 'once',\n",
       " 'here',\n",
       " 'there',\n",
       " 'when',\n",
       " 'where',\n",
       " 'why',\n",
       " 'how',\n",
       " 'all',\n",
       " 'any',\n",
       " 'both',\n",
       " 'each',\n",
       " 'few',\n",
       " 'more',\n",
       " 'most',\n",
       " 'other',\n",
       " 'some',\n",
       " 'such',\n",
       " 'no',\n",
       " 'nor',\n",
       " 'not',\n",
       " 'only',\n",
       " 'own',\n",
       " 'same',\n",
       " 'so',\n",
       " 'than',\n",
       " 'too',\n",
       " 'very',\n",
       " 's',\n",
       " 't',\n",
       " 'can',\n",
       " 'will',\n",
       " 'just',\n",
       " 'don',\n",
       " \"don't\",\n",
       " 'should',\n",
       " \"should've\",\n",
       " 'now',\n",
       " 'd',\n",
       " 'll',\n",
       " 'm',\n",
       " 'o',\n",
       " 're',\n",
       " 've',\n",
       " 'y',\n",
       " 'ain',\n",
       " 'aren',\n",
       " \"aren't\",\n",
       " 'couldn',\n",
       " \"couldn't\",\n",
       " 'didn',\n",
       " \"didn't\",\n",
       " 'doesn',\n",
       " \"doesn't\",\n",
       " 'hadn',\n",
       " \"hadn't\",\n",
       " 'hasn',\n",
       " \"hasn't\",\n",
       " 'haven',\n",
       " \"haven't\",\n",
       " 'isn',\n",
       " \"isn't\",\n",
       " 'ma',\n",
       " 'mightn',\n",
       " \"mightn't\",\n",
       " 'mustn',\n",
       " \"mustn't\",\n",
       " 'needn',\n",
       " \"needn't\",\n",
       " 'shan',\n",
       " \"shan't\",\n",
       " 'shouldn',\n",
       " \"shouldn't\",\n",
       " 'wasn',\n",
       " \"wasn't\",\n",
       " 'weren',\n",
       " \"weren't\",\n",
       " 'won',\n",
       " \"won't\",\n",
       " 'wouldn',\n",
       " \"wouldn't\"]"
      ]
     },
     "execution_count": 4,
     "metadata": {},
     "output_type": "execute_result"
    }
   ],
   "source": [
    "stopwords.words('english')"
   ]
  },
  {
   "cell_type": "code",
   "execution_count": 5,
   "id": "af5fb673",
   "metadata": {},
   "outputs": [
    {
     "data": {
      "text/plain": [
       "179"
      ]
     },
     "execution_count": 5,
     "metadata": {},
     "output_type": "execute_result"
    }
   ],
   "source": [
    "len(stopwords.words('english'))"
   ]
  },
  {
   "cell_type": "code",
   "execution_count": 6,
   "id": "aea29ae4",
   "metadata": {},
   "outputs": [
    {
     "data": {
      "text/plain": [
       "232"
      ]
     },
     "execution_count": 6,
     "metadata": {},
     "output_type": "execute_result"
    }
   ],
   "source": [
    "len(stopwords.words('german'))"
   ]
  },
  {
   "cell_type": "code",
   "execution_count": 7,
   "id": "bfdee837",
   "metadata": {},
   "outputs": [
    {
     "data": {
      "text/plain": [
       "157"
      ]
     },
     "execution_count": 7,
     "metadata": {},
     "output_type": "execute_result"
    }
   ],
   "source": [
    "len(stopwords.words('french'))"
   ]
  },
  {
   "cell_type": "code",
   "execution_count": 8,
   "id": "98420f53",
   "metadata": {},
   "outputs": [
    {
     "data": {
      "text/plain": [
       "['Visakhapatnam, often referred to as Vizag, is a coastal city located in the southern state of Andhra Pradesh,\\nIndia.',\n",
       " 'Nestled between the Eastern Ghats and the Bay of Bengal, Visakhapatnam is renowned for its picturesque landscapes,\\ngolden beaches, and vibrant culture.As one of the largest cities in Andhra Pradesh, Visakhapatnam serves as a major \\nindustrial hub, with thriving sectors such as shipping, fishing, steel, and petrochemicals.',\n",
       " \"The city's strategic location\\nhas made it a crucial port city, facilitating trade and commerce both domestically and internationally.\",\n",
       " 'Visakhapatnam boasts a rich history and heritage, with landmarks such as the historic Dutch East India Company settlement,\\nthe ancient Buddhist sites of Thotlakonda and Bavikonda, and the imposing Kailasagiri Hill offering panoramic views of the\\ncity and coastline.Beyond its industrial and historical significance, Visakhapatnam is also a popular tourist destination,\\ndrawing visitors with its pristine beaches like RK Beach, Rushikonda Beach, and Yarada Beach.',\n",
       " 'Adventure enthusiasts flock \\nto the city for water sports such as surfing, snorkeling, and scuba diving, while nature lovers explore the lush Araku Valley\\nand Borra Caves nearby.With its blend of natural beauty, cultural heritage, and modern amenities, Visakhapatnam continues\\nto enchant visitors and residents alike, offering a unique and unforgettable experience by the sea.']"
      ]
     },
     "execution_count": 8,
     "metadata": {},
     "output_type": "execute_result"
    }
   ],
   "source": [
    "stemmer = PorterStemmer()\n",
    "\n",
    "nltk.sent_tokenize(para)"
   ]
  },
  {
   "cell_type": "code",
   "execution_count": 9,
   "id": "ce59d480",
   "metadata": {},
   "outputs": [
    {
     "data": {
      "text/plain": [
       "5"
      ]
     },
     "execution_count": 9,
     "metadata": {},
     "output_type": "execute_result"
    }
   ],
   "source": [
    "len(nltk.sent_tokenize(para))"
   ]
  },
  {
   "cell_type": "code",
   "execution_count": 20,
   "id": "d4ff1385",
   "metadata": {},
   "outputs": [
    {
     "data": {
      "text/plain": [
       "['Visakhapatnam, often referred to as Vizag, is a coastal city located in the southern state of Andhra Pradesh,\\nIndia.',\n",
       " 'Nestled between the Eastern Ghats and the Bay of Bengal, Visakhapatnam is renowned for its picturesque landscapes,\\ngolden beaches, and vibrant culture.As one of the largest cities in Andhra Pradesh, Visakhapatnam serves as a major \\nindustrial hub, with thriving sectors such as shipping, fishing, steel, and petrochemicals.',\n",
       " \"The city's strategic location\\nhas made it a crucial port city, facilitating trade and commerce both domestically and internationally.\",\n",
       " 'Visakhapatnam boasts a rich history and heritage, with landmarks such as the historic Dutch East India Company settlement,\\nthe ancient Buddhist sites of Thotlakonda and Bavikonda, and the imposing Kailasagiri Hill offering panoramic views of the\\ncity and coastline.Beyond its industrial and historical significance, Visakhapatnam is also a popular tourist destination,\\ndrawing visitors with its pristine beaches like RK Beach, Rushikonda Beach, and Yarada Beach.',\n",
       " 'Adventure enthusiasts flock \\nto the city for water sports such as surfing, snorkeling, and scuba diving, while nature lovers explore the lush Araku Valley\\nand Borra Caves nearby.With its blend of natural beauty, cultural heritage, and modern amenities, Visakhapatnam continues\\nto enchant visitors and residents alike, offering a unique and unforgettable experience by the sea.']"
      ]
     },
     "execution_count": 20,
     "metadata": {},
     "output_type": "execute_result"
    }
   ],
   "source": [
    "sentences = nltk.sent_tokenize(para)\n",
    "sentences"
   ]
  },
  {
   "cell_type": "code",
   "execution_count": 24,
   "id": "99d32061",
   "metadata": {},
   "outputs": [
    {
     "data": {
      "text/plain": [
       "['Visakhapatnam',\n",
       " ',',\n",
       " 'often',\n",
       " 'referred',\n",
       " 'to',\n",
       " 'as',\n",
       " 'Vizag',\n",
       " ',',\n",
       " 'is',\n",
       " 'a',\n",
       " 'coastal',\n",
       " 'city',\n",
       " 'located',\n",
       " 'in',\n",
       " 'the',\n",
       " 'southern',\n",
       " 'state',\n",
       " 'of',\n",
       " 'Andhra',\n",
       " 'Pradesh',\n",
       " ',',\n",
       " 'India',\n",
       " '.']"
      ]
     },
     "execution_count": 24,
     "metadata": {},
     "output_type": "execute_result"
    }
   ],
   "source": [
    "words = nltk.word_tokenize(sentences[0])\n",
    "words"
   ]
  },
  {
   "cell_type": "code",
   "execution_count": 25,
   "id": "2fbc18a1",
   "metadata": {},
   "outputs": [
    {
     "data": {
      "text/plain": [
       "['visakhapatnam',\n",
       " ',',\n",
       " 'often',\n",
       " 'refer',\n",
       " 'vizag',\n",
       " ',',\n",
       " 'coastal',\n",
       " 'citi',\n",
       " 'locat',\n",
       " 'southern',\n",
       " 'state',\n",
       " 'andhra',\n",
       " 'pradesh',\n",
       " ',',\n",
       " 'india',\n",
       " '.']"
      ]
     },
     "execution_count": 25,
     "metadata": {},
     "output_type": "execute_result"
    }
   ],
   "source": [
    "words = [stemmer.stem(word) for word in words if word not in set(stopwords.words('english'))]\n",
    "words"
   ]
  },
  {
   "cell_type": "code",
   "execution_count": 27,
   "id": "ff679db0",
   "metadata": {},
   "outputs": [],
   "source": [
    "### apply stopwords , Filter and then apply stemming\n",
    "\n",
    "for i in range(len(sentences)):\n",
    "    words = nltk.word_tokenize(sentences[i])\n",
    "    words = [stemmer.stem(word) for word in words if word not in set(stopwords.words('english'))]\n",
    "    sentences[i] = ' '.join(words) ### converting the list of words to the sentences back"
   ]
  },
  {
   "cell_type": "code",
   "execution_count": 28,
   "id": "39df2a19",
   "metadata": {},
   "outputs": [
    {
     "data": {
      "text/plain": [
       "['visakhapatnam , often refer vizag , coastal citi locat southern state andhra pradesh , india .',\n",
       " 'nestl eastern ghat bay bengal , visakhapatnam renown picturesqu landscap , golden beach , vibrant culture.a one largest citi andhra pradesh , visakhapatnam serv major industri hub , thrive sector ship , fish , steel , petrochem .',\n",
       " \"citi 's strateg locat made crucial port citi , facilit trade commerc domest intern .\",\n",
       " 'visakhapatnam boast rich histori heritag , landmark histor dutch east india compani settlement , ancient buddhist site thotlakonda bavikonda , impo kailasagiri hill offer panoram view citi coastline.beyond industri histor signif , visakhapatnam also popular tourist destin , draw visitor pristin beach like rk beach , rushikonda beach , yarada beach .',\n",
       " 'adventur enthusiast flock citi water sport surf , snorkel , scuba dive , natur lover explor lush araku valley borra cave nearby.with blend natur beauti , cultur heritag , modern amen , visakhapatnam continu enchant visitor resid alik , offer uniqu unforgett experi sea .']"
      ]
     },
     "execution_count": 28,
     "metadata": {},
     "output_type": "execute_result"
    }
   ],
   "source": [
    "sentences"
   ]
  },
  {
   "cell_type": "code",
   "execution_count": 29,
   "id": "ecdb64d0",
   "metadata": {},
   "outputs": [],
   "source": [
    "### This doesnt look good so will apply snowball stemmer\n",
    "\n",
    "from nltk.stem import SnowballStemmer\n",
    "\n",
    "snowball_stemmer = SnowballStemmer('english')"
   ]
  },
  {
   "cell_type": "code",
   "execution_count": 30,
   "id": "a166a36e",
   "metadata": {},
   "outputs": [],
   "source": [
    "### apply stopwords , Filter and then apply snowball stemming\n",
    "\n",
    "for i in range(len(sentences)):\n",
    "    words = nltk.word_tokenize(sentences[i])\n",
    "    words = [snowball_stemmer.stem(word) for word in words if word not in set(stopwords.words('english'))]\n",
    "    sentences[i] = ' '.join(words) ### converting the list of words to the sentences back"
   ]
  },
  {
   "cell_type": "code",
   "execution_count": 31,
   "id": "651a3a3c",
   "metadata": {},
   "outputs": [
    {
     "data": {
      "text/plain": [
       "['visakhapatnam , often refer vizag , coastal citi locat southern state andhra pradesh , india .',\n",
       " 'nestl eastern ghat bay bengal , visakhapatnam renown picturesqu landscap , golden beach , vibrant culture.a one largest citi andhra pradesh , visakhapatnam serv major industri hub , thrive sector ship , fish , steel , petrochem .',\n",
       " \"citi 's strateg locat made crucial port citi , facilit trade commerc domest intern .\",\n",
       " 'visakhapatnam boast rich histori heritag , landmark histor dutch east india compani settlement , ancient buddhist site thotlakonda bavikonda , impo kailasagiri hill offer panoram view citi coastline.beyond industri histor signif , visakhapatnam also popular tourist destin , draw visitor pristin beach like rk beach , rushikonda beach , yarada beach .',\n",
       " 'adventur enthusiast flock citi water sport surf , snorkel , scuba dive , natur lover explor lush araku valley borra cave nearby.with blend natur beauti , cultur heritag , modern amen , visakhapatnam continu enchant visitor resid alik , offer uniqu unforgett experi sea .']"
      ]
     },
     "execution_count": 31,
     "metadata": {},
     "output_type": "execute_result"
    }
   ],
   "source": [
    "sentences"
   ]
  },
  {
   "cell_type": "code",
   "execution_count": 32,
   "id": "04096698",
   "metadata": {},
   "outputs": [],
   "source": [
    "### now lets try with lematization for better results"
   ]
  },
  {
   "cell_type": "code",
   "execution_count": 33,
   "id": "72b16740",
   "metadata": {},
   "outputs": [],
   "source": [
    "from nltk.stem import WordNetLemmatizer\n",
    "\n",
    "lemmatizer = WordNetLemmatizer()"
   ]
  },
  {
   "cell_type": "code",
   "execution_count": 37,
   "id": "a0ca4628",
   "metadata": {},
   "outputs": [],
   "source": [
    "### apply stopwords , Filter and then apply lematization\n",
    "\n",
    "for i in range(len(sentences)):\n",
    "    words = nltk.word_tokenize(sentences[i])\n",
    "    words = [lemmatizer.lemmatize(word.lower(), 'v') for word in words if word not in set(stopwords.words('english'))]\n",
    "    sentences[i] = ' '.join(words) ### converting the list of words to the sentences back"
   ]
  },
  {
   "cell_type": "code",
   "execution_count": 38,
   "id": "fe4d4ea6",
   "metadata": {},
   "outputs": [
    {
     "data": {
      "text/plain": [
       "['visakhapatnam , often refer vizag , coastal citi locat southern state andhra pradesh , india .',\n",
       " 'nestl eastern ghat bay bengal , visakhapatnam renown picturesqu landscap , golden beach , vibrant culture.a one largest citi andhra pradesh , visakhapatnam serv major industri hub , thrive sector ship , fish , steel , petrochem .',\n",
       " \"citi 's strateg locat make crucial port citi , facilit trade commerc domest intern .\",\n",
       " 'visakhapatnam boast rich histori heritag , landmark histor dutch east india compani settlement , ancient buddhist site thotlakonda bavikonda , impo kailasagiri hill offer panoram view citi coastline.beyond industri histor signif , visakhapatnam also popular tourist destin , draw visitor pristin beach like rk beach , rushikonda beach , yarada beach .',\n",
       " 'adventur enthusiast flock citi water sport surf , snorkel , scuba dive , natur lover explor lush araku valley borra cave nearby.with blend natur beauti , cultur heritag , modern amen , visakhapatnam continu enchant visitor resid alik , offer uniqu unforgett experi sea .']"
      ]
     },
     "execution_count": 38,
     "metadata": {},
     "output_type": "execute_result"
    }
   ],
   "source": [
    "sentences"
   ]
  }
 ],
 "metadata": {
  "kernelspec": {
   "display_name": "Python 3 (ipykernel)",
   "language": "python",
   "name": "python3"
  },
  "language_info": {
   "codemirror_mode": {
    "name": "ipython",
    "version": 3
   },
   "file_extension": ".py",
   "mimetype": "text/x-python",
   "name": "python",
   "nbconvert_exporter": "python",
   "pygments_lexer": "ipython3",
   "version": "3.11.1"
  }
 },
 "nbformat": 4,
 "nbformat_minor": 5
}
