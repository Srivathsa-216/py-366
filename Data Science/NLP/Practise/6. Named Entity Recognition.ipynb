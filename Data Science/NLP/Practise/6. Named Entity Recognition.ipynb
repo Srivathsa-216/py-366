{
 "cells": [
  {
   "cell_type": "markdown",
   "id": "4a2bf1bf",
   "metadata": {},
   "source": [
    "<b><i>Named Entity Recognition (NER)</b></i> is a natural language processing (NLP) task that involves identifying and categorizing named entities within unstructured text into predefined categories such as person names, organization names, locations, dates, and more. The goal of NER is to extract and classify specific entities from text to understand the underlying meaning and relationships within the content.\n",
    "\n",
    "Here's how NER works:\n",
    "\n",
    "1. Tokenization: The text is divided into individual words or tokens.\n",
    "\n",
    "2. Part-of-Speech (POS) Tagging: Each token is assigned a part-of-speech tag (e.g., noun, verb, adjective) to understand its grammatical function in the sentence.\n",
    "\n",
    "3. Named Entity Recognition: NER algorithms analyze the tokenized text and assign labels to tokens that represent named entities. These labels typically include categories such as person names, organization names, locations, dates, monetary values, and more.\n",
    "\n",
    "4. Entity Categorization: The recognized named entities are categorized into predefined types or classes. For example, \"New York City\" might be categorized as a location entity, \"Google\" as an organization entity, and \"John Smith\" as a person entity.\n",
    "\n",
    "NER is widely used in various NLP applications, including information extraction, document summarization, question answering, sentiment analysis, and more. It enables systems to automatically identify and extract relevant information from large volumes of text, improving efficiency and accuracy in tasks that require understanding textual data. Additionally, NER plays a crucial role in entity linking, where identified entities are linked to knowledge bases or databases for further enrichment and analysis."
   ]
  },
  {
   "cell_type": "code",
   "execution_count": 1,
   "id": "49e12164",
   "metadata": {},
   "outputs": [],
   "source": [
    "sentence=\"The Eiffel Tower was built from 1887 to 1889 by Gustave Eiffel, whose company specialized in building metal frameworks and structures.\""
   ]
  },
  {
   "cell_type": "code",
   "execution_count": 2,
   "id": "51e86150",
   "metadata": {},
   "outputs": [
    {
     "data": {
      "text/plain": [
       "['The',\n",
       " 'Eiffel',\n",
       " 'Tower',\n",
       " 'was',\n",
       " 'built',\n",
       " 'from',\n",
       " '1887',\n",
       " 'to',\n",
       " '1889',\n",
       " 'by',\n",
       " 'Gustave',\n",
       " 'Eiffel',\n",
       " ',',\n",
       " 'whose',\n",
       " 'company',\n",
       " 'specialized',\n",
       " 'in',\n",
       " 'building',\n",
       " 'metal',\n",
       " 'frameworks',\n",
       " 'and',\n",
       " 'structures',\n",
       " '.']"
      ]
     },
     "execution_count": 2,
     "metadata": {},
     "output_type": "execute_result"
    }
   ],
   "source": [
    "import nltk\n",
    "nltk.word_tokenize(sentence)"
   ]
  },
  {
   "cell_type": "code",
   "execution_count": 3,
   "id": "9f299222",
   "metadata": {},
   "outputs": [],
   "source": [
    "words = nltk.word_tokenize(sentence)"
   ]
  },
  {
   "cell_type": "code",
   "execution_count": 5,
   "id": "dce9debe",
   "metadata": {},
   "outputs": [],
   "source": [
    "tagged_ele = nltk.pos_tag(words)"
   ]
  },
  {
   "cell_type": "code",
   "execution_count": 7,
   "id": "661474f5",
   "metadata": {},
   "outputs": [
    {
     "name": "stderr",
     "output_type": "stream",
     "text": [
      "[nltk_data] Downloading package maxent_ne_chunker to\n",
      "[nltk_data]     C:\\Users\\DELL\\AppData\\Roaming\\nltk_data...\n",
      "[nltk_data]   Unzipping chunkers\\maxent_ne_chunker.zip.\n"
     ]
    },
    {
     "data": {
      "text/plain": [
       "True"
      ]
     },
     "execution_count": 7,
     "metadata": {},
     "output_type": "execute_result"
    }
   ],
   "source": [
    "nltk.download('maxent_ne_chunker')"
   ]
  },
  {
   "cell_type": "code",
   "execution_count": 9,
   "id": "ad7a1fe6",
   "metadata": {},
   "outputs": [
    {
     "name": "stderr",
     "output_type": "stream",
     "text": [
      "[nltk_data] Downloading package words to\n",
      "[nltk_data]     C:\\Users\\DELL\\AppData\\Roaming\\nltk_data...\n",
      "[nltk_data]   Unzipping corpora\\words.zip.\n"
     ]
    },
    {
     "data": {
      "text/plain": [
       "True"
      ]
     },
     "execution_count": 9,
     "metadata": {},
     "output_type": "execute_result"
    }
   ],
   "source": [
    "nltk.download('words')"
   ]
  },
  {
   "cell_type": "code",
   "execution_count": 11,
   "id": "4afc8d84",
   "metadata": {},
   "outputs": [],
   "source": [
    "nltk.ne_chunk(tagged_ele).draw()"
   ]
  }
 ],
 "metadata": {
  "kernelspec": {
   "display_name": "Python 3 (ipykernel)",
   "language": "python",
   "name": "python3"
  },
  "language_info": {
   "codemirror_mode": {
    "name": "ipython",
    "version": 3
   },
   "file_extension": ".py",
   "mimetype": "text/x-python",
   "name": "python",
   "nbconvert_exporter": "python",
   "pygments_lexer": "ipython3",
   "version": "3.11.1"
  }
 },
 "nbformat": 4,
 "nbformat_minor": 5
}
