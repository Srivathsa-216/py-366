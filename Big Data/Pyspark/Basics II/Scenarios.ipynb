{
 "cells": [
  {
   "cell_type": "markdown",
   "id": "3a9edbed",
   "metadata": {},
   "source": [
    "# <center><b><i> Real Time Scenarios </i></b></center>\n",
    "\n",
    "\n",
    "<br>"
   ]
  },
  {
   "cell_type": "markdown",
   "id": "0663f079",
   "metadata": {},
   "source": [
    "1. Remove double quotes from value of json string using Pyspark"
   ]
  },
  {
   "cell_type": "code",
   "execution_count": 1,
   "id": "fe2f0b9e",
   "metadata": {},
   "outputs": [],
   "source": [
    "import pyspark\n",
    "from pyspark.sql import SparkSession\n",
    "spark = SparkSession.builder.appName('Practise').getOrCreate()"
   ]
  },
  {
   "cell_type": "code",
   "execution_count": 3,
   "id": "783100e7",
   "metadata": {},
   "outputs": [],
   "source": [
    "spark.conf.set(\"spark.sql.execution.arrow.pyspark.enabled\", \"true\")"
   ]
  },
  {
   "cell_type": "code",
   "execution_count": 24,
   "id": "cd995f48",
   "metadata": {},
   "outputs": [
    {
     "name": "stdout",
     "output_type": "stream",
     "text": [
      "+----+--------------------+\n",
      "|SlNo|                Data|\n",
      "+----+--------------------+\n",
      "|   1|{\"Id\": \"1\", \"Name...|\n",
      "+----+--------------------+\n",
      "\n"
     ]
    }
   ],
   "source": [
    "jsonString = '{\"Id\": \"1\", \"Name\":\"Manoj\"Kumar\", \"City\": \"Belur\"}'\n",
    "data = [\n",
    "    (1, jsonString)\n",
    "]\n",
    "cols = [\"SlNo\", \"Data\"]\n",
    "\n",
    "df = spark.createDataFrame(data, cols)\n",
    "df.show()"
   ]
  },
  {
   "cell_type": "code",
   "execution_count": 25,
   "id": "65b782e3",
   "metadata": {},
   "outputs": [
    {
     "data": {
      "text/plain": [
       "DataFrame[SlNo: bigint, Data: string]"
      ]
     },
     "metadata": {},
     "output_type": "display_data"
    }
   ],
   "source": [
    "display(df)"
   ]
  },
  {
   "cell_type": "code",
   "execution_count": 26,
   "id": "f7b6fa33",
   "metadata": {},
   "outputs": [
    {
     "name": "stdout",
     "output_type": "stream",
     "text": [
      "+----+--------------------------------------------------+\n",
      "|SlNo|Data                                              |\n",
      "+----+--------------------------------------------------+\n",
      "|1   |{\"Id\": \"1\", \"Name\":\"Manoj\"Kumar\", \"City\": \"Belur\"}|\n",
      "+----+--------------------------------------------------+\n",
      "\n"
     ]
    }
   ],
   "source": [
    "df.show(truncate=False)"
   ]
  },
  {
   "cell_type": "code",
   "execution_count": 27,
   "id": "a8973a0a",
   "metadata": {},
   "outputs": [],
   "source": [
    "from pyspark.sql.functions import split, col, lit"
   ]
  },
  {
   "cell_type": "code",
   "execution_count": 28,
   "id": "96c798e2",
   "metadata": {},
   "outputs": [
    {
     "name": "stdout",
     "output_type": "stream",
     "text": [
      "+----+--------------------------------------------------+------------+--------+------------------------------+\n",
      "|SlNo|Data                                              |col3        |col4    |col5                          |\n",
      "+----+--------------------------------------------------+------------+--------+------------------------------+\n",
      "|1   |{\"Id\": \"1\", \"Name\":\"Manoj\"Kumar\", \"City\": \"Belur\"}|{\"Id\": \"1\", |\"Name\":\"|Manoj\"Kumar\", \"City\": \"Belur\"}|\n",
      "+----+--------------------------------------------------+------------+--------+------------------------------+\n",
      "\n"
     ]
    }
   ],
   "source": [
    "df = df.withColumn(\"col3\", split(col('Data'),'\"Name\":\"')[0])\\\n",
    ".withColumn(\"col4\", lit('\"Name\":\"'))\\\n",
    ".withColumn(\"col5\",split(col('Data'), '\"Name\":\"')[1])\n",
    "\n",
    "df.show(truncate=False)"
   ]
  },
  {
   "cell_type": "code",
   "execution_count": 30,
   "id": "3c49a351",
   "metadata": {},
   "outputs": [],
   "source": [
    "from pyspark.sql.functions import *"
   ]
  },
  {
   "cell_type": "code",
   "execution_count": 32,
   "id": "6e2fed3a",
   "metadata": {},
   "outputs": [
    {
     "name": "stdout",
     "output_type": "stream",
     "text": [
      "+----+--------------------------------------------------+------------+--------+------------------------------+---------------------------------+-----------------------------+\n",
      "|SlNo|Data                                              |col3        |col4    |col5                          |col6                             |col7                         |\n",
      "+----+--------------------------------------------------+------------+--------+------------------------------+---------------------------------+-----------------------------+\n",
      "|1   |{\"Id\": \"1\", \"Name\":\"Manoj\"Kumar\", \"City\": \"Belur\"}|{\"Id\": \"1\", |\"Name\":\"|Manoj\"Kumar\", \"City\": \"Belur\"}|[Manoj, Kumar\", \"City\": \"Belur\"}]|ManojKumar\", \"City\": \"Belur\"}|\n",
      "+----+--------------------------------------------------+------------+--------+------------------------------+---------------------------------+-----------------------------+\n",
      "\n"
     ]
    }
   ],
   "source": [
    "df = df.withColumn(\"col6\", split(col(\"col5\"), '\"', 2))\n",
    "df = df.withColumn(\"col7\", concat_ws('', col(\"col6\")))\n",
    "\n",
    "df.show(truncate=False)"
   ]
  },
  {
   "cell_type": "code",
   "execution_count": 33,
   "id": "7df6a344",
   "metadata": {},
   "outputs": [],
   "source": [
    "df = df.withColumn(\"col8\", concat(col(\"col3\"), col(\"col4\"), col(\"col7\"))).select(col(\"Data\"),col(\"col8\"))"
   ]
  },
  {
   "cell_type": "code",
   "execution_count": 34,
   "id": "e71559c9",
   "metadata": {},
   "outputs": [
    {
     "name": "stdout",
     "output_type": "stream",
     "text": [
      "+--------------------------------------------------+-------------------------------------------------+\n",
      "|Data                                              |col8                                             |\n",
      "+--------------------------------------------------+-------------------------------------------------+\n",
      "|{\"Id\": \"1\", \"Name\":\"Manoj\"Kumar\", \"City\": \"Belur\"}|{\"Id\": \"1\", \"Name\":\"ManojKumar\", \"City\": \"Belur\"}|\n",
      "+--------------------------------------------------+-------------------------------------------------+\n",
      "\n"
     ]
    }
   ],
   "source": [
    "df.show(truncate = False)"
   ]
  },
  {
   "cell_type": "code",
   "execution_count": null,
   "id": "75b89cda",
   "metadata": {},
   "outputs": [],
   "source": []
  },
  {
   "cell_type": "code",
   "execution_count": null,
   "id": "9f15eb32",
   "metadata": {},
   "outputs": [],
   "source": []
  },
  {
   "cell_type": "code",
   "execution_count": null,
   "id": "ba2e411f",
   "metadata": {},
   "outputs": [],
   "source": []
  },
  {
   "cell_type": "code",
   "execution_count": null,
   "id": "fb9d450c",
   "metadata": {},
   "outputs": [],
   "source": []
  },
  {
   "cell_type": "code",
   "execution_count": null,
   "id": "09d4b6c0",
   "metadata": {},
   "outputs": [],
   "source": []
  }
 ],
 "metadata": {
  "kernelspec": {
   "display_name": "Python 3 (ipykernel)",
   "language": "python",
   "name": "python3"
  },
  "language_info": {
   "codemirror_mode": {
    "name": "ipython",
    "version": 3
   },
   "file_extension": ".py",
   "mimetype": "text/x-python",
   "name": "python",
   "nbconvert_exporter": "python",
   "pygments_lexer": "ipython3",
   "version": "3.11.1"
  }
 },
 "nbformat": 4,
 "nbformat_minor": 5
}
